{
 "cells": [
  {
   "cell_type": "markdown",
   "metadata": {
    "id": "FS8uPD0dmNpQ"
   },
   "source": [
    "# Background and Context\n",
    "\n",
    "Businesses like banks that provide service have to worry about the problem of 'Churn' i.e. customers leaving and joining another service provider. It is important to understand which aspects of the service influence a customer's decision in this regard. Management can concentrate efforts on the improvement of service, keeping in mind these priorities.\n",
    "\n",
    "# Objective\n",
    "\n",
    "Given a Bank customer, build a neural network-based classifier that can determine whether they will leave or not in the next 6 months.\n",
    "\n",
    "# Data Description\n",
    "\n",
    "The case study is from an open-source dataset from Kaggle. The dataset contains 10,000 sample points with 14 distinct features such as CustomerId, CreditScore, Geography, Gender, Age, Tenure, Balance, etc.\n",
    "\n",
    "# Data Dictionary\n",
    "\n",
    "1. CustomerId: Unique ID which is assigned to each customer\n",
    "\n",
    "2. Surname: Last name of the customer \n",
    "\n",
    "3. CreditScore: It defines the credit history of the customer.  \n",
    "\n",
    "4. Geography: A customer’s location    \n",
    "\n",
    "5. Gender: It defines the Gender of the customer \n",
    "\n",
    "6. Age: Age of the customer   \n",
    "\n",
    "7. Tenure: Number of years for which the customer has been with the bank\n",
    "\n",
    "8. NumOfProducts: It refers to the number of products that a customer has purchased through the bank.\n",
    "\n",
    "9. Balance: Account balance\n",
    "\n",
    "10. HasCrCard: It is a categorical variable that decides whether the 11. customer has a credit card or not.\n",
    "\n",
    "11. EstimatedSalary: Estimated salary \n",
    "\n",
    "12. isActiveMember: It is a categorical variable that decides whether the customer is an active member of the bank or not ( Active member in the sense, using bank products regularly, making transactions, etc )\n",
    "\n",
    "13. Excited: It is a categorical variable that decides whether the customer left the bank within six months or not. It can take two values \n",
    "                    0=No ( Customer did not leave the bank )\n",
    "\n",
    "                    1=Yes ( Customer left the bank )\n",
    "\n",
    "\n"
   ]
  },
  {
   "cell_type": "code",
   "execution_count": 815,
   "metadata": {
    "colab": {
     "base_uri": "https://localhost:8080/",
     "height": 35
    },
    "id": "uPscxN6_io_1",
    "outputId": "1da6ce52-ec64-4c80-91ec-64e0bc5e00b5"
   },
   "outputs": [
    {
     "data": {
      "application/vnd.google.colaboratory.intrinsic+json": {
       "type": "string"
      },
      "text/plain": [
       "'2.8.0'"
      ]
     },
     "execution_count": 815,
     "metadata": {},
     "output_type": "execute_result"
    }
   ],
   "source": [
    "%tensorflow_version 2.x\n",
    "import tensorflow\n",
    "tensorflow.__version__"
   ]
  },
  {
   "cell_type": "code",
   "execution_count": 816,
   "metadata": {
    "id": "whQ5xbXsir85"
   },
   "outputs": [],
   "source": [
    "# Initialize the random number generator\n",
    "import random\n",
    "random.seed(0)\n",
    "\n",
    "# Ignore the warnings\n",
    "import warnings\n",
    "warnings.filterwarnings(\"ignore\")"
   ]
  },
  {
   "cell_type": "code",
   "execution_count": 817,
   "metadata": {
    "colab": {
     "base_uri": "https://localhost:8080/"
    },
    "id": "Pv_6eIAQiZ1Q",
    "outputId": "1c719faf-0589-4ac8-cb13-a9b1f0f46277"
   },
   "outputs": [
    {
     "name": "stdout",
     "output_type": "stream",
     "text": [
      "Drive already mounted at /content/drive; to attempt to forcibly remount, call drive.mount(\"/content/drive\", force_remount=True).\n"
     ]
    }
   ],
   "source": [
    "from google.colab import drive\n",
    "drive.mount('/content/drive')"
   ]
  },
  {
   "cell_type": "markdown",
   "metadata": {
    "id": "iEQU5LkdjMQq"
   },
   "source": [
    "# 1.0 Import necessary libraries"
   ]
  },
  {
   "cell_type": "code",
   "execution_count": 818,
   "metadata": {
    "id": "v60IiSj9jSE8"
   },
   "outputs": [],
   "source": [
    "import numpy as np\n",
    "import pandas as pd\n",
    "import matplotlib.pyplot as plt\n",
    "import seaborn as sns\n",
    "sns.set()\n",
    "from matplotlib import pyplot\n",
    "from scipy import stats\n",
    "from sklearn.model_selection import train_test_split\n",
    "from sklearn.linear_model import LogisticRegression\n",
    "from sklearn import preprocessing\n",
    "from sklearn.preprocessing import StandardScaler\n",
    "from sklearn.metrics import explained_variance_score, mean_squared_error, r2_score, mean_absolute_error\n",
    "from collections import Counter\n",
    "from keras import callbacks\n",
    "import tensorflow as tf\n",
    "from tensorflow.keras.layers import Dense, Dropout,InputLayer\n",
    "from tensorflow.keras.models import Sequential\n",
    "from keras.layers import BatchNormalization\n",
    "from tensorflow.keras import regularizers\n",
    "from tensorflow.keras import backend\n",
    "from random import shuffle\n",
    "from keras.callbacks import ModelCheckpoint\n",
    "from tensorflow.keras.optimizers import Adam\n",
    "from tensorflow.keras.optimizers import RMSprop\n",
    "import warnings\n",
    "warnings.filterwarnings(\"ignore\")"
   ]
  },
  {
   "cell_type": "markdown",
   "metadata": {
    "id": "8zrQ02uwq7gJ"
   },
   "source": [
    "# Reading Dataset and Feature Elimination"
   ]
  },
  {
   "cell_type": "markdown",
   "metadata": {
    "id": "ikYnz5O3rd8_"
   },
   "source": [
    "## 1.1 Load the dataset"
   ]
  },
  {
   "cell_type": "code",
   "execution_count": 819,
   "metadata": {
    "colab": {
     "base_uri": "https://localhost:8080/",
     "height": 487
    },
    "id": "658KNUNykO4E",
    "outputId": "594680d8-dbbd-4cc2-f73f-08d312628320"
   },
   "outputs": [
    {
     "data": {
      "text/html": [
       "\n",
       "  <div id=\"df-2ee69376-e1b0-41e7-b379-609f1bcb6d6a\">\n",
       "    <div class=\"colab-df-container\">\n",
       "      <div>\n",
       "<style scoped>\n",
       "    .dataframe tbody tr th:only-of-type {\n",
       "        vertical-align: middle;\n",
       "    }\n",
       "\n",
       "    .dataframe tbody tr th {\n",
       "        vertical-align: top;\n",
       "    }\n",
       "\n",
       "    .dataframe thead th {\n",
       "        text-align: right;\n",
       "    }\n",
       "</style>\n",
       "<table border=\"1\" class=\"dataframe\">\n",
       "  <thead>\n",
       "    <tr style=\"text-align: right;\">\n",
       "      <th></th>\n",
       "      <th>RowNumber</th>\n",
       "      <th>CustomerId</th>\n",
       "      <th>Surname</th>\n",
       "      <th>CreditScore</th>\n",
       "      <th>Geography</th>\n",
       "      <th>Gender</th>\n",
       "      <th>Age</th>\n",
       "      <th>Tenure</th>\n",
       "      <th>Balance</th>\n",
       "      <th>NumOfProducts</th>\n",
       "      <th>HasCrCard</th>\n",
       "      <th>IsActiveMember</th>\n",
       "      <th>EstimatedSalary</th>\n",
       "      <th>Exited</th>\n",
       "    </tr>\n",
       "  </thead>\n",
       "  <tbody>\n",
       "    <tr>\n",
       "      <th>0</th>\n",
       "      <td>1</td>\n",
       "      <td>15634602</td>\n",
       "      <td>Hargrave</td>\n",
       "      <td>619</td>\n",
       "      <td>France</td>\n",
       "      <td>Female</td>\n",
       "      <td>42</td>\n",
       "      <td>2</td>\n",
       "      <td>0.000</td>\n",
       "      <td>1</td>\n",
       "      <td>1</td>\n",
       "      <td>1</td>\n",
       "      <td>101348.880</td>\n",
       "      <td>1</td>\n",
       "    </tr>\n",
       "    <tr>\n",
       "      <th>1</th>\n",
       "      <td>2</td>\n",
       "      <td>15647311</td>\n",
       "      <td>Hill</td>\n",
       "      <td>608</td>\n",
       "      <td>Spain</td>\n",
       "      <td>Female</td>\n",
       "      <td>41</td>\n",
       "      <td>1</td>\n",
       "      <td>83807.860</td>\n",
       "      <td>1</td>\n",
       "      <td>0</td>\n",
       "      <td>1</td>\n",
       "      <td>112542.580</td>\n",
       "      <td>0</td>\n",
       "    </tr>\n",
       "    <tr>\n",
       "      <th>2</th>\n",
       "      <td>3</td>\n",
       "      <td>15619304</td>\n",
       "      <td>Onio</td>\n",
       "      <td>502</td>\n",
       "      <td>France</td>\n",
       "      <td>Female</td>\n",
       "      <td>42</td>\n",
       "      <td>8</td>\n",
       "      <td>159660.800</td>\n",
       "      <td>3</td>\n",
       "      <td>1</td>\n",
       "      <td>0</td>\n",
       "      <td>113931.570</td>\n",
       "      <td>1</td>\n",
       "    </tr>\n",
       "    <tr>\n",
       "      <th>3</th>\n",
       "      <td>4</td>\n",
       "      <td>15701354</td>\n",
       "      <td>Boni</td>\n",
       "      <td>699</td>\n",
       "      <td>France</td>\n",
       "      <td>Female</td>\n",
       "      <td>39</td>\n",
       "      <td>1</td>\n",
       "      <td>0.000</td>\n",
       "      <td>2</td>\n",
       "      <td>0</td>\n",
       "      <td>0</td>\n",
       "      <td>93826.630</td>\n",
       "      <td>0</td>\n",
       "    </tr>\n",
       "    <tr>\n",
       "      <th>4</th>\n",
       "      <td>5</td>\n",
       "      <td>15737888</td>\n",
       "      <td>Mitchell</td>\n",
       "      <td>850</td>\n",
       "      <td>Spain</td>\n",
       "      <td>Female</td>\n",
       "      <td>43</td>\n",
       "      <td>2</td>\n",
       "      <td>125510.820</td>\n",
       "      <td>1</td>\n",
       "      <td>1</td>\n",
       "      <td>1</td>\n",
       "      <td>79084.100</td>\n",
       "      <td>0</td>\n",
       "    </tr>\n",
       "    <tr>\n",
       "      <th>...</th>\n",
       "      <td>...</td>\n",
       "      <td>...</td>\n",
       "      <td>...</td>\n",
       "      <td>...</td>\n",
       "      <td>...</td>\n",
       "      <td>...</td>\n",
       "      <td>...</td>\n",
       "      <td>...</td>\n",
       "      <td>...</td>\n",
       "      <td>...</td>\n",
       "      <td>...</td>\n",
       "      <td>...</td>\n",
       "      <td>...</td>\n",
       "      <td>...</td>\n",
       "    </tr>\n",
       "    <tr>\n",
       "      <th>9995</th>\n",
       "      <td>9996</td>\n",
       "      <td>15606229</td>\n",
       "      <td>Obijiaku</td>\n",
       "      <td>771</td>\n",
       "      <td>France</td>\n",
       "      <td>Male</td>\n",
       "      <td>39</td>\n",
       "      <td>5</td>\n",
       "      <td>0.000</td>\n",
       "      <td>2</td>\n",
       "      <td>1</td>\n",
       "      <td>0</td>\n",
       "      <td>96270.640</td>\n",
       "      <td>0</td>\n",
       "    </tr>\n",
       "    <tr>\n",
       "      <th>9996</th>\n",
       "      <td>9997</td>\n",
       "      <td>15569892</td>\n",
       "      <td>Johnstone</td>\n",
       "      <td>516</td>\n",
       "      <td>France</td>\n",
       "      <td>Male</td>\n",
       "      <td>35</td>\n",
       "      <td>10</td>\n",
       "      <td>57369.610</td>\n",
       "      <td>1</td>\n",
       "      <td>1</td>\n",
       "      <td>1</td>\n",
       "      <td>101699.770</td>\n",
       "      <td>0</td>\n",
       "    </tr>\n",
       "    <tr>\n",
       "      <th>9997</th>\n",
       "      <td>9998</td>\n",
       "      <td>15584532</td>\n",
       "      <td>Liu</td>\n",
       "      <td>709</td>\n",
       "      <td>France</td>\n",
       "      <td>Female</td>\n",
       "      <td>36</td>\n",
       "      <td>7</td>\n",
       "      <td>0.000</td>\n",
       "      <td>1</td>\n",
       "      <td>0</td>\n",
       "      <td>1</td>\n",
       "      <td>42085.580</td>\n",
       "      <td>1</td>\n",
       "    </tr>\n",
       "    <tr>\n",
       "      <th>9998</th>\n",
       "      <td>9999</td>\n",
       "      <td>15682355</td>\n",
       "      <td>Sabbatini</td>\n",
       "      <td>772</td>\n",
       "      <td>Germany</td>\n",
       "      <td>Male</td>\n",
       "      <td>42</td>\n",
       "      <td>3</td>\n",
       "      <td>75075.310</td>\n",
       "      <td>2</td>\n",
       "      <td>1</td>\n",
       "      <td>0</td>\n",
       "      <td>92888.520</td>\n",
       "      <td>1</td>\n",
       "    </tr>\n",
       "    <tr>\n",
       "      <th>9999</th>\n",
       "      <td>10000</td>\n",
       "      <td>15628319</td>\n",
       "      <td>Walker</td>\n",
       "      <td>792</td>\n",
       "      <td>France</td>\n",
       "      <td>Female</td>\n",
       "      <td>28</td>\n",
       "      <td>4</td>\n",
       "      <td>130142.790</td>\n",
       "      <td>1</td>\n",
       "      <td>1</td>\n",
       "      <td>0</td>\n",
       "      <td>38190.780</td>\n",
       "      <td>0</td>\n",
       "    </tr>\n",
       "  </tbody>\n",
       "</table>\n",
       "<p>10000 rows × 14 columns</p>\n",
       "</div>\n",
       "      <button class=\"colab-df-convert\" onclick=\"convertToInteractive('df-2ee69376-e1b0-41e7-b379-609f1bcb6d6a')\"\n",
       "              title=\"Convert this dataframe to an interactive table.\"\n",
       "              style=\"display:none;\">\n",
       "        \n",
       "  <svg xmlns=\"http://www.w3.org/2000/svg\" height=\"24px\"viewBox=\"0 0 24 24\"\n",
       "       width=\"24px\">\n",
       "    <path d=\"M0 0h24v24H0V0z\" fill=\"none\"/>\n",
       "    <path d=\"M18.56 5.44l.94 2.06.94-2.06 2.06-.94-2.06-.94-.94-2.06-.94 2.06-2.06.94zm-11 1L8.5 8.5l.94-2.06 2.06-.94-2.06-.94L8.5 2.5l-.94 2.06-2.06.94zm10 10l.94 2.06.94-2.06 2.06-.94-2.06-.94-.94-2.06-.94 2.06-2.06.94z\"/><path d=\"M17.41 7.96l-1.37-1.37c-.4-.4-.92-.59-1.43-.59-.52 0-1.04.2-1.43.59L10.3 9.45l-7.72 7.72c-.78.78-.78 2.05 0 2.83L4 21.41c.39.39.9.59 1.41.59.51 0 1.02-.2 1.41-.59l7.78-7.78 2.81-2.81c.8-.78.8-2.07 0-2.86zM5.41 20L4 18.59l7.72-7.72 1.47 1.35L5.41 20z\"/>\n",
       "  </svg>\n",
       "      </button>\n",
       "      \n",
       "  <style>\n",
       "    .colab-df-container {\n",
       "      display:flex;\n",
       "      flex-wrap:wrap;\n",
       "      gap: 12px;\n",
       "    }\n",
       "\n",
       "    .colab-df-convert {\n",
       "      background-color: #E8F0FE;\n",
       "      border: none;\n",
       "      border-radius: 50%;\n",
       "      cursor: pointer;\n",
       "      display: none;\n",
       "      fill: #1967D2;\n",
       "      height: 32px;\n",
       "      padding: 0 0 0 0;\n",
       "      width: 32px;\n",
       "    }\n",
       "\n",
       "    .colab-df-convert:hover {\n",
       "      background-color: #E2EBFA;\n",
       "      box-shadow: 0px 1px 2px rgba(60, 64, 67, 0.3), 0px 1px 3px 1px rgba(60, 64, 67, 0.15);\n",
       "      fill: #174EA6;\n",
       "    }\n",
       "\n",
       "    [theme=dark] .colab-df-convert {\n",
       "      background-color: #3B4455;\n",
       "      fill: #D2E3FC;\n",
       "    }\n",
       "\n",
       "    [theme=dark] .colab-df-convert:hover {\n",
       "      background-color: #434B5C;\n",
       "      box-shadow: 0px 1px 3px 1px rgba(0, 0, 0, 0.15);\n",
       "      filter: drop-shadow(0px 1px 2px rgba(0, 0, 0, 0.3));\n",
       "      fill: #FFFFFF;\n",
       "    }\n",
       "  </style>\n",
       "\n",
       "      <script>\n",
       "        const buttonEl =\n",
       "          document.querySelector('#df-2ee69376-e1b0-41e7-b379-609f1bcb6d6a button.colab-df-convert');\n",
       "        buttonEl.style.display =\n",
       "          google.colab.kernel.accessAllowed ? 'block' : 'none';\n",
       "\n",
       "        async function convertToInteractive(key) {\n",
       "          const element = document.querySelector('#df-2ee69376-e1b0-41e7-b379-609f1bcb6d6a');\n",
       "          const dataTable =\n",
       "            await google.colab.kernel.invokeFunction('convertToInteractive',\n",
       "                                                     [key], {});\n",
       "          if (!dataTable) return;\n",
       "\n",
       "          const docLinkHtml = 'Like what you see? Visit the ' +\n",
       "            '<a target=\"_blank\" href=https://colab.research.google.com/notebooks/data_table.ipynb>data table notebook</a>'\n",
       "            + ' to learn more about interactive tables.';\n",
       "          element.innerHTML = '';\n",
       "          dataTable['output_type'] = 'display_data';\n",
       "          await google.colab.output.renderOutput(dataTable, element);\n",
       "          const docLink = document.createElement('div');\n",
       "          docLink.innerHTML = docLinkHtml;\n",
       "          element.appendChild(docLink);\n",
       "        }\n",
       "      </script>\n",
       "    </div>\n",
       "  </div>\n",
       "  "
      ],
      "text/plain": [
       "      RowNumber  CustomerId    Surname  CreditScore Geography  Gender  Age  \\\n",
       "0             1    15634602   Hargrave          619    France  Female   42   \n",
       "1             2    15647311       Hill          608     Spain  Female   41   \n",
       "2             3    15619304       Onio          502    France  Female   42   \n",
       "3             4    15701354       Boni          699    France  Female   39   \n",
       "4             5    15737888   Mitchell          850     Spain  Female   43   \n",
       "...         ...         ...        ...          ...       ...     ...  ...   \n",
       "9995       9996    15606229   Obijiaku          771    France    Male   39   \n",
       "9996       9997    15569892  Johnstone          516    France    Male   35   \n",
       "9997       9998    15584532        Liu          709    France  Female   36   \n",
       "9998       9999    15682355  Sabbatini          772   Germany    Male   42   \n",
       "9999      10000    15628319     Walker          792    France  Female   28   \n",
       "\n",
       "      Tenure    Balance  NumOfProducts  HasCrCard  IsActiveMember  \\\n",
       "0          2      0.000              1          1               1   \n",
       "1          1  83807.860              1          0               1   \n",
       "2          8 159660.800              3          1               0   \n",
       "3          1      0.000              2          0               0   \n",
       "4          2 125510.820              1          1               1   \n",
       "...      ...        ...            ...        ...             ...   \n",
       "9995       5      0.000              2          1               0   \n",
       "9996      10  57369.610              1          1               1   \n",
       "9997       7      0.000              1          0               1   \n",
       "9998       3  75075.310              2          1               0   \n",
       "9999       4 130142.790              1          1               0   \n",
       "\n",
       "      EstimatedSalary  Exited  \n",
       "0          101348.880       1  \n",
       "1          112542.580       0  \n",
       "2          113931.570       1  \n",
       "3           93826.630       0  \n",
       "4           79084.100       0  \n",
       "...               ...     ...  \n",
       "9995        96270.640       0  \n",
       "9996       101699.770       0  \n",
       "9997        42085.580       1  \n",
       "9998        92888.520       1  \n",
       "9999        38190.780       0  \n",
       "\n",
       "[10000 rows x 14 columns]"
      ]
     },
     "execution_count": 819,
     "metadata": {},
     "output_type": "execute_result"
    }
   ],
   "source": [
    "\n",
    "data = pd.read_csv('/content/drive/MyDrive/Churn.csv')\n",
    "data"
   ]
  },
  {
   "cell_type": "markdown",
   "metadata": {
    "id": "XNahfQZtrjro"
   },
   "source": [
    "## 1.2 Checking the shape of the dataset"
   ]
  },
  {
   "cell_type": "code",
   "execution_count": 820,
   "metadata": {
    "colab": {
     "base_uri": "https://localhost:8080/"
    },
    "id": "NdH9fQENlZSy",
    "outputId": "4c29868b-abcc-44d5-a8ca-7cb48bbc4681"
   },
   "outputs": [
    {
     "name": "stdout",
     "output_type": "stream",
     "text": [
      "The dataset contains 10000 rows and 14 columns.\n"
     ]
    }
   ],
   "source": [
    "print(f\"The dataset contains {data.shape[0]} rows and {data.shape[1]} columns.\")"
   ]
  },
  {
   "cell_type": "code",
   "execution_count": 821,
   "metadata": {
    "colab": {
     "base_uri": "https://localhost:8080/"
    },
    "id": "UICBySgnmiDL",
    "outputId": "3b3e0f6f-e924-4bfe-f806-84d9e4c79e29"
   },
   "outputs": [
    {
     "data": {
      "text/plain": [
       "RowNumber          10000\n",
       "CustomerId         10000\n",
       "Surname             2932\n",
       "CreditScore          460\n",
       "Geography              3\n",
       "Gender                 2\n",
       "Age                   70\n",
       "Tenure                11\n",
       "Balance             6382\n",
       "NumOfProducts          4\n",
       "HasCrCard              2\n",
       "IsActiveMember         2\n",
       "EstimatedSalary     9999\n",
       "Exited                 2\n",
       "dtype: int64"
      ]
     },
     "execution_count": 821,
     "metadata": {},
     "output_type": "execute_result"
    }
   ],
   "source": [
    "data.nunique()"
   ]
  },
  {
   "cell_type": "markdown",
   "metadata": {
    "id": "4A9UF4zErsTz"
   },
   "source": [
    "# There are 3 steps in Data Preprocessing:\n",
    "\n",
    "#### STEP A :Data format checking:\n",
    "1. Data Dimensioning\n",
    "2. Checking the Data types\n",
    "\n",
    "## 1.3A Checking the length of the dataset ()"
   ]
  },
  {
   "cell_type": "code",
   "execution_count": 822,
   "metadata": {
    "colab": {
     "base_uri": "https://localhost:8080/"
    },
    "id": "EWpIEHxNsKAP",
    "outputId": "853eb791-68ff-4c53-8753-047428fec965"
   },
   "outputs": [
    {
     "data": {
      "text/plain": [
       "10000"
      ]
     },
     "execution_count": 822,
     "metadata": {},
     "output_type": "execute_result"
    }
   ],
   "source": [
    "len(data)"
   ]
  },
  {
   "cell_type": "markdown",
   "metadata": {
    "id": "bJLxbeaysNll"
   },
   "source": [
    "## 1.4A To view first 5 rows of the dataset"
   ]
  },
  {
   "cell_type": "code",
   "execution_count": 823,
   "metadata": {
    "colab": {
     "base_uri": "https://localhost:8080/",
     "height": 270
    },
    "id": "UcIDEEo0sSyO",
    "outputId": "324b2321-7c52-4058-fc8d-ef1597cc5ff8"
   },
   "outputs": [
    {
     "data": {
      "text/html": [
       "\n",
       "  <div id=\"df-a898fbc1-c60a-429b-b0b5-039d8aea82a5\">\n",
       "    <div class=\"colab-df-container\">\n",
       "      <div>\n",
       "<style scoped>\n",
       "    .dataframe tbody tr th:only-of-type {\n",
       "        vertical-align: middle;\n",
       "    }\n",
       "\n",
       "    .dataframe tbody tr th {\n",
       "        vertical-align: top;\n",
       "    }\n",
       "\n",
       "    .dataframe thead th {\n",
       "        text-align: right;\n",
       "    }\n",
       "</style>\n",
       "<table border=\"1\" class=\"dataframe\">\n",
       "  <thead>\n",
       "    <tr style=\"text-align: right;\">\n",
       "      <th></th>\n",
       "      <th>RowNumber</th>\n",
       "      <th>CustomerId</th>\n",
       "      <th>Surname</th>\n",
       "      <th>CreditScore</th>\n",
       "      <th>Geography</th>\n",
       "      <th>Gender</th>\n",
       "      <th>Age</th>\n",
       "      <th>Tenure</th>\n",
       "      <th>Balance</th>\n",
       "      <th>NumOfProducts</th>\n",
       "      <th>HasCrCard</th>\n",
       "      <th>IsActiveMember</th>\n",
       "      <th>EstimatedSalary</th>\n",
       "      <th>Exited</th>\n",
       "    </tr>\n",
       "  </thead>\n",
       "  <tbody>\n",
       "    <tr>\n",
       "      <th>0</th>\n",
       "      <td>1</td>\n",
       "      <td>15634602</td>\n",
       "      <td>Hargrave</td>\n",
       "      <td>619</td>\n",
       "      <td>France</td>\n",
       "      <td>Female</td>\n",
       "      <td>42</td>\n",
       "      <td>2</td>\n",
       "      <td>0.000</td>\n",
       "      <td>1</td>\n",
       "      <td>1</td>\n",
       "      <td>1</td>\n",
       "      <td>101348.880</td>\n",
       "      <td>1</td>\n",
       "    </tr>\n",
       "    <tr>\n",
       "      <th>1</th>\n",
       "      <td>2</td>\n",
       "      <td>15647311</td>\n",
       "      <td>Hill</td>\n",
       "      <td>608</td>\n",
       "      <td>Spain</td>\n",
       "      <td>Female</td>\n",
       "      <td>41</td>\n",
       "      <td>1</td>\n",
       "      <td>83807.860</td>\n",
       "      <td>1</td>\n",
       "      <td>0</td>\n",
       "      <td>1</td>\n",
       "      <td>112542.580</td>\n",
       "      <td>0</td>\n",
       "    </tr>\n",
       "    <tr>\n",
       "      <th>2</th>\n",
       "      <td>3</td>\n",
       "      <td>15619304</td>\n",
       "      <td>Onio</td>\n",
       "      <td>502</td>\n",
       "      <td>France</td>\n",
       "      <td>Female</td>\n",
       "      <td>42</td>\n",
       "      <td>8</td>\n",
       "      <td>159660.800</td>\n",
       "      <td>3</td>\n",
       "      <td>1</td>\n",
       "      <td>0</td>\n",
       "      <td>113931.570</td>\n",
       "      <td>1</td>\n",
       "    </tr>\n",
       "    <tr>\n",
       "      <th>3</th>\n",
       "      <td>4</td>\n",
       "      <td>15701354</td>\n",
       "      <td>Boni</td>\n",
       "      <td>699</td>\n",
       "      <td>France</td>\n",
       "      <td>Female</td>\n",
       "      <td>39</td>\n",
       "      <td>1</td>\n",
       "      <td>0.000</td>\n",
       "      <td>2</td>\n",
       "      <td>0</td>\n",
       "      <td>0</td>\n",
       "      <td>93826.630</td>\n",
       "      <td>0</td>\n",
       "    </tr>\n",
       "    <tr>\n",
       "      <th>4</th>\n",
       "      <td>5</td>\n",
       "      <td>15737888</td>\n",
       "      <td>Mitchell</td>\n",
       "      <td>850</td>\n",
       "      <td>Spain</td>\n",
       "      <td>Female</td>\n",
       "      <td>43</td>\n",
       "      <td>2</td>\n",
       "      <td>125510.820</td>\n",
       "      <td>1</td>\n",
       "      <td>1</td>\n",
       "      <td>1</td>\n",
       "      <td>79084.100</td>\n",
       "      <td>0</td>\n",
       "    </tr>\n",
       "  </tbody>\n",
       "</table>\n",
       "</div>\n",
       "      <button class=\"colab-df-convert\" onclick=\"convertToInteractive('df-a898fbc1-c60a-429b-b0b5-039d8aea82a5')\"\n",
       "              title=\"Convert this dataframe to an interactive table.\"\n",
       "              style=\"display:none;\">\n",
       "        \n",
       "  <svg xmlns=\"http://www.w3.org/2000/svg\" height=\"24px\"viewBox=\"0 0 24 24\"\n",
       "       width=\"24px\">\n",
       "    <path d=\"M0 0h24v24H0V0z\" fill=\"none\"/>\n",
       "    <path d=\"M18.56 5.44l.94 2.06.94-2.06 2.06-.94-2.06-.94-.94-2.06-.94 2.06-2.06.94zm-11 1L8.5 8.5l.94-2.06 2.06-.94-2.06-.94L8.5 2.5l-.94 2.06-2.06.94zm10 10l.94 2.06.94-2.06 2.06-.94-2.06-.94-.94-2.06-.94 2.06-2.06.94z\"/><path d=\"M17.41 7.96l-1.37-1.37c-.4-.4-.92-.59-1.43-.59-.52 0-1.04.2-1.43.59L10.3 9.45l-7.72 7.72c-.78.78-.78 2.05 0 2.83L4 21.41c.39.39.9.59 1.41.59.51 0 1.02-.2 1.41-.59l7.78-7.78 2.81-2.81c.8-.78.8-2.07 0-2.86zM5.41 20L4 18.59l7.72-7.72 1.47 1.35L5.41 20z\"/>\n",
       "  </svg>\n",
       "      </button>\n",
       "      \n",
       "  <style>\n",
       "    .colab-df-container {\n",
       "      display:flex;\n",
       "      flex-wrap:wrap;\n",
       "      gap: 12px;\n",
       "    }\n",
       "\n",
       "    .colab-df-convert {\n",
       "      background-color: #E8F0FE;\n",
       "      border: none;\n",
       "      border-radius: 50%;\n",
       "      cursor: pointer;\n",
       "      display: none;\n",
       "      fill: #1967D2;\n",
       "      height: 32px;\n",
       "      padding: 0 0 0 0;\n",
       "      width: 32px;\n",
       "    }\n",
       "\n",
       "    .colab-df-convert:hover {\n",
       "      background-color: #E2EBFA;\n",
       "      box-shadow: 0px 1px 2px rgba(60, 64, 67, 0.3), 0px 1px 3px 1px rgba(60, 64, 67, 0.15);\n",
       "      fill: #174EA6;\n",
       "    }\n",
       "\n",
       "    [theme=dark] .colab-df-convert {\n",
       "      background-color: #3B4455;\n",
       "      fill: #D2E3FC;\n",
       "    }\n",
       "\n",
       "    [theme=dark] .colab-df-convert:hover {\n",
       "      background-color: #434B5C;\n",
       "      box-shadow: 0px 1px 3px 1px rgba(0, 0, 0, 0.15);\n",
       "      filter: drop-shadow(0px 1px 2px rgba(0, 0, 0, 0.3));\n",
       "      fill: #FFFFFF;\n",
       "    }\n",
       "  </style>\n",
       "\n",
       "      <script>\n",
       "        const buttonEl =\n",
       "          document.querySelector('#df-a898fbc1-c60a-429b-b0b5-039d8aea82a5 button.colab-df-convert');\n",
       "        buttonEl.style.display =\n",
       "          google.colab.kernel.accessAllowed ? 'block' : 'none';\n",
       "\n",
       "        async function convertToInteractive(key) {\n",
       "          const element = document.querySelector('#df-a898fbc1-c60a-429b-b0b5-039d8aea82a5');\n",
       "          const dataTable =\n",
       "            await google.colab.kernel.invokeFunction('convertToInteractive',\n",
       "                                                     [key], {});\n",
       "          if (!dataTable) return;\n",
       "\n",
       "          const docLinkHtml = 'Like what you see? Visit the ' +\n",
       "            '<a target=\"_blank\" href=https://colab.research.google.com/notebooks/data_table.ipynb>data table notebook</a>'\n",
       "            + ' to learn more about interactive tables.';\n",
       "          element.innerHTML = '';\n",
       "          dataTable['output_type'] = 'display_data';\n",
       "          await google.colab.output.renderOutput(dataTable, element);\n",
       "          const docLink = document.createElement('div');\n",
       "          docLink.innerHTML = docLinkHtml;\n",
       "          element.appendChild(docLink);\n",
       "        }\n",
       "      </script>\n",
       "    </div>\n",
       "  </div>\n",
       "  "
      ],
      "text/plain": [
       "   RowNumber  CustomerId   Surname  CreditScore Geography  Gender  Age  \\\n",
       "0          1    15634602  Hargrave          619    France  Female   42   \n",
       "1          2    15647311      Hill          608     Spain  Female   41   \n",
       "2          3    15619304      Onio          502    France  Female   42   \n",
       "3          4    15701354      Boni          699    France  Female   39   \n",
       "4          5    15737888  Mitchell          850     Spain  Female   43   \n",
       "\n",
       "   Tenure    Balance  NumOfProducts  HasCrCard  IsActiveMember  \\\n",
       "0       2      0.000              1          1               1   \n",
       "1       1  83807.860              1          0               1   \n",
       "2       8 159660.800              3          1               0   \n",
       "3       1      0.000              2          0               0   \n",
       "4       2 125510.820              1          1               1   \n",
       "\n",
       "   EstimatedSalary  Exited  \n",
       "0       101348.880       1  \n",
       "1       112542.580       0  \n",
       "2       113931.570       1  \n",
       "3        93826.630       0  \n",
       "4        79084.100       0  "
      ]
     },
     "execution_count": 823,
     "metadata": {},
     "output_type": "execute_result"
    }
   ],
   "source": [
    "data.head()"
   ]
  },
  {
   "cell_type": "markdown",
   "metadata": {
    "id": "wEe5szIusf2l"
   },
   "source": [
    "## 1.5A To view the last 5 rows of the dataset"
   ]
  },
  {
   "cell_type": "code",
   "execution_count": 824,
   "metadata": {
    "colab": {
     "base_uri": "https://localhost:8080/",
     "height": 270
    },
    "id": "QA7uhboiskk9",
    "outputId": "54dde02e-3869-4489-da47-7e33e5776258"
   },
   "outputs": [
    {
     "data": {
      "text/html": [
       "\n",
       "  <div id=\"df-15b4c21a-e355-4cf0-b255-d23712131a07\">\n",
       "    <div class=\"colab-df-container\">\n",
       "      <div>\n",
       "<style scoped>\n",
       "    .dataframe tbody tr th:only-of-type {\n",
       "        vertical-align: middle;\n",
       "    }\n",
       "\n",
       "    .dataframe tbody tr th {\n",
       "        vertical-align: top;\n",
       "    }\n",
       "\n",
       "    .dataframe thead th {\n",
       "        text-align: right;\n",
       "    }\n",
       "</style>\n",
       "<table border=\"1\" class=\"dataframe\">\n",
       "  <thead>\n",
       "    <tr style=\"text-align: right;\">\n",
       "      <th></th>\n",
       "      <th>RowNumber</th>\n",
       "      <th>CustomerId</th>\n",
       "      <th>Surname</th>\n",
       "      <th>CreditScore</th>\n",
       "      <th>Geography</th>\n",
       "      <th>Gender</th>\n",
       "      <th>Age</th>\n",
       "      <th>Tenure</th>\n",
       "      <th>Balance</th>\n",
       "      <th>NumOfProducts</th>\n",
       "      <th>HasCrCard</th>\n",
       "      <th>IsActiveMember</th>\n",
       "      <th>EstimatedSalary</th>\n",
       "      <th>Exited</th>\n",
       "    </tr>\n",
       "  </thead>\n",
       "  <tbody>\n",
       "    <tr>\n",
       "      <th>9995</th>\n",
       "      <td>9996</td>\n",
       "      <td>15606229</td>\n",
       "      <td>Obijiaku</td>\n",
       "      <td>771</td>\n",
       "      <td>France</td>\n",
       "      <td>Male</td>\n",
       "      <td>39</td>\n",
       "      <td>5</td>\n",
       "      <td>0.000</td>\n",
       "      <td>2</td>\n",
       "      <td>1</td>\n",
       "      <td>0</td>\n",
       "      <td>96270.640</td>\n",
       "      <td>0</td>\n",
       "    </tr>\n",
       "    <tr>\n",
       "      <th>9996</th>\n",
       "      <td>9997</td>\n",
       "      <td>15569892</td>\n",
       "      <td>Johnstone</td>\n",
       "      <td>516</td>\n",
       "      <td>France</td>\n",
       "      <td>Male</td>\n",
       "      <td>35</td>\n",
       "      <td>10</td>\n",
       "      <td>57369.610</td>\n",
       "      <td>1</td>\n",
       "      <td>1</td>\n",
       "      <td>1</td>\n",
       "      <td>101699.770</td>\n",
       "      <td>0</td>\n",
       "    </tr>\n",
       "    <tr>\n",
       "      <th>9997</th>\n",
       "      <td>9998</td>\n",
       "      <td>15584532</td>\n",
       "      <td>Liu</td>\n",
       "      <td>709</td>\n",
       "      <td>France</td>\n",
       "      <td>Female</td>\n",
       "      <td>36</td>\n",
       "      <td>7</td>\n",
       "      <td>0.000</td>\n",
       "      <td>1</td>\n",
       "      <td>0</td>\n",
       "      <td>1</td>\n",
       "      <td>42085.580</td>\n",
       "      <td>1</td>\n",
       "    </tr>\n",
       "    <tr>\n",
       "      <th>9998</th>\n",
       "      <td>9999</td>\n",
       "      <td>15682355</td>\n",
       "      <td>Sabbatini</td>\n",
       "      <td>772</td>\n",
       "      <td>Germany</td>\n",
       "      <td>Male</td>\n",
       "      <td>42</td>\n",
       "      <td>3</td>\n",
       "      <td>75075.310</td>\n",
       "      <td>2</td>\n",
       "      <td>1</td>\n",
       "      <td>0</td>\n",
       "      <td>92888.520</td>\n",
       "      <td>1</td>\n",
       "    </tr>\n",
       "    <tr>\n",
       "      <th>9999</th>\n",
       "      <td>10000</td>\n",
       "      <td>15628319</td>\n",
       "      <td>Walker</td>\n",
       "      <td>792</td>\n",
       "      <td>France</td>\n",
       "      <td>Female</td>\n",
       "      <td>28</td>\n",
       "      <td>4</td>\n",
       "      <td>130142.790</td>\n",
       "      <td>1</td>\n",
       "      <td>1</td>\n",
       "      <td>0</td>\n",
       "      <td>38190.780</td>\n",
       "      <td>0</td>\n",
       "    </tr>\n",
       "  </tbody>\n",
       "</table>\n",
       "</div>\n",
       "      <button class=\"colab-df-convert\" onclick=\"convertToInteractive('df-15b4c21a-e355-4cf0-b255-d23712131a07')\"\n",
       "              title=\"Convert this dataframe to an interactive table.\"\n",
       "              style=\"display:none;\">\n",
       "        \n",
       "  <svg xmlns=\"http://www.w3.org/2000/svg\" height=\"24px\"viewBox=\"0 0 24 24\"\n",
       "       width=\"24px\">\n",
       "    <path d=\"M0 0h24v24H0V0z\" fill=\"none\"/>\n",
       "    <path d=\"M18.56 5.44l.94 2.06.94-2.06 2.06-.94-2.06-.94-.94-2.06-.94 2.06-2.06.94zm-11 1L8.5 8.5l.94-2.06 2.06-.94-2.06-.94L8.5 2.5l-.94 2.06-2.06.94zm10 10l.94 2.06.94-2.06 2.06-.94-2.06-.94-.94-2.06-.94 2.06-2.06.94z\"/><path d=\"M17.41 7.96l-1.37-1.37c-.4-.4-.92-.59-1.43-.59-.52 0-1.04.2-1.43.59L10.3 9.45l-7.72 7.72c-.78.78-.78 2.05 0 2.83L4 21.41c.39.39.9.59 1.41.59.51 0 1.02-.2 1.41-.59l7.78-7.78 2.81-2.81c.8-.78.8-2.07 0-2.86zM5.41 20L4 18.59l7.72-7.72 1.47 1.35L5.41 20z\"/>\n",
       "  </svg>\n",
       "      </button>\n",
       "      \n",
       "  <style>\n",
       "    .colab-df-container {\n",
       "      display:flex;\n",
       "      flex-wrap:wrap;\n",
       "      gap: 12px;\n",
       "    }\n",
       "\n",
       "    .colab-df-convert {\n",
       "      background-color: #E8F0FE;\n",
       "      border: none;\n",
       "      border-radius: 50%;\n",
       "      cursor: pointer;\n",
       "      display: none;\n",
       "      fill: #1967D2;\n",
       "      height: 32px;\n",
       "      padding: 0 0 0 0;\n",
       "      width: 32px;\n",
       "    }\n",
       "\n",
       "    .colab-df-convert:hover {\n",
       "      background-color: #E2EBFA;\n",
       "      box-shadow: 0px 1px 2px rgba(60, 64, 67, 0.3), 0px 1px 3px 1px rgba(60, 64, 67, 0.15);\n",
       "      fill: #174EA6;\n",
       "    }\n",
       "\n",
       "    [theme=dark] .colab-df-convert {\n",
       "      background-color: #3B4455;\n",
       "      fill: #D2E3FC;\n",
       "    }\n",
       "\n",
       "    [theme=dark] .colab-df-convert:hover {\n",
       "      background-color: #434B5C;\n",
       "      box-shadow: 0px 1px 3px 1px rgba(0, 0, 0, 0.15);\n",
       "      filter: drop-shadow(0px 1px 2px rgba(0, 0, 0, 0.3));\n",
       "      fill: #FFFFFF;\n",
       "    }\n",
       "  </style>\n",
       "\n",
       "      <script>\n",
       "        const buttonEl =\n",
       "          document.querySelector('#df-15b4c21a-e355-4cf0-b255-d23712131a07 button.colab-df-convert');\n",
       "        buttonEl.style.display =\n",
       "          google.colab.kernel.accessAllowed ? 'block' : 'none';\n",
       "\n",
       "        async function convertToInteractive(key) {\n",
       "          const element = document.querySelector('#df-15b4c21a-e355-4cf0-b255-d23712131a07');\n",
       "          const dataTable =\n",
       "            await google.colab.kernel.invokeFunction('convertToInteractive',\n",
       "                                                     [key], {});\n",
       "          if (!dataTable) return;\n",
       "\n",
       "          const docLinkHtml = 'Like what you see? Visit the ' +\n",
       "            '<a target=\"_blank\" href=https://colab.research.google.com/notebooks/data_table.ipynb>data table notebook</a>'\n",
       "            + ' to learn more about interactive tables.';\n",
       "          element.innerHTML = '';\n",
       "          dataTable['output_type'] = 'display_data';\n",
       "          await google.colab.output.renderOutput(dataTable, element);\n",
       "          const docLink = document.createElement('div');\n",
       "          docLink.innerHTML = docLinkHtml;\n",
       "          element.appendChild(docLink);\n",
       "        }\n",
       "      </script>\n",
       "    </div>\n",
       "  </div>\n",
       "  "
      ],
      "text/plain": [
       "      RowNumber  CustomerId    Surname  CreditScore Geography  Gender  Age  \\\n",
       "9995       9996    15606229   Obijiaku          771    France    Male   39   \n",
       "9996       9997    15569892  Johnstone          516    France    Male   35   \n",
       "9997       9998    15584532        Liu          709    France  Female   36   \n",
       "9998       9999    15682355  Sabbatini          772   Germany    Male   42   \n",
       "9999      10000    15628319     Walker          792    France  Female   28   \n",
       "\n",
       "      Tenure    Balance  NumOfProducts  HasCrCard  IsActiveMember  \\\n",
       "9995       5      0.000              2          1               0   \n",
       "9996      10  57369.610              1          1               1   \n",
       "9997       7      0.000              1          0               1   \n",
       "9998       3  75075.310              2          1               0   \n",
       "9999       4 130142.790              1          1               0   \n",
       "\n",
       "      EstimatedSalary  Exited  \n",
       "9995        96270.640       0  \n",
       "9996       101699.770       0  \n",
       "9997        42085.580       1  \n",
       "9998        92888.520       1  \n",
       "9999        38190.780       0  "
      ]
     },
     "execution_count": 824,
     "metadata": {},
     "output_type": "execute_result"
    }
   ],
   "source": [
    "data.tail()"
   ]
  },
  {
   "cell_type": "markdown",
   "metadata": {
    "id": "17fOTihMso1s"
   },
   "source": [
    "# checking datatypes and number of non-null values for each column\n"
   ]
  },
  {
   "cell_type": "code",
   "execution_count": 825,
   "metadata": {
    "colab": {
     "base_uri": "https://localhost:8080/"
    },
    "id": "Lj_UEha0ssP3",
    "outputId": "0b555728-9448-4973-9d79-1b5fd2a51859"
   },
   "outputs": [
    {
     "name": "stdout",
     "output_type": "stream",
     "text": [
      "<class 'pandas.core.frame.DataFrame'>\n",
      "RangeIndex: 10000 entries, 0 to 9999\n",
      "Data columns (total 14 columns):\n",
      " #   Column           Non-Null Count  Dtype  \n",
      "---  ------           --------------  -----  \n",
      " 0   RowNumber        10000 non-null  int64  \n",
      " 1   CustomerId       10000 non-null  int64  \n",
      " 2   Surname          10000 non-null  object \n",
      " 3   CreditScore      10000 non-null  int64  \n",
      " 4   Geography        10000 non-null  object \n",
      " 5   Gender           10000 non-null  object \n",
      " 6   Age              10000 non-null  int64  \n",
      " 7   Tenure           10000 non-null  int64  \n",
      " 8   Balance          10000 non-null  float64\n",
      " 9   NumOfProducts    10000 non-null  int64  \n",
      " 10  HasCrCard        10000 non-null  int64  \n",
      " 11  IsActiveMember   10000 non-null  int64  \n",
      " 12  EstimatedSalary  10000 non-null  float64\n",
      " 13  Exited           10000 non-null  int64  \n",
      "dtypes: float64(2), int64(9), object(3)\n",
      "memory usage: 1.1+ MB\n"
     ]
    }
   ],
   "source": [
    "data.info()"
   ]
  },
  {
   "cell_type": "markdown",
   "metadata": {
    "id": "y1JgGED6l-Zj"
   },
   "source": [
    "# Observations\n",
    "1. Two columns are of float type.\n",
    "2. Nine(9) columns are of int type\n",
    "3. Dependent variable is Exited. It is of int type.\n",
    "4. Three columns are of object type."
   ]
  },
  {
   "cell_type": "markdown",
   "metadata": {
    "id": "wk3BbfZBmB8O"
   },
   "source": [
    "# Lets convert the columns with an 'object' datatype into categorical variables"
   ]
  },
  {
   "cell_type": "code",
   "execution_count": 826,
   "metadata": {
    "id": "a_uV2AnhmLmF"
   },
   "outputs": [],
   "source": [
    "for feature in data.columns:  # Loop through all columns in the dataframe\n",
    "    if (\n",
    "        data[feature].dtype == \"object\"\n",
    "    ):  # Only apply for columns with categorical strings\n",
    "        data[feature] = pd.Categorical(data[feature])  # Replace strings with an integer\n"
   ]
  },
  {
   "cell_type": "code",
   "execution_count": 827,
   "metadata": {
    "colab": {
     "base_uri": "https://localhost:8080/"
    },
    "id": "kTeanBTHmV69",
    "outputId": "423dd7c6-46a0-4f27-d0c6-a2596ab81000"
   },
   "outputs": [
    {
     "name": "stdout",
     "output_type": "stream",
     "text": [
      "<class 'pandas.core.frame.DataFrame'>\n",
      "RangeIndex: 10000 entries, 0 to 9999\n",
      "Data columns (total 14 columns):\n",
      " #   Column           Non-Null Count  Dtype   \n",
      "---  ------           --------------  -----   \n",
      " 0   RowNumber        10000 non-null  int64   \n",
      " 1   CustomerId       10000 non-null  int64   \n",
      " 2   Surname          10000 non-null  category\n",
      " 3   CreditScore      10000 non-null  int64   \n",
      " 4   Geography        10000 non-null  category\n",
      " 5   Gender           10000 non-null  category\n",
      " 6   Age              10000 non-null  int64   \n",
      " 7   Tenure           10000 non-null  int64   \n",
      " 8   Balance          10000 non-null  float64 \n",
      " 9   NumOfProducts    10000 non-null  int64   \n",
      " 10  HasCrCard        10000 non-null  int64   \n",
      " 11  IsActiveMember   10000 non-null  int64   \n",
      " 12  EstimatedSalary  10000 non-null  float64 \n",
      " 13  Exited           10000 non-null  int64   \n",
      "dtypes: category(3), float64(2), int64(9)\n",
      "memory usage: 986.3 KB\n"
     ]
    }
   ],
   "source": [
    "data.info()"
   ]
  },
  {
   "cell_type": "markdown",
   "metadata": {
    "id": "fglyQs24mZzy"
   },
   "source": [
    "There are a total of 14 columns and 10000 observations in the dataset\n",
    "We can see that All columns have 10000 non-null values i.e. column have no values."
   ]
  },
  {
   "cell_type": "code",
   "execution_count": 828,
   "metadata": {
    "colab": {
     "base_uri": "https://localhost:8080/"
    },
    "id": "hD5r1wF5mmKZ",
    "outputId": "d21835ca-1c09-4268-9d6c-bfc0272bff39"
   },
   "outputs": [
    {
     "data": {
      "text/plain": [
       "0    7963\n",
       "1    2037\n",
       "Name: Exited, dtype: int64"
      ]
     },
     "execution_count": 828,
     "metadata": {},
     "output_type": "execute_result"
    }
   ],
   "source": [
    "data[\"Exited\"].value_counts()"
   ]
  },
  {
   "cell_type": "markdown",
   "metadata": {
    "id": "oAXUXBdvmqQB"
   },
   "source": [
    "\n",
    "### Observations\n",
    "1. There are 7963 existed customers.\n"
   ]
  },
  {
   "cell_type": "markdown",
   "metadata": {
    "id": "KCxRSt9Xs3Sn"
   },
   "source": [
    "## 1.6A To view 10 samples of the dataset"
   ]
  },
  {
   "cell_type": "code",
   "execution_count": 829,
   "metadata": {
    "colab": {
     "base_uri": "https://localhost:8080/",
     "height": 427
    },
    "id": "pjPQnnVWs5jm",
    "outputId": "38e0b95a-a935-4fd2-f227-46de2dd2cda6"
   },
   "outputs": [
    {
     "data": {
      "text/html": [
       "\n",
       "  <div id=\"df-67ad2f36-6e0b-40b4-a940-6a3a9a0b9e52\">\n",
       "    <div class=\"colab-df-container\">\n",
       "      <div>\n",
       "<style scoped>\n",
       "    .dataframe tbody tr th:only-of-type {\n",
       "        vertical-align: middle;\n",
       "    }\n",
       "\n",
       "    .dataframe tbody tr th {\n",
       "        vertical-align: top;\n",
       "    }\n",
       "\n",
       "    .dataframe thead th {\n",
       "        text-align: right;\n",
       "    }\n",
       "</style>\n",
       "<table border=\"1\" class=\"dataframe\">\n",
       "  <thead>\n",
       "    <tr style=\"text-align: right;\">\n",
       "      <th></th>\n",
       "      <th>RowNumber</th>\n",
       "      <th>CustomerId</th>\n",
       "      <th>Surname</th>\n",
       "      <th>CreditScore</th>\n",
       "      <th>Geography</th>\n",
       "      <th>Gender</th>\n",
       "      <th>Age</th>\n",
       "      <th>Tenure</th>\n",
       "      <th>Balance</th>\n",
       "      <th>NumOfProducts</th>\n",
       "      <th>HasCrCard</th>\n",
       "      <th>IsActiveMember</th>\n",
       "      <th>EstimatedSalary</th>\n",
       "      <th>Exited</th>\n",
       "    </tr>\n",
       "  </thead>\n",
       "  <tbody>\n",
       "    <tr>\n",
       "      <th>7878</th>\n",
       "      <td>7879</td>\n",
       "      <td>15760456</td>\n",
       "      <td>Eberechukwu</td>\n",
       "      <td>731</td>\n",
       "      <td>France</td>\n",
       "      <td>Female</td>\n",
       "      <td>38</td>\n",
       "      <td>10</td>\n",
       "      <td>123711.730</td>\n",
       "      <td>2</td>\n",
       "      <td>1</td>\n",
       "      <td>0</td>\n",
       "      <td>171340.680</td>\n",
       "      <td>1</td>\n",
       "    </tr>\n",
       "    <tr>\n",
       "      <th>3224</th>\n",
       "      <td>3225</td>\n",
       "      <td>15713463</td>\n",
       "      <td>Tate</td>\n",
       "      <td>645</td>\n",
       "      <td>Germany</td>\n",
       "      <td>Female</td>\n",
       "      <td>41</td>\n",
       "      <td>2</td>\n",
       "      <td>138881.040</td>\n",
       "      <td>1</td>\n",
       "      <td>1</td>\n",
       "      <td>0</td>\n",
       "      <td>129936.530</td>\n",
       "      <td>1</td>\n",
       "    </tr>\n",
       "    <tr>\n",
       "      <th>1919</th>\n",
       "      <td>1920</td>\n",
       "      <td>15739858</td>\n",
       "      <td>Otitodilichukwu</td>\n",
       "      <td>618</td>\n",
       "      <td>France</td>\n",
       "      <td>Male</td>\n",
       "      <td>56</td>\n",
       "      <td>7</td>\n",
       "      <td>0.000</td>\n",
       "      <td>1</td>\n",
       "      <td>1</td>\n",
       "      <td>1</td>\n",
       "      <td>142400.270</td>\n",
       "      <td>1</td>\n",
       "    </tr>\n",
       "    <tr>\n",
       "      <th>4432</th>\n",
       "      <td>4433</td>\n",
       "      <td>15751193</td>\n",
       "      <td>Nnaemeka</td>\n",
       "      <td>621</td>\n",
       "      <td>Spain</td>\n",
       "      <td>Male</td>\n",
       "      <td>33</td>\n",
       "      <td>4</td>\n",
       "      <td>0.000</td>\n",
       "      <td>2</td>\n",
       "      <td>1</td>\n",
       "      <td>1</td>\n",
       "      <td>40299.230</td>\n",
       "      <td>0</td>\n",
       "    </tr>\n",
       "    <tr>\n",
       "      <th>4835</th>\n",
       "      <td>4836</td>\n",
       "      <td>15590623</td>\n",
       "      <td>Kovalyov</td>\n",
       "      <td>561</td>\n",
       "      <td>Spain</td>\n",
       "      <td>Male</td>\n",
       "      <td>34</td>\n",
       "      <td>4</td>\n",
       "      <td>85141.790</td>\n",
       "      <td>2</td>\n",
       "      <td>1</td>\n",
       "      <td>1</td>\n",
       "      <td>29217.370</td>\n",
       "      <td>0</td>\n",
       "    </tr>\n",
       "    <tr>\n",
       "      <th>4895</th>\n",
       "      <td>4896</td>\n",
       "      <td>15589435</td>\n",
       "      <td>Davide</td>\n",
       "      <td>784</td>\n",
       "      <td>France</td>\n",
       "      <td>Male</td>\n",
       "      <td>31</td>\n",
       "      <td>7</td>\n",
       "      <td>0.000</td>\n",
       "      <td>2</td>\n",
       "      <td>1</td>\n",
       "      <td>1</td>\n",
       "      <td>143204.410</td>\n",
       "      <td>0</td>\n",
       "    </tr>\n",
       "    <tr>\n",
       "      <th>7269</th>\n",
       "      <td>7270</td>\n",
       "      <td>15675926</td>\n",
       "      <td>Ardis</td>\n",
       "      <td>655</td>\n",
       "      <td>Germany</td>\n",
       "      <td>Male</td>\n",
       "      <td>34</td>\n",
       "      <td>7</td>\n",
       "      <td>118028.350</td>\n",
       "      <td>1</td>\n",
       "      <td>1</td>\n",
       "      <td>0</td>\n",
       "      <td>51226.320</td>\n",
       "      <td>1</td>\n",
       "    </tr>\n",
       "    <tr>\n",
       "      <th>1451</th>\n",
       "      <td>1452</td>\n",
       "      <td>15684198</td>\n",
       "      <td>McDonald</td>\n",
       "      <td>551</td>\n",
       "      <td>France</td>\n",
       "      <td>Female</td>\n",
       "      <td>38</td>\n",
       "      <td>10</td>\n",
       "      <td>0.000</td>\n",
       "      <td>2</td>\n",
       "      <td>1</td>\n",
       "      <td>1</td>\n",
       "      <td>216.270</td>\n",
       "      <td>0</td>\n",
       "    </tr>\n",
       "    <tr>\n",
       "      <th>1742</th>\n",
       "      <td>1743</td>\n",
       "      <td>15578603</td>\n",
       "      <td>Alexeieva</td>\n",
       "      <td>584</td>\n",
       "      <td>Germany</td>\n",
       "      <td>Female</td>\n",
       "      <td>54</td>\n",
       "      <td>1</td>\n",
       "      <td>77354.370</td>\n",
       "      <td>1</td>\n",
       "      <td>0</td>\n",
       "      <td>0</td>\n",
       "      <td>138192.980</td>\n",
       "      <td>1</td>\n",
       "    </tr>\n",
       "    <tr>\n",
       "      <th>4628</th>\n",
       "      <td>4629</td>\n",
       "      <td>15788151</td>\n",
       "      <td>Moore</td>\n",
       "      <td>650</td>\n",
       "      <td>Spain</td>\n",
       "      <td>Male</td>\n",
       "      <td>32</td>\n",
       "      <td>1</td>\n",
       "      <td>132187.730</td>\n",
       "      <td>2</td>\n",
       "      <td>1</td>\n",
       "      <td>1</td>\n",
       "      <td>178331.360</td>\n",
       "      <td>0</td>\n",
       "    </tr>\n",
       "  </tbody>\n",
       "</table>\n",
       "</div>\n",
       "      <button class=\"colab-df-convert\" onclick=\"convertToInteractive('df-67ad2f36-6e0b-40b4-a940-6a3a9a0b9e52')\"\n",
       "              title=\"Convert this dataframe to an interactive table.\"\n",
       "              style=\"display:none;\">\n",
       "        \n",
       "  <svg xmlns=\"http://www.w3.org/2000/svg\" height=\"24px\"viewBox=\"0 0 24 24\"\n",
       "       width=\"24px\">\n",
       "    <path d=\"M0 0h24v24H0V0z\" fill=\"none\"/>\n",
       "    <path d=\"M18.56 5.44l.94 2.06.94-2.06 2.06-.94-2.06-.94-.94-2.06-.94 2.06-2.06.94zm-11 1L8.5 8.5l.94-2.06 2.06-.94-2.06-.94L8.5 2.5l-.94 2.06-2.06.94zm10 10l.94 2.06.94-2.06 2.06-.94-2.06-.94-.94-2.06-.94 2.06-2.06.94z\"/><path d=\"M17.41 7.96l-1.37-1.37c-.4-.4-.92-.59-1.43-.59-.52 0-1.04.2-1.43.59L10.3 9.45l-7.72 7.72c-.78.78-.78 2.05 0 2.83L4 21.41c.39.39.9.59 1.41.59.51 0 1.02-.2 1.41-.59l7.78-7.78 2.81-2.81c.8-.78.8-2.07 0-2.86zM5.41 20L4 18.59l7.72-7.72 1.47 1.35L5.41 20z\"/>\n",
       "  </svg>\n",
       "      </button>\n",
       "      \n",
       "  <style>\n",
       "    .colab-df-container {\n",
       "      display:flex;\n",
       "      flex-wrap:wrap;\n",
       "      gap: 12px;\n",
       "    }\n",
       "\n",
       "    .colab-df-convert {\n",
       "      background-color: #E8F0FE;\n",
       "      border: none;\n",
       "      border-radius: 50%;\n",
       "      cursor: pointer;\n",
       "      display: none;\n",
       "      fill: #1967D2;\n",
       "      height: 32px;\n",
       "      padding: 0 0 0 0;\n",
       "      width: 32px;\n",
       "    }\n",
       "\n",
       "    .colab-df-convert:hover {\n",
       "      background-color: #E2EBFA;\n",
       "      box-shadow: 0px 1px 2px rgba(60, 64, 67, 0.3), 0px 1px 3px 1px rgba(60, 64, 67, 0.15);\n",
       "      fill: #174EA6;\n",
       "    }\n",
       "\n",
       "    [theme=dark] .colab-df-convert {\n",
       "      background-color: #3B4455;\n",
       "      fill: #D2E3FC;\n",
       "    }\n",
       "\n",
       "    [theme=dark] .colab-df-convert:hover {\n",
       "      background-color: #434B5C;\n",
       "      box-shadow: 0px 1px 3px 1px rgba(0, 0, 0, 0.15);\n",
       "      filter: drop-shadow(0px 1px 2px rgba(0, 0, 0, 0.3));\n",
       "      fill: #FFFFFF;\n",
       "    }\n",
       "  </style>\n",
       "\n",
       "      <script>\n",
       "        const buttonEl =\n",
       "          document.querySelector('#df-67ad2f36-6e0b-40b4-a940-6a3a9a0b9e52 button.colab-df-convert');\n",
       "        buttonEl.style.display =\n",
       "          google.colab.kernel.accessAllowed ? 'block' : 'none';\n",
       "\n",
       "        async function convertToInteractive(key) {\n",
       "          const element = document.querySelector('#df-67ad2f36-6e0b-40b4-a940-6a3a9a0b9e52');\n",
       "          const dataTable =\n",
       "            await google.colab.kernel.invokeFunction('convertToInteractive',\n",
       "                                                     [key], {});\n",
       "          if (!dataTable) return;\n",
       "\n",
       "          const docLinkHtml = 'Like what you see? Visit the ' +\n",
       "            '<a target=\"_blank\" href=https://colab.research.google.com/notebooks/data_table.ipynb>data table notebook</a>'\n",
       "            + ' to learn more about interactive tables.';\n",
       "          element.innerHTML = '';\n",
       "          dataTable['output_type'] = 'display_data';\n",
       "          await google.colab.output.renderOutput(dataTable, element);\n",
       "          const docLink = document.createElement('div');\n",
       "          docLink.innerHTML = docLinkHtml;\n",
       "          element.appendChild(docLink);\n",
       "        }\n",
       "      </script>\n",
       "    </div>\n",
       "  </div>\n",
       "  "
      ],
      "text/plain": [
       "      RowNumber  CustomerId          Surname  CreditScore Geography  Gender  \\\n",
       "7878       7879    15760456      Eberechukwu          731    France  Female   \n",
       "3224       3225    15713463             Tate          645   Germany  Female   \n",
       "1919       1920    15739858  Otitodilichukwu          618    France    Male   \n",
       "4432       4433    15751193         Nnaemeka          621     Spain    Male   \n",
       "4835       4836    15590623         Kovalyov          561     Spain    Male   \n",
       "4895       4896    15589435           Davide          784    France    Male   \n",
       "7269       7270    15675926            Ardis          655   Germany    Male   \n",
       "1451       1452    15684198         McDonald          551    France  Female   \n",
       "1742       1743    15578603        Alexeieva          584   Germany  Female   \n",
       "4628       4629    15788151            Moore          650     Spain    Male   \n",
       "\n",
       "      Age  Tenure    Balance  NumOfProducts  HasCrCard  IsActiveMember  \\\n",
       "7878   38      10 123711.730              2          1               0   \n",
       "3224   41       2 138881.040              1          1               0   \n",
       "1919   56       7      0.000              1          1               1   \n",
       "4432   33       4      0.000              2          1               1   \n",
       "4835   34       4  85141.790              2          1               1   \n",
       "4895   31       7      0.000              2          1               1   \n",
       "7269   34       7 118028.350              1          1               0   \n",
       "1451   38      10      0.000              2          1               1   \n",
       "1742   54       1  77354.370              1          0               0   \n",
       "4628   32       1 132187.730              2          1               1   \n",
       "\n",
       "      EstimatedSalary  Exited  \n",
       "7878       171340.680       1  \n",
       "3224       129936.530       1  \n",
       "1919       142400.270       1  \n",
       "4432        40299.230       0  \n",
       "4835        29217.370       0  \n",
       "4895       143204.410       0  \n",
       "7269        51226.320       1  \n",
       "1451          216.270       0  \n",
       "1742       138192.980       1  \n",
       "4628       178331.360       0  "
      ]
     },
     "execution_count": 829,
     "metadata": {},
     "output_type": "execute_result"
    }
   ],
   "source": [
    "# let's view a sample of the data\n",
    "data.sample(\n",
    "    10, random_state=2\n",
    ")  # setting the random_state will ensure we get the same results every time"
   ]
  },
  {
   "cell_type": "code",
   "execution_count": 830,
   "metadata": {
    "colab": {
     "base_uri": "https://localhost:8080/",
     "height": 488
    },
    "id": "BxTtOQBqs9fO",
    "outputId": "31b96b26-f850-4a5f-9ee0-3f5bc1f40fb6"
   },
   "outputs": [
    {
     "data": {
      "text/html": [
       "\n",
       "  <div id=\"df-665d68df-34f2-48a3-bcde-974208b2aec5\">\n",
       "    <div class=\"colab-df-container\">\n",
       "      <div>\n",
       "<style scoped>\n",
       "    .dataframe tbody tr th:only-of-type {\n",
       "        vertical-align: middle;\n",
       "    }\n",
       "\n",
       "    .dataframe tbody tr th {\n",
       "        vertical-align: top;\n",
       "    }\n",
       "\n",
       "    .dataframe thead th {\n",
       "        text-align: right;\n",
       "    }\n",
       "</style>\n",
       "<table border=\"1\" class=\"dataframe\">\n",
       "  <thead>\n",
       "    <tr style=\"text-align: right;\">\n",
       "      <th></th>\n",
       "      <th>count</th>\n",
       "      <th>unique</th>\n",
       "      <th>top</th>\n",
       "      <th>freq</th>\n",
       "      <th>mean</th>\n",
       "      <th>std</th>\n",
       "      <th>min</th>\n",
       "      <th>25%</th>\n",
       "      <th>50%</th>\n",
       "      <th>75%</th>\n",
       "      <th>max</th>\n",
       "    </tr>\n",
       "  </thead>\n",
       "  <tbody>\n",
       "    <tr>\n",
       "      <th>RowNumber</th>\n",
       "      <td>10000.000</td>\n",
       "      <td>NaN</td>\n",
       "      <td>NaN</td>\n",
       "      <td>NaN</td>\n",
       "      <td>5000.500</td>\n",
       "      <td>2886.896</td>\n",
       "      <td>1.000</td>\n",
       "      <td>2500.750</td>\n",
       "      <td>5000.500</td>\n",
       "      <td>7500.250</td>\n",
       "      <td>10000.000</td>\n",
       "    </tr>\n",
       "    <tr>\n",
       "      <th>CustomerId</th>\n",
       "      <td>10000.000</td>\n",
       "      <td>NaN</td>\n",
       "      <td>NaN</td>\n",
       "      <td>NaN</td>\n",
       "      <td>15690940.569</td>\n",
       "      <td>71936.186</td>\n",
       "      <td>15565701.000</td>\n",
       "      <td>15628528.250</td>\n",
       "      <td>15690738.000</td>\n",
       "      <td>15753233.750</td>\n",
       "      <td>15815690.000</td>\n",
       "    </tr>\n",
       "    <tr>\n",
       "      <th>Surname</th>\n",
       "      <td>10000</td>\n",
       "      <td>2932</td>\n",
       "      <td>Smith</td>\n",
       "      <td>32</td>\n",
       "      <td>NaN</td>\n",
       "      <td>NaN</td>\n",
       "      <td>NaN</td>\n",
       "      <td>NaN</td>\n",
       "      <td>NaN</td>\n",
       "      <td>NaN</td>\n",
       "      <td>NaN</td>\n",
       "    </tr>\n",
       "    <tr>\n",
       "      <th>CreditScore</th>\n",
       "      <td>10000.000</td>\n",
       "      <td>NaN</td>\n",
       "      <td>NaN</td>\n",
       "      <td>NaN</td>\n",
       "      <td>650.529</td>\n",
       "      <td>96.653</td>\n",
       "      <td>350.000</td>\n",
       "      <td>584.000</td>\n",
       "      <td>652.000</td>\n",
       "      <td>718.000</td>\n",
       "      <td>850.000</td>\n",
       "    </tr>\n",
       "    <tr>\n",
       "      <th>Geography</th>\n",
       "      <td>10000</td>\n",
       "      <td>3</td>\n",
       "      <td>France</td>\n",
       "      <td>5014</td>\n",
       "      <td>NaN</td>\n",
       "      <td>NaN</td>\n",
       "      <td>NaN</td>\n",
       "      <td>NaN</td>\n",
       "      <td>NaN</td>\n",
       "      <td>NaN</td>\n",
       "      <td>NaN</td>\n",
       "    </tr>\n",
       "    <tr>\n",
       "      <th>Gender</th>\n",
       "      <td>10000</td>\n",
       "      <td>2</td>\n",
       "      <td>Male</td>\n",
       "      <td>5457</td>\n",
       "      <td>NaN</td>\n",
       "      <td>NaN</td>\n",
       "      <td>NaN</td>\n",
       "      <td>NaN</td>\n",
       "      <td>NaN</td>\n",
       "      <td>NaN</td>\n",
       "      <td>NaN</td>\n",
       "    </tr>\n",
       "    <tr>\n",
       "      <th>Age</th>\n",
       "      <td>10000.000</td>\n",
       "      <td>NaN</td>\n",
       "      <td>NaN</td>\n",
       "      <td>NaN</td>\n",
       "      <td>38.922</td>\n",
       "      <td>10.488</td>\n",
       "      <td>18.000</td>\n",
       "      <td>32.000</td>\n",
       "      <td>37.000</td>\n",
       "      <td>44.000</td>\n",
       "      <td>92.000</td>\n",
       "    </tr>\n",
       "    <tr>\n",
       "      <th>Tenure</th>\n",
       "      <td>10000.000</td>\n",
       "      <td>NaN</td>\n",
       "      <td>NaN</td>\n",
       "      <td>NaN</td>\n",
       "      <td>5.013</td>\n",
       "      <td>2.892</td>\n",
       "      <td>0.000</td>\n",
       "      <td>3.000</td>\n",
       "      <td>5.000</td>\n",
       "      <td>7.000</td>\n",
       "      <td>10.000</td>\n",
       "    </tr>\n",
       "    <tr>\n",
       "      <th>Balance</th>\n",
       "      <td>10000.000</td>\n",
       "      <td>NaN</td>\n",
       "      <td>NaN</td>\n",
       "      <td>NaN</td>\n",
       "      <td>76485.889</td>\n",
       "      <td>62397.405</td>\n",
       "      <td>0.000</td>\n",
       "      <td>0.000</td>\n",
       "      <td>97198.540</td>\n",
       "      <td>127644.240</td>\n",
       "      <td>250898.090</td>\n",
       "    </tr>\n",
       "    <tr>\n",
       "      <th>NumOfProducts</th>\n",
       "      <td>10000.000</td>\n",
       "      <td>NaN</td>\n",
       "      <td>NaN</td>\n",
       "      <td>NaN</td>\n",
       "      <td>1.530</td>\n",
       "      <td>0.582</td>\n",
       "      <td>1.000</td>\n",
       "      <td>1.000</td>\n",
       "      <td>1.000</td>\n",
       "      <td>2.000</td>\n",
       "      <td>4.000</td>\n",
       "    </tr>\n",
       "    <tr>\n",
       "      <th>HasCrCard</th>\n",
       "      <td>10000.000</td>\n",
       "      <td>NaN</td>\n",
       "      <td>NaN</td>\n",
       "      <td>NaN</td>\n",
       "      <td>0.706</td>\n",
       "      <td>0.456</td>\n",
       "      <td>0.000</td>\n",
       "      <td>0.000</td>\n",
       "      <td>1.000</td>\n",
       "      <td>1.000</td>\n",
       "      <td>1.000</td>\n",
       "    </tr>\n",
       "    <tr>\n",
       "      <th>IsActiveMember</th>\n",
       "      <td>10000.000</td>\n",
       "      <td>NaN</td>\n",
       "      <td>NaN</td>\n",
       "      <td>NaN</td>\n",
       "      <td>0.515</td>\n",
       "      <td>0.500</td>\n",
       "      <td>0.000</td>\n",
       "      <td>0.000</td>\n",
       "      <td>1.000</td>\n",
       "      <td>1.000</td>\n",
       "      <td>1.000</td>\n",
       "    </tr>\n",
       "    <tr>\n",
       "      <th>EstimatedSalary</th>\n",
       "      <td>10000.000</td>\n",
       "      <td>NaN</td>\n",
       "      <td>NaN</td>\n",
       "      <td>NaN</td>\n",
       "      <td>100090.240</td>\n",
       "      <td>57510.493</td>\n",
       "      <td>11.580</td>\n",
       "      <td>51002.110</td>\n",
       "      <td>100193.915</td>\n",
       "      <td>149388.247</td>\n",
       "      <td>199992.480</td>\n",
       "    </tr>\n",
       "    <tr>\n",
       "      <th>Exited</th>\n",
       "      <td>10000.000</td>\n",
       "      <td>NaN</td>\n",
       "      <td>NaN</td>\n",
       "      <td>NaN</td>\n",
       "      <td>0.204</td>\n",
       "      <td>0.403</td>\n",
       "      <td>0.000</td>\n",
       "      <td>0.000</td>\n",
       "      <td>0.000</td>\n",
       "      <td>0.000</td>\n",
       "      <td>1.000</td>\n",
       "    </tr>\n",
       "  </tbody>\n",
       "</table>\n",
       "</div>\n",
       "      <button class=\"colab-df-convert\" onclick=\"convertToInteractive('df-665d68df-34f2-48a3-bcde-974208b2aec5')\"\n",
       "              title=\"Convert this dataframe to an interactive table.\"\n",
       "              style=\"display:none;\">\n",
       "        \n",
       "  <svg xmlns=\"http://www.w3.org/2000/svg\" height=\"24px\"viewBox=\"0 0 24 24\"\n",
       "       width=\"24px\">\n",
       "    <path d=\"M0 0h24v24H0V0z\" fill=\"none\"/>\n",
       "    <path d=\"M18.56 5.44l.94 2.06.94-2.06 2.06-.94-2.06-.94-.94-2.06-.94 2.06-2.06.94zm-11 1L8.5 8.5l.94-2.06 2.06-.94-2.06-.94L8.5 2.5l-.94 2.06-2.06.94zm10 10l.94 2.06.94-2.06 2.06-.94-2.06-.94-.94-2.06-.94 2.06-2.06.94z\"/><path d=\"M17.41 7.96l-1.37-1.37c-.4-.4-.92-.59-1.43-.59-.52 0-1.04.2-1.43.59L10.3 9.45l-7.72 7.72c-.78.78-.78 2.05 0 2.83L4 21.41c.39.39.9.59 1.41.59.51 0 1.02-.2 1.41-.59l7.78-7.78 2.81-2.81c.8-.78.8-2.07 0-2.86zM5.41 20L4 18.59l7.72-7.72 1.47 1.35L5.41 20z\"/>\n",
       "  </svg>\n",
       "      </button>\n",
       "      \n",
       "  <style>\n",
       "    .colab-df-container {\n",
       "      display:flex;\n",
       "      flex-wrap:wrap;\n",
       "      gap: 12px;\n",
       "    }\n",
       "\n",
       "    .colab-df-convert {\n",
       "      background-color: #E8F0FE;\n",
       "      border: none;\n",
       "      border-radius: 50%;\n",
       "      cursor: pointer;\n",
       "      display: none;\n",
       "      fill: #1967D2;\n",
       "      height: 32px;\n",
       "      padding: 0 0 0 0;\n",
       "      width: 32px;\n",
       "    }\n",
       "\n",
       "    .colab-df-convert:hover {\n",
       "      background-color: #E2EBFA;\n",
       "      box-shadow: 0px 1px 2px rgba(60, 64, 67, 0.3), 0px 1px 3px 1px rgba(60, 64, 67, 0.15);\n",
       "      fill: #174EA6;\n",
       "    }\n",
       "\n",
       "    [theme=dark] .colab-df-convert {\n",
       "      background-color: #3B4455;\n",
       "      fill: #D2E3FC;\n",
       "    }\n",
       "\n",
       "    [theme=dark] .colab-df-convert:hover {\n",
       "      background-color: #434B5C;\n",
       "      box-shadow: 0px 1px 3px 1px rgba(0, 0, 0, 0.15);\n",
       "      filter: drop-shadow(0px 1px 2px rgba(0, 0, 0, 0.3));\n",
       "      fill: #FFFFFF;\n",
       "    }\n",
       "  </style>\n",
       "\n",
       "      <script>\n",
       "        const buttonEl =\n",
       "          document.querySelector('#df-665d68df-34f2-48a3-bcde-974208b2aec5 button.colab-df-convert');\n",
       "        buttonEl.style.display =\n",
       "          google.colab.kernel.accessAllowed ? 'block' : 'none';\n",
       "\n",
       "        async function convertToInteractive(key) {\n",
       "          const element = document.querySelector('#df-665d68df-34f2-48a3-bcde-974208b2aec5');\n",
       "          const dataTable =\n",
       "            await google.colab.kernel.invokeFunction('convertToInteractive',\n",
       "                                                     [key], {});\n",
       "          if (!dataTable) return;\n",
       "\n",
       "          const docLinkHtml = 'Like what you see? Visit the ' +\n",
       "            '<a target=\"_blank\" href=https://colab.research.google.com/notebooks/data_table.ipynb>data table notebook</a>'\n",
       "            + ' to learn more about interactive tables.';\n",
       "          element.innerHTML = '';\n",
       "          dataTable['output_type'] = 'display_data';\n",
       "          await google.colab.output.renderOutput(dataTable, element);\n",
       "          const docLink = document.createElement('div');\n",
       "          docLink.innerHTML = docLinkHtml;\n",
       "          element.appendChild(docLink);\n",
       "        }\n",
       "      </script>\n",
       "    </div>\n",
       "  </div>\n",
       "  "
      ],
      "text/plain": [
       "                    count unique     top  freq         mean       std  \\\n",
       "RowNumber       10000.000    NaN     NaN   NaN     5000.500  2886.896   \n",
       "CustomerId      10000.000    NaN     NaN   NaN 15690940.569 71936.186   \n",
       "Surname             10000   2932   Smith    32          NaN       NaN   \n",
       "CreditScore     10000.000    NaN     NaN   NaN      650.529    96.653   \n",
       "Geography           10000      3  France  5014          NaN       NaN   \n",
       "Gender              10000      2    Male  5457          NaN       NaN   \n",
       "Age             10000.000    NaN     NaN   NaN       38.922    10.488   \n",
       "Tenure          10000.000    NaN     NaN   NaN        5.013     2.892   \n",
       "Balance         10000.000    NaN     NaN   NaN    76485.889 62397.405   \n",
       "NumOfProducts   10000.000    NaN     NaN   NaN        1.530     0.582   \n",
       "HasCrCard       10000.000    NaN     NaN   NaN        0.706     0.456   \n",
       "IsActiveMember  10000.000    NaN     NaN   NaN        0.515     0.500   \n",
       "EstimatedSalary 10000.000    NaN     NaN   NaN   100090.240 57510.493   \n",
       "Exited          10000.000    NaN     NaN   NaN        0.204     0.403   \n",
       "\n",
       "                         min          25%          50%          75%  \\\n",
       "RowNumber              1.000     2500.750     5000.500     7500.250   \n",
       "CustomerId      15565701.000 15628528.250 15690738.000 15753233.750   \n",
       "Surname                  NaN          NaN          NaN          NaN   \n",
       "CreditScore          350.000      584.000      652.000      718.000   \n",
       "Geography                NaN          NaN          NaN          NaN   \n",
       "Gender                   NaN          NaN          NaN          NaN   \n",
       "Age                   18.000       32.000       37.000       44.000   \n",
       "Tenure                 0.000        3.000        5.000        7.000   \n",
       "Balance                0.000        0.000    97198.540   127644.240   \n",
       "NumOfProducts          1.000        1.000        1.000        2.000   \n",
       "HasCrCard              0.000        0.000        1.000        1.000   \n",
       "IsActiveMember         0.000        0.000        1.000        1.000   \n",
       "EstimatedSalary       11.580    51002.110   100193.915   149388.247   \n",
       "Exited                 0.000        0.000        0.000        0.000   \n",
       "\n",
       "                         max  \n",
       "RowNumber          10000.000  \n",
       "CustomerId      15815690.000  \n",
       "Surname                  NaN  \n",
       "CreditScore          850.000  \n",
       "Geography                NaN  \n",
       "Gender                   NaN  \n",
       "Age                   92.000  \n",
       "Tenure                10.000  \n",
       "Balance           250898.090  \n",
       "NumOfProducts          4.000  \n",
       "HasCrCard              1.000  \n",
       "IsActiveMember         1.000  \n",
       "EstimatedSalary   199992.480  \n",
       "Exited                 1.000  "
      ]
     },
     "execution_count": 830,
     "metadata": {},
     "output_type": "execute_result"
    }
   ],
   "source": [
    "# Let's look at the statistical summary of all the data including categorical variables\n",
    "data.describe(include=\"all\").T"
   ]
  },
  {
   "cell_type": "markdown",
   "metadata": {
    "id": "0QfJXIJj2yT-"
   },
   "source": [
    "### Observation\n",
    "1. Some columns are numeric in nature.\n",
    "2. The numerical variables have different ranges.\n",
    "3. There are NO missing values in the dataset."
   ]
  },
  {
   "cell_type": "code",
   "execution_count": 831,
   "metadata": {
    "colab": {
     "base_uri": "https://localhost:8080/",
     "height": 143
    },
    "id": "rEZMBJaPm9PH",
    "outputId": "d340382f-7728-4f8f-e3e3-b71d41f309a9"
   },
   "outputs": [
    {
     "data": {
      "text/html": [
       "\n",
       "  <div id=\"df-4dd3041c-8892-4876-9f18-dab863235dfe\">\n",
       "    <div class=\"colab-df-container\">\n",
       "      <div>\n",
       "<style scoped>\n",
       "    .dataframe tbody tr th:only-of-type {\n",
       "        vertical-align: middle;\n",
       "    }\n",
       "\n",
       "    .dataframe tbody tr th {\n",
       "        vertical-align: top;\n",
       "    }\n",
       "\n",
       "    .dataframe thead th {\n",
       "        text-align: right;\n",
       "    }\n",
       "</style>\n",
       "<table border=\"1\" class=\"dataframe\">\n",
       "  <thead>\n",
       "    <tr style=\"text-align: right;\">\n",
       "      <th></th>\n",
       "      <th>count</th>\n",
       "      <th>unique</th>\n",
       "      <th>top</th>\n",
       "      <th>freq</th>\n",
       "    </tr>\n",
       "  </thead>\n",
       "  <tbody>\n",
       "    <tr>\n",
       "      <th>Surname</th>\n",
       "      <td>10000</td>\n",
       "      <td>2932</td>\n",
       "      <td>Smith</td>\n",
       "      <td>32</td>\n",
       "    </tr>\n",
       "    <tr>\n",
       "      <th>Geography</th>\n",
       "      <td>10000</td>\n",
       "      <td>3</td>\n",
       "      <td>France</td>\n",
       "      <td>5014</td>\n",
       "    </tr>\n",
       "    <tr>\n",
       "      <th>Gender</th>\n",
       "      <td>10000</td>\n",
       "      <td>2</td>\n",
       "      <td>Male</td>\n",
       "      <td>5457</td>\n",
       "    </tr>\n",
       "  </tbody>\n",
       "</table>\n",
       "</div>\n",
       "      <button class=\"colab-df-convert\" onclick=\"convertToInteractive('df-4dd3041c-8892-4876-9f18-dab863235dfe')\"\n",
       "              title=\"Convert this dataframe to an interactive table.\"\n",
       "              style=\"display:none;\">\n",
       "        \n",
       "  <svg xmlns=\"http://www.w3.org/2000/svg\" height=\"24px\"viewBox=\"0 0 24 24\"\n",
       "       width=\"24px\">\n",
       "    <path d=\"M0 0h24v24H0V0z\" fill=\"none\"/>\n",
       "    <path d=\"M18.56 5.44l.94 2.06.94-2.06 2.06-.94-2.06-.94-.94-2.06-.94 2.06-2.06.94zm-11 1L8.5 8.5l.94-2.06 2.06-.94-2.06-.94L8.5 2.5l-.94 2.06-2.06.94zm10 10l.94 2.06.94-2.06 2.06-.94-2.06-.94-.94-2.06-.94 2.06-2.06.94z\"/><path d=\"M17.41 7.96l-1.37-1.37c-.4-.4-.92-.59-1.43-.59-.52 0-1.04.2-1.43.59L10.3 9.45l-7.72 7.72c-.78.78-.78 2.05 0 2.83L4 21.41c.39.39.9.59 1.41.59.51 0 1.02-.2 1.41-.59l7.78-7.78 2.81-2.81c.8-.78.8-2.07 0-2.86zM5.41 20L4 18.59l7.72-7.72 1.47 1.35L5.41 20z\"/>\n",
       "  </svg>\n",
       "      </button>\n",
       "      \n",
       "  <style>\n",
       "    .colab-df-container {\n",
       "      display:flex;\n",
       "      flex-wrap:wrap;\n",
       "      gap: 12px;\n",
       "    }\n",
       "\n",
       "    .colab-df-convert {\n",
       "      background-color: #E8F0FE;\n",
       "      border: none;\n",
       "      border-radius: 50%;\n",
       "      cursor: pointer;\n",
       "      display: none;\n",
       "      fill: #1967D2;\n",
       "      height: 32px;\n",
       "      padding: 0 0 0 0;\n",
       "      width: 32px;\n",
       "    }\n",
       "\n",
       "    .colab-df-convert:hover {\n",
       "      background-color: #E2EBFA;\n",
       "      box-shadow: 0px 1px 2px rgba(60, 64, 67, 0.3), 0px 1px 3px 1px rgba(60, 64, 67, 0.15);\n",
       "      fill: #174EA6;\n",
       "    }\n",
       "\n",
       "    [theme=dark] .colab-df-convert {\n",
       "      background-color: #3B4455;\n",
       "      fill: #D2E3FC;\n",
       "    }\n",
       "\n",
       "    [theme=dark] .colab-df-convert:hover {\n",
       "      background-color: #434B5C;\n",
       "      box-shadow: 0px 1px 3px 1px rgba(0, 0, 0, 0.15);\n",
       "      filter: drop-shadow(0px 1px 2px rgba(0, 0, 0, 0.3));\n",
       "      fill: #FFFFFF;\n",
       "    }\n",
       "  </style>\n",
       "\n",
       "      <script>\n",
       "        const buttonEl =\n",
       "          document.querySelector('#df-4dd3041c-8892-4876-9f18-dab863235dfe button.colab-df-convert');\n",
       "        buttonEl.style.display =\n",
       "          google.colab.kernel.accessAllowed ? 'block' : 'none';\n",
       "\n",
       "        async function convertToInteractive(key) {\n",
       "          const element = document.querySelector('#df-4dd3041c-8892-4876-9f18-dab863235dfe');\n",
       "          const dataTable =\n",
       "            await google.colab.kernel.invokeFunction('convertToInteractive',\n",
       "                                                     [key], {});\n",
       "          if (!dataTable) return;\n",
       "\n",
       "          const docLinkHtml = 'Like what you see? Visit the ' +\n",
       "            '<a target=\"_blank\" href=https://colab.research.google.com/notebooks/data_table.ipynb>data table notebook</a>'\n",
       "            + ' to learn more about interactive tables.';\n",
       "          element.innerHTML = '';\n",
       "          dataTable['output_type'] = 'display_data';\n",
       "          await google.colab.output.renderOutput(dataTable, element);\n",
       "          const docLink = document.createElement('div');\n",
       "          docLink.innerHTML = docLinkHtml;\n",
       "          element.appendChild(docLink);\n",
       "        }\n",
       "      </script>\n",
       "    </div>\n",
       "  </div>\n",
       "  "
      ],
      "text/plain": [
       "           count unique     top  freq\n",
       "Surname    10000   2932   Smith    32\n",
       "Geography  10000      3  France  5014\n",
       "Gender     10000      2    Male  5457"
      ]
     },
     "execution_count": 831,
     "metadata": {},
     "output_type": "execute_result"
    }
   ],
   "source": [
    "# let's view the statistical summary of the non-numerical columns in the data\n",
    "data.describe(exclude=np.number).T"
   ]
  },
  {
   "cell_type": "markdown",
   "metadata": {
    "id": "y245S2-inSu4"
   },
   "source": [
    "# Observations\n",
    "\n",
    "1. Majority of the customers are Existing Customers.\n",
    "2. 32 of the customers have the surname, \"Smith\".\n",
    "3. Most of the customers are from France."
   ]
  },
  {
   "cell_type": "markdown",
   "metadata": {
    "id": "KLowivxztAmO"
   },
   "source": [
    "## 1.7A checking the names of the columns in the data"
   ]
  },
  {
   "cell_type": "markdown",
   "metadata": {
    "id": "IMeuomTutUOQ"
   },
   "source": [
    "## STEP B IN DATA PROCESSING-------Data Consistency:\n",
    "\n",
    "- Checking for missing values.\n",
    "- Checking for inconsistency.\n",
    "- Checking for duplicate values.\n",
    "- Checking for outliers.\n",
    "- Checking data distribution and skewness"
   ]
  },
  {
   "cell_type": "markdown",
   "metadata": {
    "id": "qtBHjVhJtnXR"
   },
   "source": [
    "## 1.11B checking for missing values in the data."
   ]
  },
  {
   "cell_type": "code",
   "execution_count": 832,
   "metadata": {
    "colab": {
     "base_uri": "https://localhost:8080/"
    },
    "id": "Fce6q3b6trIg",
    "outputId": "84cb8dad-3d5e-42a4-ae0e-7507b839eea9"
   },
   "outputs": [
    {
     "data": {
      "text/plain": [
       "RowNumber         0.000\n",
       "CustomerId        0.000\n",
       "Surname           0.000\n",
       "CreditScore       0.000\n",
       "Geography         0.000\n",
       "Gender            0.000\n",
       "Age               0.000\n",
       "Tenure            0.000\n",
       "Balance           0.000\n",
       "NumOfProducts     0.000\n",
       "HasCrCard         0.000\n",
       "IsActiveMember    0.000\n",
       "EstimatedSalary   0.000\n",
       "Exited            0.000\n",
       "dtype: float64"
      ]
     },
     "execution_count": 832,
     "metadata": {},
     "output_type": "execute_result"
    }
   ],
   "source": [
    "# let's check for missing values in the data\n",
    "round(data.isnull().sum() / data.isnull().count() * 100, 2)"
   ]
  },
  {
   "cell_type": "markdown",
   "metadata": {
    "id": "wDmf-IfQtvE7"
   },
   "source": [
    "### Observations\n",
    "There are no missing values in the dataset"
   ]
  },
  {
   "cell_type": "markdown",
   "metadata": {
    "id": "O5QdaTVvt0rL"
   },
   "source": [
    "## 1.12B checking if the dataset has duplicate values"
   ]
  },
  {
   "cell_type": "code",
   "execution_count": 833,
   "metadata": {
    "colab": {
     "base_uri": "https://localhost:8080/"
    },
    "id": "j66gr64dt93q",
    "outputId": "77ff6368-dac9-484c-bc1d-7e1141be7b08"
   },
   "outputs": [
    {
     "data": {
      "text/plain": [
       "RowNumber          0\n",
       "CustomerId         0\n",
       "Surname            0\n",
       "CreditScore        0\n",
       "Geography          0\n",
       "Gender             0\n",
       "Age                0\n",
       "Tenure             0\n",
       "Balance            0\n",
       "NumOfProducts      0\n",
       "HasCrCard          0\n",
       "IsActiveMember     0\n",
       "EstimatedSalary    0\n",
       "Exited             0\n",
       "dtype: int64"
      ]
     },
     "execution_count": 833,
     "metadata": {},
     "output_type": "execute_result"
    }
   ],
   "source": [
    "data[data.duplicated()].count()"
   ]
  },
  {
   "cell_type": "markdown",
   "metadata": {
    "id": "PurHwj95uCjC"
   },
   "source": [
    "## Observations\n",
    "There are no duplicate values in the dataset"
   ]
  },
  {
   "cell_type": "code",
   "execution_count": 834,
   "metadata": {
    "colab": {
     "base_uri": "https://localhost:8080/"
    },
    "id": "7rWH-79NuJug",
    "outputId": "09c09c9a-3078-4ba8-e3c6-02b1838d4067"
   },
   "outputs": [
    {
     "name": "stdout",
     "output_type": "stream",
     "text": [
      "Unique values in the column 'RowNumber' are \n",
      "\n",
      " [    1     2     3 ...  9998  9999 10000]\n",
      "----------------------------------------------------------------------------------------------------\n",
      "Unique values in the column 'CustomerId' are \n",
      "\n",
      " [15634602 15647311 15619304 ... 15584532 15682355 15628319]\n",
      "----------------------------------------------------------------------------------------------------\n",
      "Unique values in the column 'Surname' are \n",
      "\n",
      " ['Hargrave', 'Hill', 'Onio', 'Boni', 'Mitchell', ..., 'Salinas', 'Cleveland', 'Kashiwagi', 'Aldridge', 'Burbidge']\n",
      "Length: 2932\n",
      "Categories (2932, object): ['Abazu', 'Abbie', 'Abbott', 'Abdullah', ..., 'Zubareva', 'Zuev', 'Zuyev',\n",
      "                            'Zuyeva']\n",
      "----------------------------------------------------------------------------------------------------\n",
      "Unique values in the column 'CreditScore' are \n",
      "\n",
      " [619 608 502 699 850 645 822 376 501 684 528 497 476 549 635 616 653 587\n",
      " 726 732 636 510 669 846 577 756 571 574 411 591 533 553 520 722 475 490\n",
      " 804 582 472 465 556 834 660 776 829 637 550 698 585 788 655 601 656 725\n",
      " 511 614 742 687 555 603 751 581 735 661 675 738 813 657 604 519 664 678\n",
      " 757 416 665 777 543 506 493 652 750 729 646 647 808 524 769 730 515 773\n",
      " 814 710 413 623 670 622 785 605 479 685 538 562 721 628 668 828 674 625\n",
      " 432 770 758 795 686 789 589 461 584 579 663 682 793 691 485 650 754 535\n",
      " 716 539 706 586 631 717 800 683 704 615 667 484 480 578 512 606 597 778\n",
      " 514 525 715 580 807 521 759 516 711 618 643 671 689 620 676 572 695 592\n",
      " 567 694 547 594 673 610 767 763 712 703 662 659 523 772 545 634 739 771\n",
      " 681 544 696 766 727 693 557 531 498 651 791 733 811 707 714 782 775 799\n",
      " 602 744 588 747 583 627 731 629 438 642 806 474 559 429 680 749 734 644\n",
      " 626 649 805 718 840 630 654 762 568 613 522 737 648 443 640 540 460 593\n",
      " 801 611 802 745 483 690 492 709 705 560 752 701 537 487 596 702 486 724\n",
      " 548 464 790 534 748 494 590 468 509 818 816 536 753 774 621 569 658 798\n",
      " 641 542 692 639 765 570 638 599 632 779 527 564 833 504 842 508 417 598\n",
      " 741 607 761 848 546 439 755 760 526 713 700 666 566 495 688 612 477 427\n",
      " 839 819 720 459 503 624 529 563 482 796 445 746 786 554 672 787 499 844\n",
      " 450 815 838 803 736 633 600 679 517 792 743 488 421 841 708 507 505 456\n",
      " 435 561 518 565 728 784 552 609 764 697 723 551 444 719 496 541 830 812\n",
      " 677 420 595 617 809 500 826 434 513 478 797 363 399 463 780 452 575 837\n",
      " 794 824 428 823 781 849 489 431 457 768 831 359 820 573 576 558 817 449\n",
      " 440 415 821 530 350 446 425 740 481 783 358 845 451 458 469 423 404 836\n",
      " 473 835 466 491 351 827 843 365 532 414 453 471 401 810 832 470 447 422\n",
      " 825 430 436 426 408 847 418 437 410 454 407 455 462 386 405 383 395 467\n",
      " 433 442 424 448 441 367 412 382 373 419]\n",
      "----------------------------------------------------------------------------------------------------\n",
      "Unique values in the column 'Geography' are \n",
      "\n",
      " ['France', 'Spain', 'Germany']\n",
      "Categories (3, object): ['France', 'Germany', 'Spain']\n",
      "----------------------------------------------------------------------------------------------------\n",
      "Unique values in the column 'Gender' are \n",
      "\n",
      " ['Female', 'Male']\n",
      "Categories (2, object): ['Female', 'Male']\n",
      "----------------------------------------------------------------------------------------------------\n",
      "Unique values in the column 'Age' are \n",
      "\n",
      " [42 41 39 43 44 50 29 27 31 24 34 25 35 45 58 32 38 46 36 33 40 51 61 49\n",
      " 37 19 66 56 26 21 55 75 22 30 28 65 48 52 57 73 47 54 72 20 67 79 62 53\n",
      " 80 59 68 23 60 70 63 64 18 82 69 74 71 76 77 88 85 84 78 81 92 83]\n",
      "----------------------------------------------------------------------------------------------------\n",
      "Unique values in the column 'Tenure' are \n",
      "\n",
      " [ 2  1  8  7  4  6  3 10  5  9  0]\n",
      "----------------------------------------------------------------------------------------------------\n",
      "Unique values in the column 'Balance' are \n",
      "\n",
      " [     0.    83807.86 159660.8  ...  57369.61  75075.31 130142.79]\n",
      "----------------------------------------------------------------------------------------------------\n",
      "Unique values in the column 'NumOfProducts' are \n",
      "\n",
      " [1 3 2 4]\n",
      "----------------------------------------------------------------------------------------------------\n",
      "Unique values in the column 'HasCrCard' are \n",
      "\n",
      " [1 0]\n",
      "----------------------------------------------------------------------------------------------------\n",
      "Unique values in the column 'IsActiveMember' are \n",
      "\n",
      " [1 0]\n",
      "----------------------------------------------------------------------------------------------------\n",
      "Unique values in the column 'EstimatedSalary' are \n",
      "\n",
      " [101348.88 112542.58 113931.57 ...  42085.58  92888.52  38190.78]\n",
      "----------------------------------------------------------------------------------------------------\n",
      "Unique values in the column 'Exited' are \n",
      "\n",
      " [1 0]\n",
      "----------------------------------------------------------------------------------------------------\n"
     ]
    }
   ],
   "source": [
    "# Let's see unique values\n",
    "cols = data.columns\n",
    "\n",
    "for col in cols:\n",
    "    print(\"Unique values in the column '{}' are \\n\\n\".format(col), data[col].unique())\n",
    "    print(\"-\" * 100)"
   ]
  },
  {
   "cell_type": "markdown",
   "metadata": {
    "id": "S1w2uTYSpj8S"
   },
   "source": [
    "# Dropping Some Columns\n"
   ]
  },
  {
   "cell_type": "code",
   "execution_count": 835,
   "metadata": {
    "id": "C3iGXTvCps3E"
   },
   "outputs": [],
   "source": [
    "data.drop([\"RowNumber\",\"CustomerId\", \"Surname\"], axis=1, inplace=True)"
   ]
  },
  {
   "cell_type": "code",
   "execution_count": 836,
   "metadata": {
    "colab": {
     "base_uri": "https://localhost:8080/",
     "height": 423
    },
    "id": "X-UpPx0yqtKd",
    "outputId": "52d6561e-e4e9-4a50-d1bf-4371f628d455"
   },
   "outputs": [
    {
     "data": {
      "text/html": [
       "\n",
       "  <div id=\"df-682a2c56-7260-45d3-be80-dec1f658bc94\">\n",
       "    <div class=\"colab-df-container\">\n",
       "      <div>\n",
       "<style scoped>\n",
       "    .dataframe tbody tr th:only-of-type {\n",
       "        vertical-align: middle;\n",
       "    }\n",
       "\n",
       "    .dataframe tbody tr th {\n",
       "        vertical-align: top;\n",
       "    }\n",
       "\n",
       "    .dataframe thead th {\n",
       "        text-align: right;\n",
       "    }\n",
       "</style>\n",
       "<table border=\"1\" class=\"dataframe\">\n",
       "  <thead>\n",
       "    <tr style=\"text-align: right;\">\n",
       "      <th></th>\n",
       "      <th>CreditScore</th>\n",
       "      <th>Geography</th>\n",
       "      <th>Gender</th>\n",
       "      <th>Age</th>\n",
       "      <th>Tenure</th>\n",
       "      <th>Balance</th>\n",
       "      <th>NumOfProducts</th>\n",
       "      <th>HasCrCard</th>\n",
       "      <th>IsActiveMember</th>\n",
       "      <th>EstimatedSalary</th>\n",
       "      <th>Exited</th>\n",
       "    </tr>\n",
       "  </thead>\n",
       "  <tbody>\n",
       "    <tr>\n",
       "      <th>0</th>\n",
       "      <td>619</td>\n",
       "      <td>France</td>\n",
       "      <td>Female</td>\n",
       "      <td>42</td>\n",
       "      <td>2</td>\n",
       "      <td>0.000</td>\n",
       "      <td>1</td>\n",
       "      <td>1</td>\n",
       "      <td>1</td>\n",
       "      <td>101348.880</td>\n",
       "      <td>1</td>\n",
       "    </tr>\n",
       "    <tr>\n",
       "      <th>1</th>\n",
       "      <td>608</td>\n",
       "      <td>Spain</td>\n",
       "      <td>Female</td>\n",
       "      <td>41</td>\n",
       "      <td>1</td>\n",
       "      <td>83807.860</td>\n",
       "      <td>1</td>\n",
       "      <td>0</td>\n",
       "      <td>1</td>\n",
       "      <td>112542.580</td>\n",
       "      <td>0</td>\n",
       "    </tr>\n",
       "    <tr>\n",
       "      <th>2</th>\n",
       "      <td>502</td>\n",
       "      <td>France</td>\n",
       "      <td>Female</td>\n",
       "      <td>42</td>\n",
       "      <td>8</td>\n",
       "      <td>159660.800</td>\n",
       "      <td>3</td>\n",
       "      <td>1</td>\n",
       "      <td>0</td>\n",
       "      <td>113931.570</td>\n",
       "      <td>1</td>\n",
       "    </tr>\n",
       "    <tr>\n",
       "      <th>3</th>\n",
       "      <td>699</td>\n",
       "      <td>France</td>\n",
       "      <td>Female</td>\n",
       "      <td>39</td>\n",
       "      <td>1</td>\n",
       "      <td>0.000</td>\n",
       "      <td>2</td>\n",
       "      <td>0</td>\n",
       "      <td>0</td>\n",
       "      <td>93826.630</td>\n",
       "      <td>0</td>\n",
       "    </tr>\n",
       "    <tr>\n",
       "      <th>4</th>\n",
       "      <td>850</td>\n",
       "      <td>Spain</td>\n",
       "      <td>Female</td>\n",
       "      <td>43</td>\n",
       "      <td>2</td>\n",
       "      <td>125510.820</td>\n",
       "      <td>1</td>\n",
       "      <td>1</td>\n",
       "      <td>1</td>\n",
       "      <td>79084.100</td>\n",
       "      <td>0</td>\n",
       "    </tr>\n",
       "    <tr>\n",
       "      <th>...</th>\n",
       "      <td>...</td>\n",
       "      <td>...</td>\n",
       "      <td>...</td>\n",
       "      <td>...</td>\n",
       "      <td>...</td>\n",
       "      <td>...</td>\n",
       "      <td>...</td>\n",
       "      <td>...</td>\n",
       "      <td>...</td>\n",
       "      <td>...</td>\n",
       "      <td>...</td>\n",
       "    </tr>\n",
       "    <tr>\n",
       "      <th>9995</th>\n",
       "      <td>771</td>\n",
       "      <td>France</td>\n",
       "      <td>Male</td>\n",
       "      <td>39</td>\n",
       "      <td>5</td>\n",
       "      <td>0.000</td>\n",
       "      <td>2</td>\n",
       "      <td>1</td>\n",
       "      <td>0</td>\n",
       "      <td>96270.640</td>\n",
       "      <td>0</td>\n",
       "    </tr>\n",
       "    <tr>\n",
       "      <th>9996</th>\n",
       "      <td>516</td>\n",
       "      <td>France</td>\n",
       "      <td>Male</td>\n",
       "      <td>35</td>\n",
       "      <td>10</td>\n",
       "      <td>57369.610</td>\n",
       "      <td>1</td>\n",
       "      <td>1</td>\n",
       "      <td>1</td>\n",
       "      <td>101699.770</td>\n",
       "      <td>0</td>\n",
       "    </tr>\n",
       "    <tr>\n",
       "      <th>9997</th>\n",
       "      <td>709</td>\n",
       "      <td>France</td>\n",
       "      <td>Female</td>\n",
       "      <td>36</td>\n",
       "      <td>7</td>\n",
       "      <td>0.000</td>\n",
       "      <td>1</td>\n",
       "      <td>0</td>\n",
       "      <td>1</td>\n",
       "      <td>42085.580</td>\n",
       "      <td>1</td>\n",
       "    </tr>\n",
       "    <tr>\n",
       "      <th>9998</th>\n",
       "      <td>772</td>\n",
       "      <td>Germany</td>\n",
       "      <td>Male</td>\n",
       "      <td>42</td>\n",
       "      <td>3</td>\n",
       "      <td>75075.310</td>\n",
       "      <td>2</td>\n",
       "      <td>1</td>\n",
       "      <td>0</td>\n",
       "      <td>92888.520</td>\n",
       "      <td>1</td>\n",
       "    </tr>\n",
       "    <tr>\n",
       "      <th>9999</th>\n",
       "      <td>792</td>\n",
       "      <td>France</td>\n",
       "      <td>Female</td>\n",
       "      <td>28</td>\n",
       "      <td>4</td>\n",
       "      <td>130142.790</td>\n",
       "      <td>1</td>\n",
       "      <td>1</td>\n",
       "      <td>0</td>\n",
       "      <td>38190.780</td>\n",
       "      <td>0</td>\n",
       "    </tr>\n",
       "  </tbody>\n",
       "</table>\n",
       "<p>10000 rows × 11 columns</p>\n",
       "</div>\n",
       "      <button class=\"colab-df-convert\" onclick=\"convertToInteractive('df-682a2c56-7260-45d3-be80-dec1f658bc94')\"\n",
       "              title=\"Convert this dataframe to an interactive table.\"\n",
       "              style=\"display:none;\">\n",
       "        \n",
       "  <svg xmlns=\"http://www.w3.org/2000/svg\" height=\"24px\"viewBox=\"0 0 24 24\"\n",
       "       width=\"24px\">\n",
       "    <path d=\"M0 0h24v24H0V0z\" fill=\"none\"/>\n",
       "    <path d=\"M18.56 5.44l.94 2.06.94-2.06 2.06-.94-2.06-.94-.94-2.06-.94 2.06-2.06.94zm-11 1L8.5 8.5l.94-2.06 2.06-.94-2.06-.94L8.5 2.5l-.94 2.06-2.06.94zm10 10l.94 2.06.94-2.06 2.06-.94-2.06-.94-.94-2.06-.94 2.06-2.06.94z\"/><path d=\"M17.41 7.96l-1.37-1.37c-.4-.4-.92-.59-1.43-.59-.52 0-1.04.2-1.43.59L10.3 9.45l-7.72 7.72c-.78.78-.78 2.05 0 2.83L4 21.41c.39.39.9.59 1.41.59.51 0 1.02-.2 1.41-.59l7.78-7.78 2.81-2.81c.8-.78.8-2.07 0-2.86zM5.41 20L4 18.59l7.72-7.72 1.47 1.35L5.41 20z\"/>\n",
       "  </svg>\n",
       "      </button>\n",
       "      \n",
       "  <style>\n",
       "    .colab-df-container {\n",
       "      display:flex;\n",
       "      flex-wrap:wrap;\n",
       "      gap: 12px;\n",
       "    }\n",
       "\n",
       "    .colab-df-convert {\n",
       "      background-color: #E8F0FE;\n",
       "      border: none;\n",
       "      border-radius: 50%;\n",
       "      cursor: pointer;\n",
       "      display: none;\n",
       "      fill: #1967D2;\n",
       "      height: 32px;\n",
       "      padding: 0 0 0 0;\n",
       "      width: 32px;\n",
       "    }\n",
       "\n",
       "    .colab-df-convert:hover {\n",
       "      background-color: #E2EBFA;\n",
       "      box-shadow: 0px 1px 2px rgba(60, 64, 67, 0.3), 0px 1px 3px 1px rgba(60, 64, 67, 0.15);\n",
       "      fill: #174EA6;\n",
       "    }\n",
       "\n",
       "    [theme=dark] .colab-df-convert {\n",
       "      background-color: #3B4455;\n",
       "      fill: #D2E3FC;\n",
       "    }\n",
       "\n",
       "    [theme=dark] .colab-df-convert:hover {\n",
       "      background-color: #434B5C;\n",
       "      box-shadow: 0px 1px 3px 1px rgba(0, 0, 0, 0.15);\n",
       "      filter: drop-shadow(0px 1px 2px rgba(0, 0, 0, 0.3));\n",
       "      fill: #FFFFFF;\n",
       "    }\n",
       "  </style>\n",
       "\n",
       "      <script>\n",
       "        const buttonEl =\n",
       "          document.querySelector('#df-682a2c56-7260-45d3-be80-dec1f658bc94 button.colab-df-convert');\n",
       "        buttonEl.style.display =\n",
       "          google.colab.kernel.accessAllowed ? 'block' : 'none';\n",
       "\n",
       "        async function convertToInteractive(key) {\n",
       "          const element = document.querySelector('#df-682a2c56-7260-45d3-be80-dec1f658bc94');\n",
       "          const dataTable =\n",
       "            await google.colab.kernel.invokeFunction('convertToInteractive',\n",
       "                                                     [key], {});\n",
       "          if (!dataTable) return;\n",
       "\n",
       "          const docLinkHtml = 'Like what you see? Visit the ' +\n",
       "            '<a target=\"_blank\" href=https://colab.research.google.com/notebooks/data_table.ipynb>data table notebook</a>'\n",
       "            + ' to learn more about interactive tables.';\n",
       "          element.innerHTML = '';\n",
       "          dataTable['output_type'] = 'display_data';\n",
       "          await google.colab.output.renderOutput(dataTable, element);\n",
       "          const docLink = document.createElement('div');\n",
       "          docLink.innerHTML = docLinkHtml;\n",
       "          element.appendChild(docLink);\n",
       "        }\n",
       "      </script>\n",
       "    </div>\n",
       "  </div>\n",
       "  "
      ],
      "text/plain": [
       "      CreditScore Geography  Gender  Age  Tenure    Balance  NumOfProducts  \\\n",
       "0             619    France  Female   42       2      0.000              1   \n",
       "1             608     Spain  Female   41       1  83807.860              1   \n",
       "2             502    France  Female   42       8 159660.800              3   \n",
       "3             699    France  Female   39       1      0.000              2   \n",
       "4             850     Spain  Female   43       2 125510.820              1   \n",
       "...           ...       ...     ...  ...     ...        ...            ...   \n",
       "9995          771    France    Male   39       5      0.000              2   \n",
       "9996          516    France    Male   35      10  57369.610              1   \n",
       "9997          709    France  Female   36       7      0.000              1   \n",
       "9998          772   Germany    Male   42       3  75075.310              2   \n",
       "9999          792    France  Female   28       4 130142.790              1   \n",
       "\n",
       "      HasCrCard  IsActiveMember  EstimatedSalary  Exited  \n",
       "0             1               1       101348.880       1  \n",
       "1             0               1       112542.580       0  \n",
       "2             1               0       113931.570       1  \n",
       "3             0               0        93826.630       0  \n",
       "4             1               1        79084.100       0  \n",
       "...         ...             ...              ...     ...  \n",
       "9995          1               0        96270.640       0  \n",
       "9996          1               1       101699.770       0  \n",
       "9997          0               1        42085.580       1  \n",
       "9998          1               0        92888.520       1  \n",
       "9999          1               0        38190.780       0  \n",
       "\n",
       "[10000 rows x 11 columns]"
      ]
     },
     "execution_count": 836,
     "metadata": {},
     "output_type": "execute_result"
    }
   ],
   "source": [
    "data"
   ]
  },
  {
   "cell_type": "code",
   "execution_count": 837,
   "metadata": {
    "colab": {
     "base_uri": "https://localhost:8080/",
     "height": 423
    },
    "id": "dFMG7mxZ3U_8",
    "outputId": "27f427f5-cc0e-4d29-820b-d024a8dac843"
   },
   "outputs": [
    {
     "data": {
      "text/html": [
       "\n",
       "  <div id=\"df-b6f7fb8c-157c-4250-86f5-60b773e9dc80\">\n",
       "    <div class=\"colab-df-container\">\n",
       "      <div>\n",
       "<style scoped>\n",
       "    .dataframe tbody tr th:only-of-type {\n",
       "        vertical-align: middle;\n",
       "    }\n",
       "\n",
       "    .dataframe tbody tr th {\n",
       "        vertical-align: top;\n",
       "    }\n",
       "\n",
       "    .dataframe thead th {\n",
       "        text-align: right;\n",
       "    }\n",
       "</style>\n",
       "<table border=\"1\" class=\"dataframe\">\n",
       "  <thead>\n",
       "    <tr style=\"text-align: right;\">\n",
       "      <th></th>\n",
       "      <th>CreditScore</th>\n",
       "      <th>Geography</th>\n",
       "      <th>Gender</th>\n",
       "      <th>Age</th>\n",
       "      <th>Tenure</th>\n",
       "      <th>Balance</th>\n",
       "      <th>NumOfProducts</th>\n",
       "      <th>HasCrCard</th>\n",
       "      <th>IsActiveMember</th>\n",
       "      <th>EstimatedSalary</th>\n",
       "      <th>Exited</th>\n",
       "    </tr>\n",
       "  </thead>\n",
       "  <tbody>\n",
       "    <tr>\n",
       "      <th>0</th>\n",
       "      <td>619</td>\n",
       "      <td>France</td>\n",
       "      <td>Female</td>\n",
       "      <td>42</td>\n",
       "      <td>2</td>\n",
       "      <td>0.000</td>\n",
       "      <td>1</td>\n",
       "      <td>1</td>\n",
       "      <td>1</td>\n",
       "      <td>101348.880</td>\n",
       "      <td>1</td>\n",
       "    </tr>\n",
       "    <tr>\n",
       "      <th>1</th>\n",
       "      <td>608</td>\n",
       "      <td>Spain</td>\n",
       "      <td>Female</td>\n",
       "      <td>41</td>\n",
       "      <td>1</td>\n",
       "      <td>83807.860</td>\n",
       "      <td>1</td>\n",
       "      <td>0</td>\n",
       "      <td>1</td>\n",
       "      <td>112542.580</td>\n",
       "      <td>0</td>\n",
       "    </tr>\n",
       "    <tr>\n",
       "      <th>2</th>\n",
       "      <td>502</td>\n",
       "      <td>France</td>\n",
       "      <td>Female</td>\n",
       "      <td>42</td>\n",
       "      <td>8</td>\n",
       "      <td>159660.800</td>\n",
       "      <td>3</td>\n",
       "      <td>1</td>\n",
       "      <td>0</td>\n",
       "      <td>113931.570</td>\n",
       "      <td>1</td>\n",
       "    </tr>\n",
       "    <tr>\n",
       "      <th>3</th>\n",
       "      <td>699</td>\n",
       "      <td>France</td>\n",
       "      <td>Female</td>\n",
       "      <td>39</td>\n",
       "      <td>1</td>\n",
       "      <td>0.000</td>\n",
       "      <td>2</td>\n",
       "      <td>0</td>\n",
       "      <td>0</td>\n",
       "      <td>93826.630</td>\n",
       "      <td>0</td>\n",
       "    </tr>\n",
       "    <tr>\n",
       "      <th>4</th>\n",
       "      <td>850</td>\n",
       "      <td>Spain</td>\n",
       "      <td>Female</td>\n",
       "      <td>43</td>\n",
       "      <td>2</td>\n",
       "      <td>125510.820</td>\n",
       "      <td>1</td>\n",
       "      <td>1</td>\n",
       "      <td>1</td>\n",
       "      <td>79084.100</td>\n",
       "      <td>0</td>\n",
       "    </tr>\n",
       "    <tr>\n",
       "      <th>...</th>\n",
       "      <td>...</td>\n",
       "      <td>...</td>\n",
       "      <td>...</td>\n",
       "      <td>...</td>\n",
       "      <td>...</td>\n",
       "      <td>...</td>\n",
       "      <td>...</td>\n",
       "      <td>...</td>\n",
       "      <td>...</td>\n",
       "      <td>...</td>\n",
       "      <td>...</td>\n",
       "    </tr>\n",
       "    <tr>\n",
       "      <th>9995</th>\n",
       "      <td>771</td>\n",
       "      <td>France</td>\n",
       "      <td>Male</td>\n",
       "      <td>39</td>\n",
       "      <td>5</td>\n",
       "      <td>0.000</td>\n",
       "      <td>2</td>\n",
       "      <td>1</td>\n",
       "      <td>0</td>\n",
       "      <td>96270.640</td>\n",
       "      <td>0</td>\n",
       "    </tr>\n",
       "    <tr>\n",
       "      <th>9996</th>\n",
       "      <td>516</td>\n",
       "      <td>France</td>\n",
       "      <td>Male</td>\n",
       "      <td>35</td>\n",
       "      <td>10</td>\n",
       "      <td>57369.610</td>\n",
       "      <td>1</td>\n",
       "      <td>1</td>\n",
       "      <td>1</td>\n",
       "      <td>101699.770</td>\n",
       "      <td>0</td>\n",
       "    </tr>\n",
       "    <tr>\n",
       "      <th>9997</th>\n",
       "      <td>709</td>\n",
       "      <td>France</td>\n",
       "      <td>Female</td>\n",
       "      <td>36</td>\n",
       "      <td>7</td>\n",
       "      <td>0.000</td>\n",
       "      <td>1</td>\n",
       "      <td>0</td>\n",
       "      <td>1</td>\n",
       "      <td>42085.580</td>\n",
       "      <td>1</td>\n",
       "    </tr>\n",
       "    <tr>\n",
       "      <th>9998</th>\n",
       "      <td>772</td>\n",
       "      <td>Germany</td>\n",
       "      <td>Male</td>\n",
       "      <td>42</td>\n",
       "      <td>3</td>\n",
       "      <td>75075.310</td>\n",
       "      <td>2</td>\n",
       "      <td>1</td>\n",
       "      <td>0</td>\n",
       "      <td>92888.520</td>\n",
       "      <td>1</td>\n",
       "    </tr>\n",
       "    <tr>\n",
       "      <th>9999</th>\n",
       "      <td>792</td>\n",
       "      <td>France</td>\n",
       "      <td>Female</td>\n",
       "      <td>28</td>\n",
       "      <td>4</td>\n",
       "      <td>130142.790</td>\n",
       "      <td>1</td>\n",
       "      <td>1</td>\n",
       "      <td>0</td>\n",
       "      <td>38190.780</td>\n",
       "      <td>0</td>\n",
       "    </tr>\n",
       "  </tbody>\n",
       "</table>\n",
       "<p>10000 rows × 11 columns</p>\n",
       "</div>\n",
       "      <button class=\"colab-df-convert\" onclick=\"convertToInteractive('df-b6f7fb8c-157c-4250-86f5-60b773e9dc80')\"\n",
       "              title=\"Convert this dataframe to an interactive table.\"\n",
       "              style=\"display:none;\">\n",
       "        \n",
       "  <svg xmlns=\"http://www.w3.org/2000/svg\" height=\"24px\"viewBox=\"0 0 24 24\"\n",
       "       width=\"24px\">\n",
       "    <path d=\"M0 0h24v24H0V0z\" fill=\"none\"/>\n",
       "    <path d=\"M18.56 5.44l.94 2.06.94-2.06 2.06-.94-2.06-.94-.94-2.06-.94 2.06-2.06.94zm-11 1L8.5 8.5l.94-2.06 2.06-.94-2.06-.94L8.5 2.5l-.94 2.06-2.06.94zm10 10l.94 2.06.94-2.06 2.06-.94-2.06-.94-.94-2.06-.94 2.06-2.06.94z\"/><path d=\"M17.41 7.96l-1.37-1.37c-.4-.4-.92-.59-1.43-.59-.52 0-1.04.2-1.43.59L10.3 9.45l-7.72 7.72c-.78.78-.78 2.05 0 2.83L4 21.41c.39.39.9.59 1.41.59.51 0 1.02-.2 1.41-.59l7.78-7.78 2.81-2.81c.8-.78.8-2.07 0-2.86zM5.41 20L4 18.59l7.72-7.72 1.47 1.35L5.41 20z\"/>\n",
       "  </svg>\n",
       "      </button>\n",
       "      \n",
       "  <style>\n",
       "    .colab-df-container {\n",
       "      display:flex;\n",
       "      flex-wrap:wrap;\n",
       "      gap: 12px;\n",
       "    }\n",
       "\n",
       "    .colab-df-convert {\n",
       "      background-color: #E8F0FE;\n",
       "      border: none;\n",
       "      border-radius: 50%;\n",
       "      cursor: pointer;\n",
       "      display: none;\n",
       "      fill: #1967D2;\n",
       "      height: 32px;\n",
       "      padding: 0 0 0 0;\n",
       "      width: 32px;\n",
       "    }\n",
       "\n",
       "    .colab-df-convert:hover {\n",
       "      background-color: #E2EBFA;\n",
       "      box-shadow: 0px 1px 2px rgba(60, 64, 67, 0.3), 0px 1px 3px 1px rgba(60, 64, 67, 0.15);\n",
       "      fill: #174EA6;\n",
       "    }\n",
       "\n",
       "    [theme=dark] .colab-df-convert {\n",
       "      background-color: #3B4455;\n",
       "      fill: #D2E3FC;\n",
       "    }\n",
       "\n",
       "    [theme=dark] .colab-df-convert:hover {\n",
       "      background-color: #434B5C;\n",
       "      box-shadow: 0px 1px 3px 1px rgba(0, 0, 0, 0.15);\n",
       "      filter: drop-shadow(0px 1px 2px rgba(0, 0, 0, 0.3));\n",
       "      fill: #FFFFFF;\n",
       "    }\n",
       "  </style>\n",
       "\n",
       "      <script>\n",
       "        const buttonEl =\n",
       "          document.querySelector('#df-b6f7fb8c-157c-4250-86f5-60b773e9dc80 button.colab-df-convert');\n",
       "        buttonEl.style.display =\n",
       "          google.colab.kernel.accessAllowed ? 'block' : 'none';\n",
       "\n",
       "        async function convertToInteractive(key) {\n",
       "          const element = document.querySelector('#df-b6f7fb8c-157c-4250-86f5-60b773e9dc80');\n",
       "          const dataTable =\n",
       "            await google.colab.kernel.invokeFunction('convertToInteractive',\n",
       "                                                     [key], {});\n",
       "          if (!dataTable) return;\n",
       "\n",
       "          const docLinkHtml = 'Like what you see? Visit the ' +\n",
       "            '<a target=\"_blank\" href=https://colab.research.google.com/notebooks/data_table.ipynb>data table notebook</a>'\n",
       "            + ' to learn more about interactive tables.';\n",
       "          element.innerHTML = '';\n",
       "          dataTable['output_type'] = 'display_data';\n",
       "          await google.colab.output.renderOutput(dataTable, element);\n",
       "          const docLink = document.createElement('div');\n",
       "          docLink.innerHTML = docLinkHtml;\n",
       "          element.appendChild(docLink);\n",
       "        }\n",
       "      </script>\n",
       "    </div>\n",
       "  </div>\n",
       "  "
      ],
      "text/plain": [
       "      CreditScore Geography  Gender  Age  Tenure    Balance  NumOfProducts  \\\n",
       "0             619    France  Female   42       2      0.000              1   \n",
       "1             608     Spain  Female   41       1  83807.860              1   \n",
       "2             502    France  Female   42       8 159660.800              3   \n",
       "3             699    France  Female   39       1      0.000              2   \n",
       "4             850     Spain  Female   43       2 125510.820              1   \n",
       "...           ...       ...     ...  ...     ...        ...            ...   \n",
       "9995          771    France    Male   39       5      0.000              2   \n",
       "9996          516    France    Male   35      10  57369.610              1   \n",
       "9997          709    France  Female   36       7      0.000              1   \n",
       "9998          772   Germany    Male   42       3  75075.310              2   \n",
       "9999          792    France  Female   28       4 130142.790              1   \n",
       "\n",
       "      HasCrCard  IsActiveMember  EstimatedSalary  Exited  \n",
       "0             1               1       101348.880       1  \n",
       "1             0               1       112542.580       0  \n",
       "2             1               0       113931.570       1  \n",
       "3             0               0        93826.630       0  \n",
       "4             1               1        79084.100       0  \n",
       "...         ...             ...              ...     ...  \n",
       "9995          1               0        96270.640       0  \n",
       "9996          1               1       101699.770       0  \n",
       "9997          0               1        42085.580       1  \n",
       "9998          1               0        92888.520       1  \n",
       "9999          1               0        38190.780       0  \n",
       "\n",
       "[10000 rows x 11 columns]"
      ]
     },
     "execution_count": 837,
     "metadata": {},
     "output_type": "execute_result"
    }
   ],
   "source": [
    "# Resetting the dataframe index\n",
    "data.reset_index(inplace=True, drop=True)\n",
    "data"
   ]
  },
  {
   "cell_type": "markdown",
   "metadata": {
    "id": "mgTaEUfapJoL"
   },
   "source": [
    "# 1.16B Exploratory Data Analysis\n",
    "\n",
    "### UNIVARIANT ANALYSIS For the Categorical Variables"
   ]
  },
  {
   "cell_type": "code",
   "execution_count": 838,
   "metadata": {
    "id": "PHW7Q2mxpSxd"
   },
   "outputs": [],
   "source": [
    "# function to create labeled barplots\n",
    "\n",
    "\n",
    "def labeled_barplot(data, feature, perc=False, n=None):\n",
    "    \"\"\"\n",
    "    Barplot with percentage at the top\n",
    "\n",
    "    data: dataframe\n",
    "    feature: dataframe column\n",
    "    perc: whether to display percentages instead of count (default is False)\n",
    "    n: displays the top n category levels (default is None, i.e., display all levels)\n",
    "    \"\"\"\n",
    "\n",
    "    total = len(data[feature])  # length of the column\n",
    "    count = data[feature].nunique()\n",
    "    if n is None:\n",
    "        plt.figure(figsize=(count + 1, 5))\n",
    "    else:\n",
    "        plt.figure(figsize=(n + 1, 5))\n",
    "\n",
    "    plt.xticks(rotation=90, fontsize=15)\n",
    "    ax = sns.countplot(\n",
    "        data=data,\n",
    "        x=feature,\n",
    "        palette=\"Paired\",\n",
    "        order=data[feature].value_counts().index[:n].sort_values(),\n",
    "    )\n",
    "\n",
    "    for p in ax.patches:\n",
    "        if perc == True:\n",
    "            label = \"{:.1f}%\".format(\n",
    "                100 * p.get_height() / total\n",
    "            )  # percentage of each class of the category\n",
    "        else:\n",
    "            label = p.get_height()  # count of each level of the category\n",
    "\n",
    "        x = p.get_x() + p.get_width() / 2  # width of the plot\n",
    "        y = p.get_height()  # height of the plot\n",
    "\n",
    "        ax.annotate(\n",
    "            label,\n",
    "            (x, y),\n",
    "            ha=\"center\",\n",
    "            va=\"center\",\n",
    "            size=12,\n",
    "            xytext=(0, 5),\n",
    "            textcoords=\"offset points\",\n",
    "        )  # annotate the percentage\n",
    "\n",
    "    plt.show()  # show the plot"
   ]
  },
  {
   "cell_type": "code",
   "execution_count": 839,
   "metadata": {
    "colab": {
     "base_uri": "https://localhost:8080/",
     "height": 398
    },
    "id": "IM5OjIm_3agD",
    "outputId": "66497081-35b3-4602-c874-1c5d36b9e2c3"
   },
   "outputs": [
    {
     "data": {
      "image/png": "[encoded data removed]",
      "text/plain": [
       "<Figure size 288x360 with 1 Axes>"
      ]
     },
     "metadata": {},
     "output_type": "display_data"
    }
   ],
   "source": [
    "labeled_barplot(data, \"Geography\", perc=True)"
   ]
  },
  {
   "cell_type": "markdown",
   "metadata": {
    "id": "yzOcN8H2LL7L"
   },
   "source": [
    "# Observations.\n",
    "1. 50.1% of the customers are from France.\n",
    "2. 24.8% of the customers are from Spain."
   ]
  },
  {
   "cell_type": "code",
   "execution_count": 840,
   "metadata": {
    "colab": {
     "base_uri": "https://localhost:8080/",
     "height": 384
    },
    "id": "tgAsk-D04Qfr",
    "outputId": "34a14dac-0c77-4312-c105-cbfd0082d0c9"
   },
   "outputs": [
    {
     "data": {
      "image/png": "[encoded data removed]",
      "text/plain": [
       "<Figure size 216x360 with 1 Axes>"
      ]
     },
     "metadata": {},
     "output_type": "display_data"
    }
   ],
   "source": [
    "labeled_barplot(data, \"Gender\", perc=True)"
   ]
  },
  {
   "cell_type": "markdown",
   "metadata": {
    "id": "viCf4ao0Lemx"
   },
   "source": [
    "There are more Male customers than female."
   ]
  },
  {
   "cell_type": "code",
   "execution_count": 841,
   "metadata": {
    "colab": {
     "base_uri": "https://localhost:8080/",
     "height": 339
    },
    "id": "QUSwCJxg4S7f",
    "outputId": "1960a48d-0e3f-411b-9745-20fb9f508eef"
   },
   "outputs": [
    {
     "data": {
      "image/png": "[encoded data removed]",
      "text/plain": [
       "<Figure size 360x360 with 1 Axes>"
      ]
     },
     "metadata": {},
     "output_type": "display_data"
    }
   ],
   "source": [
    "labeled_barplot(data, \"NumOfProducts\", perc=True)"
   ]
  },
  {
   "cell_type": "markdown",
   "metadata": {
    "id": "_biUuN6XQytV"
   },
   "source": [
    "# Observation\n",
    "\n",
    "1. The number of products that Majority of the customer had purchased through the bank is 1. This might be an indication that most customers do not like to purchase products through the bank."
   ]
  },
  {
   "cell_type": "code",
   "execution_count": 842,
   "metadata": {
    "colab": {
     "base_uri": "https://localhost:8080/",
     "height": 339
    },
    "id": "zgz49Isl4eBe",
    "outputId": "14c43b55-daa0-4cd1-8c0d-e816dd8d733f"
   },
   "outputs": [
    {
     "data": {
      "image/png": "[encoded data removed]",
      "text/plain": [
       "<Figure size 216x360 with 1 Axes>"
      ]
     },
     "metadata": {},
     "output_type": "display_data"
    }
   ],
   "source": [
    "\n",
    "labeled_barplot(data, \"HasCrCard\", perc=True)"
   ]
  },
  {
   "cell_type": "markdown",
   "metadata": {
    "id": "P3VPAEaFROje"
   },
   "source": [
    "70.5% of the customers have a credit card. This is the majority."
   ]
  },
  {
   "cell_type": "code",
   "execution_count": 843,
   "metadata": {
    "colab": {
     "base_uri": "https://localhost:8080/",
     "height": 339
    },
    "id": "a67NA-x_4klc",
    "outputId": "574ffb5d-acc9-4877-abd3-0299819a1db1"
   },
   "outputs": [
    {
     "data": {
      "image/png": "[encoded data removed]",
      "text/plain": [
       "<Figure size 216x360 with 1 Axes>"
      ]
     },
     "metadata": {},
     "output_type": "display_data"
    }
   ],
   "source": [
    "labeled_barplot(data, \"IsActiveMember\", perc=True)"
   ]
  },
  {
   "cell_type": "markdown",
   "metadata": {
    "id": "kIO7zdkjRd6g"
   },
   "source": [
    "1. 51.5% of the customers are active members of the bank. \n",
    "2. 48.5% of the customers are in-active members of the bank. \n",
    "The margin is very close. Nearly half of the customers are in-active."
   ]
  },
  {
   "cell_type": "code",
   "execution_count": 844,
   "metadata": {
    "colab": {
     "base_uri": "https://localhost:8080/",
     "height": 339
    },
    "id": "HDsEqrgc4t7C",
    "outputId": "83b7aa37-df1c-4052-d429-1561b541e90d"
   },
   "outputs": [
    {
     "data": {
      "image/png": "[encoded data removed]",
      "text/plain": [
       "<Figure size 216x360 with 1 Axes>"
      ]
     },
     "metadata": {},
     "output_type": "display_data"
    }
   ],
   "source": [
    "\n",
    "labeled_barplot(data, \"Exited\", perc=True)"
   ]
  },
  {
   "cell_type": "markdown",
   "metadata": {
    "id": "CqdvUq2VR5wK"
   },
   "source": [
    "79.6% of the customers did not leave the bank. Only 20.4% left the bank.  "
   ]
  },
  {
   "cell_type": "markdown",
   "metadata": {
    "id": "fhprbUjGYHRi"
   },
   "source": [
    "## UNIVARIANT ANALYSIS For the Numerical Variables"
   ]
  },
  {
   "cell_type": "code",
   "execution_count": 845,
   "metadata": {
    "id": "TN9vtvG4YS4R"
   },
   "outputs": [],
   "source": [
    "# function to plot a boxplot and a histogram along the same scale.\n",
    "\n",
    "\n",
    "def histogram_boxplot(data, feature, figsize=(12, 7), kde=False, bins=None):\n",
    "    \"\"\"\n",
    "    Boxplot and histogram combined\n",
    "\n",
    "    data: dataframe\n",
    "    feature: dataframe column\n",
    "    figsize: size of figure (default (12,7))\n",
    "    kde: whether to the show density curve (default False)\n",
    "    bins: number of bins for histogram (default None)\n",
    "    \"\"\"\n",
    "    f2, (ax_box2, ax_hist2) = plt.subplots(\n",
    "        nrows=2,  # Number of rows of the subplot grid= 2\n",
    "        sharex=True,  # x-axis will be shared among all subplots\n",
    "        gridspec_kw={\"height_ratios\": (0.25, 0.75)},\n",
    "        figsize=figsize,\n",
    "    )  # creating the 2 subplots\n",
    "    sns.boxplot(\n",
    "        data=data, x=feature, ax=ax_box2, showmeans=True, color=\"violet\"\n",
    "    )  # boxplot will be created and a star will indicate the mean value of the column\n",
    "    sns.histplot(\n",
    "        data=data, x=feature, kde=kde, ax=ax_hist2, bins=bins, palette=\"winter\"\n",
    "    ) if bins else sns.histplot(\n",
    "        data=data, x=feature, kde=kde, ax=ax_hist2\n",
    "    )  # For histogram\n",
    "\n",
    "    ax_hist2.axvline(\n",
    "        data[feature].mean(), color=\"green\", linestyle=\"--\"\n",
    "    )  # Add mean to the histogram\n",
    "    ax_hist2.axvline(\n",
    "        data[feature].median(), color=\"black\", linestyle=\"-\"\n",
    "    )  # Add median to the histogram\n"
   ]
  },
  {
   "cell_type": "markdown",
   "metadata": {
    "id": "g17dUXQQYpwR"
   },
   "source": [
    "# AGE"
   ]
  },
  {
   "cell_type": "code",
   "execution_count": 846,
   "metadata": {
    "colab": {
     "base_uri": "https://localhost:8080/",
     "height": 448
    },
    "id": "SPKqw4THYnrM",
    "outputId": "505ef07a-d863-4e19-9ff2-9b1974ed3401"
   },
   "outputs": [
    {
     "data": {
      "image/png": "[encoded data removed]",
      "text/plain": [
       "<Figure size 864x504 with 2 Axes>"
      ]
     },
     "metadata": {},
     "output_type": "display_data"
    }
   ],
   "source": [
    "\n",
    "histogram_boxplot(data, \"Age\", bins=70)"
   ]
  },
  {
   "cell_type": "markdown",
   "metadata": {
    "id": "rKIKmVbIZnp3"
   },
   "source": [
    "Observation.\n",
    "1. The [Age] of the customers are slightly skewed to the right.\n",
    "\n",
    "# Outlier- Treatment\n",
    "[Age]"
   ]
  },
  {
   "cell_type": "code",
   "execution_count": 847,
   "metadata": {
    "colab": {
     "base_uri": "https://localhost:8080/"
    },
    "id": "k7jvqzXoZzkH",
    "outputId": "1788e657-390c-4e02-f29e-3d603567254d"
   },
   "outputs": [
    {
     "name": "stdout",
     "output_type": "stream",
     "text": [
      "Q1 = 32.0, Q3 = 44.0, 4*IQR = 48.0\n"
     ]
    },
    {
     "data": {
      "text/plain": [
       "2458    88\n",
       "6443    92\n",
       "6759    92\n",
       "Name: Age, dtype: int64"
      ]
     },
     "execution_count": 847,
     "metadata": {},
     "output_type": "execute_result"
    }
   ],
   "source": [
    "quartiles = np.quantile(data[\"Age\"][data[\"Age\"].notnull()], [0.25, 0.75])\n",
    "Age_4iqr = 4 * (quartiles[1] - quartiles[0])\n",
    "print(f\"Q1 = {quartiles[0]}, Q3 = {quartiles[1]}, 4*IQR = {Age_4iqr}\")\n",
    "outlier_Age = data.loc[np.abs(data[\"Age\"] - data[\"Age\"].median()) > Age_4iqr, \"Age\"]\n",
    "outlier_Age"
   ]
  },
  {
   "cell_type": "markdown",
   "metadata": {
    "id": "JPnk96vfciBT"
   },
   "source": [
    "#Observation\n",
    "1. There are outliers in the data"
   ]
  },
  {
   "cell_type": "markdown",
   "metadata": {
    "id": "8QOOoyBoaZ5l"
   },
   "source": [
    "# Tenure"
   ]
  },
  {
   "cell_type": "code",
   "execution_count": 848,
   "metadata": {
    "colab": {
     "base_uri": "https://localhost:8080/",
     "height": 448
    },
    "id": "TKiL7TlTafoy",
    "outputId": "6fa92cee-3d8b-4005-e64a-b5c27970ca8a"
   },
   "outputs": [
    {
     "data": {
      "image/png": "[encoded data removed]",
      "text/plain": [
       "<Figure size 864x504 with 2 Axes>"
      ]
     },
     "metadata": {},
     "output_type": "display_data"
    }
   ],
   "source": [
    "histogram_boxplot(data, \"Tenure\", bins=70)"
   ]
  },
  {
   "cell_type": "markdown",
   "metadata": {
    "id": "pPma01v5coDg"
   },
   "source": [
    "#Observation\n",
    "1. No visible outlier"
   ]
  },
  {
   "cell_type": "markdown",
   "metadata": {
    "id": "ybA9pK9Obttb"
   },
   "source": [
    "CreditScore"
   ]
  },
  {
   "cell_type": "code",
   "execution_count": 849,
   "metadata": {
    "colab": {
     "base_uri": "https://localhost:8080/",
     "height": 448
    },
    "id": "9B65fKIsbV6w",
    "outputId": "b8463f4e-e923-4923-a967-d0d1651883c5"
   },
   "outputs": [
    {
     "data": {
      "image/png": "[encoded data removed]",
      "text/plain": [
       "<Figure size 864x504 with 2 Axes>"
      ]
     },
     "metadata": {},
     "output_type": "display_data"
    }
   ],
   "source": [
    "histogram_boxplot(data, \"CreditScore\", bins=70)"
   ]
  },
  {
   "cell_type": "markdown",
   "metadata": {
    "id": "s-d8gFJ6ctDf"
   },
   "source": [
    "#Observation\n",
    "1. There are visible outlier\n",
    "2. Observation.\n",
    "The CreditScore is very close to a normal distribution with the median and average being very close to each other.\n",
    "\n"
   ]
  },
  {
   "cell_type": "markdown",
   "metadata": {
    "id": "eqP0WjDZWdZo"
   },
   "source": [
    "# Outlier- Treatment"
   ]
  },
  {
   "cell_type": "code",
   "execution_count": 850,
   "metadata": {
    "colab": {
     "base_uri": "https://localhost:8080/"
    },
    "id": "LujnTiMmWZNJ",
    "outputId": "a5622749-ceb2-4925-d58c-74bc8a7f96e1"
   },
   "outputs": [
    {
     "name": "stdout",
     "output_type": "stream",
     "text": [
      "Q1 = 584.0, Q3 = 718.0, 4*IQR = 536.0\n"
     ]
    },
    {
     "data": {
      "text/plain": [
       "2       502\n",
       "4       850\n",
       "6       822\n",
       "7       376\n",
       "8       501\n",
       "       ... \n",
       "9995    771\n",
       "9996    516\n",
       "9997    709\n",
       "9998    772\n",
       "9999    792\n",
       "Name: CreditScore, Length: 6289, dtype: int64"
      ]
     },
     "execution_count": 850,
     "metadata": {},
     "output_type": "execute_result"
    }
   ],
   "source": [
    "quartiles = np.quantile(data[\"CreditScore\"][data[\"CreditScore\"].notnull()], [0.25, 0.75])\n",
    "CreditScore_4iqr = 4 * (quartiles[1] - quartiles[0])\n",
    "print(f\"Q1 = {quartiles[0]}, Q3 = {quartiles[1]}, 4*IQR = {CreditScore_4iqr}\")\n",
    "outlier_CreditScore = data.loc[np.abs(data[\"CreditScore\"] - data[\"CreditScore\"].median()) > Age_4iqr, \"CreditScore\"]\n",
    "outlier_CreditScore"
   ]
  },
  {
   "cell_type": "markdown",
   "metadata": {
    "id": "qoP_Er04b0vU"
   },
   "source": [
    "## Balance"
   ]
  },
  {
   "cell_type": "code",
   "execution_count": 851,
   "metadata": {
    "colab": {
     "base_uri": "https://localhost:8080/",
     "height": 448
    },
    "id": "tzYBkGomb57g",
    "outputId": "fc044b2d-36b4-4c12-81fb-bb9e94827af1"
   },
   "outputs": [
    {
     "data": {
      "image/png": "[encoded data removed]",
      "text/plain": [
       "<Figure size 864x504 with 2 Axes>"
      ]
     },
     "metadata": {},
     "output_type": "display_data"
    }
   ],
   "source": [
    "\n",
    "histogram_boxplot(data, \"Balance\", bins=70)"
   ]
  },
  {
   "cell_type": "markdown",
   "metadata": {
    "id": "YWgv7w8lcvv_"
   },
   "source": [
    "#Observation\n",
    "1. No visible outlier\n",
    "2. The distribution is skewed to the left.\n"
   ]
  },
  {
   "cell_type": "code",
   "execution_count": 852,
   "metadata": {
    "colab": {
     "base_uri": "https://localhost:8080/",
     "height": 448
    },
    "id": "i4ub5B0DcDhf",
    "outputId": "5ded04e3-15a1-4f6a-bb32-f63b5932a567"
   },
   "outputs": [
    {
     "data": {
      "image/png": "[encoded data removed]",
      "text/plain": [
       "<Figure size 864x504 with 2 Axes>"
      ]
     },
     "metadata": {},
     "output_type": "display_data"
    }
   ],
   "source": [
    "\n",
    "histogram_boxplot(data, \"EstimatedSalary\", bins=70)"
   ]
  },
  {
   "cell_type": "markdown",
   "metadata": {
    "id": "INW3sERpcyQD"
   },
   "source": [
    "#Observation\n",
    "1. No visible outlier"
   ]
  },
  {
   "cell_type": "markdown",
   "metadata": {
    "id": "sLA3uEBAdNtc"
   },
   "source": [
    "# 1.17B Bivariate Analysis.\n",
    "\n",
    "Through bivariate analysis we try to analyze two variables simultaneously. I will try to determine if there is any relationship between two variables from the dataset.\n",
    "\n",
    "For this type of analysis, we can use use:\n",
    "\n",
    "1. Pairplot.\n",
    "2. Heatmap function in seaborn.\n",
    "3. Pointplot.\n",
    "4. Barplot or\n",
    "5. Scatter plot.\n",
    "\n",
    "Exploring the Relationship between numerical variables using pair plots and correlation plots.\n",
    "\n"
   ]
  },
  {
   "cell_type": "code",
   "execution_count": 853,
   "metadata": {
    "id": "9YbINwBKd6vM"
   },
   "outputs": [],
   "source": [
    "# selecting numerical columns\n",
    "#num_cols = data.select_dtypes(include=np.number).columns.tolist()\n",
    "\n",
    "#for item in num_cols:\n",
    " #   histogram_boxplot(data, item, bins=50, kde=True, figsize=(10, 5))"
   ]
  },
  {
   "cell_type": "code",
   "execution_count": 854,
   "metadata": {
    "colab": {
     "base_uri": "https://localhost:8080/",
     "height": 516
    },
    "id": "alkhM5qpdZQ1",
    "outputId": "dffaf4cf-dca0-4010-b600-de803d57e9c2"
   },
   "outputs": [
    {
     "data": {
      "image/png": "[encoded data removed]",
      "text/plain": [
       "<Figure size 1080x504 with 2 Axes>"
      ]
     },
     "metadata": {},
     "output_type": "display_data"
    }
   ],
   "source": [
    "plt.figure(figsize=(15, 7))\n",
    "sns.heatmap(\n",
    "    data.corr(), annot=True, vmin=-1, vmax=1, fmt=\".2f\", cmap=\"Spectral\"\n",
    ")\n",
    "plt.show()"
   ]
  },
  {
   "cell_type": "markdown",
   "metadata": {
    "id": "oM2bFlHLo6iC"
   },
   "source": [
    "\n",
    "Observations\n",
    "\n",
    "Avg_Credit_Limit is positively correlated with Total_Credit_Cards. The correlation is 0.61\n",
    "Avg_Credit_Limit is positively correlated with Total_visits_online. The correlation is 0.55\n",
    "\n",
    "Observations.\n",
    "The Months_on_book and the Customer_Age are highly(positive) correlated. 0.79 is the correlation. So, i will drop one of the columns,\n",
    "The Average_Utilization_Ratio and the Credit_Limit has a negative correlation. -0.46 is the correlation.\n",
    "The Average_Utilization_Ratio and the Total_Revolving_Bal have a slightly high positive correlation. 0.62 is the correlation.\n",
    "\n",
    "Avg_Open_To_Buy and Credit_Limit have a high positive correlation. We can drop one of them.\n",
    "\n",
    "The Total_Trans_Ct and the Total_Trans_Amt has a very high positive correlation. 0.85 is the correlation.We can drop one of them.\n",
    "The Average_Utilization_Ratio and the Avg_Open_To_Buy has a negative correlation. -0.54 is the correlation.\n",
    "\n",
    "The Total_Ct_Chng_Q4_Q1 and the Total_Amt_Chng_Q4_Q1 has a low positive correlation. 0.38 is the correlation.\n",
    "The Credit_Limit and the Total_Trans_Amt has a very low negative correlation. 0.16 is the correlation.\n",
    "The Avg_Open_To_Buy and the Total_Trans_Amt has a very low correlation. 0.16 is the correlation.\n",
    "The Credit_Limit and the Average_Utilization_Ratio has a very low negative correlation. -0.48 is the correlation."
   ]
  },
  {
   "cell_type": "markdown",
   "metadata": {
    "id": "wJhaVxZ-qMnN"
   },
   "source": [
    "# Exploring the categorical features\n",
    "I will check the relationship betwwen the Target variable with some of the categorical columns in my data"
   ]
  },
  {
   "cell_type": "code",
   "execution_count": 855,
   "metadata": {
    "id": "zJ8B5O3GqXGo"
   },
   "outputs": [],
   "source": [
    "# function to plot stacked bar chart\n",
    "\n",
    "\n",
    "def stacked_barplot(data, predictor, target):\n",
    "    \"\"\"\n",
    "    Print the category counts and plot a stacked bar chart\n",
    "\n",
    "    data: dataframe\n",
    "    predictor: independent variable\n",
    "    target: target variable\n",
    "    \"\"\"\n",
    "    count = data[predictor].nunique()\n",
    "    sorter = data[target].value_counts().index[-1]\n",
    "    tab1 = pd.crosstab(data[predictor], data[target], margins=True).sort_values(\n",
    "        by=sorter, ascending=False\n",
    "    )\n",
    "    print(tab1)\n",
    "    print(\"-\" * 120)\n",
    "    tab = pd.crosstab(data[predictor], data[target], normalize=\"index\").sort_values(\n",
    "        by=sorter, ascending=False\n",
    "    )\n",
    "    tab.plot(kind=\"bar\", stacked=True, figsize=(count + 5, 6))\n",
    "    plt.legend(\n",
    "        loc=\"lower left\",\n",
    "        frameon=False,\n",
    "    )\n",
    "    plt.legend(loc=\"upper left\", bbox_to_anchor=(1, 1))\n",
    "    plt.show()"
   ]
  },
  {
   "cell_type": "markdown",
   "metadata": {
    "id": "sV3oDCQrphX7"
   },
   "source": [
    "# Credit Score vs Exited"
   ]
  },
  {
   "cell_type": "code",
   "execution_count": 856,
   "metadata": {
    "colab": {
     "base_uri": "https://localhost:8080/",
     "height": 528
    },
    "id": "shYNXvarqbKW",
    "outputId": "3715dcee-447e-48a4-8811-c88d566976a5"
   },
   "outputs": [
    {
     "name": "stdout",
     "output_type": "stream",
     "text": [
      "Exited     0     1    All\n",
      "Gender                   \n",
      "All     7963  2037  10000\n",
      "Female  3404  1139   4543\n",
      "Male    4559   898   5457\n",
      "------------------------------------------------------------------------------------------------------------------------\n"
     ]
    },
    {
     "data": {
      "image/png": "[encoded data removed]",
      "text/plain": [
       "<Figure size 504x432 with 1 Axes>"
      ]
     },
     "metadata": {},
     "output_type": "display_data"
    }
   ],
   "source": [
    "stacked_barplot(data, \"Gender\", \"Exited\")"
   ]
  },
  {
   "cell_type": "markdown",
   "metadata": {
    "id": "N2vbYxEyVffG"
   },
   "source": [
    "There are more Male customers.\n",
    "Accross both genders, the number of exited customers is high."
   ]
  },
  {
   "cell_type": "markdown",
   "metadata": {
    "id": "QgG5c3Kvq8j7"
   },
   "source": [
    "Geography vs Exited"
   ]
  },
  {
   "cell_type": "code",
   "execution_count": 857,
   "metadata": {
    "colab": {
     "base_uri": "https://localhost:8080/",
     "height": 555
    },
    "id": "WVSrn8IsrBpx",
    "outputId": "ccd22748-a196-4d05-8061-969e92dfb187"
   },
   "outputs": [
    {
     "name": "stdout",
     "output_type": "stream",
     "text": [
      "Exited        0     1    All\n",
      "Geography                   \n",
      "All        7963  2037  10000\n",
      "Germany    1695   814   2509\n",
      "France     4204   810   5014\n",
      "Spain      2064   413   2477\n",
      "------------------------------------------------------------------------------------------------------------------------\n"
     ]
    },
    {
     "data": {
      "image/png": "[encoded data removed]",
      "text/plain": [
       "<Figure size 576x432 with 1 Axes>"
      ]
     },
     "metadata": {},
     "output_type": "display_data"
    }
   ],
   "source": [
    "stacked_barplot(data, \"Geography\", \"Exited\")"
   ]
  },
  {
   "cell_type": "markdown",
   "metadata": {
    "id": "lCpRxFPiV1J-"
   },
   "source": [
    " 1. The % of Customers that did not leave the bank is greater than those that left the bank.\n",
    "\n",
    " 2.  Majority of the Customers that did not leave the bank are from France."
   ]
  },
  {
   "cell_type": "code",
   "execution_count": 858,
   "metadata": {
    "colab": {
     "base_uri": "https://localhost:8080/"
    },
    "id": "V4tyiDsZnfyb",
    "outputId": "45b664ae-b42d-4739-bcc4-9ed1ec5e28fe"
   },
   "outputs": [
    {
     "data": {
      "text/plain": [
       "Geography\n",
       "France    0.398\n",
       "Germany   0.400\n",
       "Spain     0.203\n",
       "Name: Exited, dtype: float64"
      ]
     },
     "execution_count": 858,
     "metadata": {},
     "output_type": "execute_result"
    }
   ],
   "source": [
    "data.groupby('Geography')['Exited'].sum()/2037"
   ]
  },
  {
   "cell_type": "code",
   "execution_count": 859,
   "metadata": {
    "colab": {
     "base_uri": "https://localhost:8080/",
     "height": 658
    },
    "id": "JNNuxsShtZ5g",
    "outputId": "60e872d8-2d61-4ce0-809f-f0887c6c23f8"
   },
   "outputs": [
    {
     "name": "stdout",
     "output_type": "stream",
     "text": [
      "Exited     0     1    All\n",
      "Tenure                   \n",
      "All     7963  2037  10000\n",
      "1        803   232   1035\n",
      "3        796   213   1009\n",
      "9        771   213    984\n",
      "5        803   209   1012\n",
      "4        786   203    989\n",
      "2        847   201   1048\n",
      "8        828   197   1025\n",
      "6        771   196    967\n",
      "7        851   177   1028\n",
      "10       389   101    490\n",
      "0        318    95    413\n",
      "------------------------------------------------------------------------------------------------------------------------\n"
     ]
    },
    {
     "data": {
      "image/png": "[encoded data removed]",
      "text/plain": [
       "<Figure size 1152x432 with 1 Axes>"
      ]
     },
     "metadata": {},
     "output_type": "display_data"
    }
   ],
   "source": [
    "stacked_barplot(data, \"Tenure\", \"Exited\")"
   ]
  },
  {
   "cell_type": "markdown",
   "metadata": {
    "id": "-WWiL0PSvqOC"
   },
   "source": [
    "Customers with higher number of products held are more likely to use credit cards services than other customers with lesser number of products held."
   ]
  },
  {
   "cell_type": "code",
   "execution_count": 860,
   "metadata": {
    "colab": {
     "base_uri": "https://localhost:8080/",
     "height": 530
    },
    "id": "Yl2Tizd5ttCK",
    "outputId": "ea3ceb1a-ea41-4786-daa4-1835a55b828f"
   },
   "outputs": [
    {
     "name": "stdout",
     "output_type": "stream",
     "text": [
      "Exited            0     1    All\n",
      "NumOfProducts                   \n",
      "All            7963  2037  10000\n",
      "1              3675  1409   5084\n",
      "2              4242   348   4590\n",
      "3                46   220    266\n",
      "4                 0    60     60\n",
      "------------------------------------------------------------------------------------------------------------------------\n"
     ]
    },
    {
     "data": {
      "image/png": "[encoded data removed]",
      "text/plain": [
       "<Figure size 648x432 with 1 Axes>"
      ]
     },
     "metadata": {},
     "output_type": "display_data"
    }
   ],
   "source": [
    "stacked_barplot(data, \"NumOfProducts\", \"Exited\")\n"
   ]
  },
  {
   "cell_type": "markdown",
   "metadata": {
    "id": "jmisfTmhrOYq"
   },
   "source": [
    "The highest purchase of goods through the bank is 2 products."
   ]
  },
  {
   "cell_type": "code",
   "execution_count": 861,
   "metadata": {
    "colab": {
     "base_uri": "https://localhost:8080/",
     "height": 495
    },
    "id": "U9Sjy1Z3uF5G",
    "outputId": "26012468-cb1b-4730-a071-767aa7de5171"
   },
   "outputs": [
    {
     "name": "stdout",
     "output_type": "stream",
     "text": [
      "Exited        0     1    All\n",
      "HasCrCard                   \n",
      "All        7963  2037  10000\n",
      "1          5631  1424   7055\n",
      "0          2332   613   2945\n",
      "------------------------------------------------------------------------------------------------------------------------\n"
     ]
    },
    {
     "data": {
      "image/png": "[encoded data removed]",
      "text/plain": [
       "<Figure size 504x432 with 1 Axes>"
      ]
     },
     "metadata": {},
     "output_type": "display_data"
    }
   ],
   "source": [
    "stacked_barplot(data, \"HasCrCard\", \"Exited\")"
   ]
  },
  {
   "cell_type": "code",
   "execution_count": 862,
   "metadata": {
    "colab": {
     "base_uri": "https://localhost:8080/",
     "height": 495
    },
    "id": "ICbtObwDuV6R",
    "outputId": "61a47b72-ae0c-40c7-e929-48be206dd465"
   },
   "outputs": [
    {
     "name": "stdout",
     "output_type": "stream",
     "text": [
      "Exited             0     1    All\n",
      "IsActiveMember                   \n",
      "All             7963  2037  10000\n",
      "0               3547  1302   4849\n",
      "1               4416   735   5151\n",
      "------------------------------------------------------------------------------------------------------------------------\n"
     ]
    },
    {
     "data": {
      "image/png": "[encoded data removed]",
      "text/plain": [
       "<Figure size 504x432 with 1 Axes>"
      ]
     },
     "metadata": {},
     "output_type": "display_data"
    }
   ],
   "source": [
    "stacked_barplot(data, \"IsActiveMember\", \"Exited\")"
   ]
  },
  {
   "cell_type": "markdown",
   "metadata": {
    "id": "BcKDP6o3vSgR"
   },
   "source": [
    " It is a categorical variable that decides whether the customer is an active member of the bank or not. There are more active members of the bank"
   ]
  },
  {
   "cell_type": "markdown",
   "metadata": {
    "id": "GclDZfvjvTKb"
   },
   "source": [
    "## Storing required categorical variables in cat_dat to apply dummification \n"
   ]
  },
  {
   "cell_type": "code",
   "execution_count": 863,
   "metadata": {
    "colab": {
     "base_uri": "https://localhost:8080/"
    },
    "id": "1x-QupYjwnQ4",
    "outputId": "67ba8ab4-815f-4d63-eadc-1042003b81c0"
   },
   "outputs": [
    {
     "data": {
      "text/plain": [
       "['Gender',\n",
       " 'IsActiveMember',\n",
       " 'HasCrCard',\n",
       " 'NumOfProducts',\n",
       " 'Tenure',\n",
       " 'Geography']"
      ]
     },
     "execution_count": 863,
     "metadata": {},
     "output_type": "execute_result"
    }
   ],
   "source": [
    "cat_data = [\"Gender\",'IsActiveMember','HasCrCard', 'NumOfProducts','Tenure','Geography']\n",
    "cat_data"
   ]
  },
  {
   "cell_type": "code",
   "execution_count": 863,
   "metadata": {
    "id": "xU5RoUyNpHE-"
   },
   "outputs": [],
   "source": []
  },
  {
   "cell_type": "markdown",
   "metadata": {
    "id": "GNyHVbu7xU25"
   },
   "source": [
    "# Data Pre-processing"
   ]
  },
  {
   "cell_type": "code",
   "execution_count": 864,
   "metadata": {
    "colab": {
     "base_uri": "https://localhost:8080/",
     "height": 206
    },
    "id": "5_pafgrJxXGB",
    "outputId": "8ebd5aaa-85df-46a1-c7c8-421e98c27b16"
   },
   "outputs": [
    {
     "data": {
      "text/html": [
       "\n",
       "  <div id=\"df-4883ac1c-1fde-4c53-9a7a-801ad4f6fc90\">\n",
       "    <div class=\"colab-df-container\">\n",
       "      <div>\n",
       "<style scoped>\n",
       "    .dataframe tbody tr th:only-of-type {\n",
       "        vertical-align: middle;\n",
       "    }\n",
       "\n",
       "    .dataframe tbody tr th {\n",
       "        vertical-align: top;\n",
       "    }\n",
       "\n",
       "    .dataframe thead th {\n",
       "        text-align: right;\n",
       "    }\n",
       "</style>\n",
       "<table border=\"1\" class=\"dataframe\">\n",
       "  <thead>\n",
       "    <tr style=\"text-align: right;\">\n",
       "      <th></th>\n",
       "      <th>Age</th>\n",
       "      <th>Balance</th>\n",
       "      <th>NumOfProducts</th>\n",
       "      <th>HasCrCard</th>\n",
       "      <th>IsActiveMember</th>\n",
       "      <th>Geography_France</th>\n",
       "      <th>Geography_Germany</th>\n",
       "      <th>Geography_Spain</th>\n",
       "      <th>Gender_Female</th>\n",
       "      <th>Gender_Male</th>\n",
       "    </tr>\n",
       "  </thead>\n",
       "  <tbody>\n",
       "    <tr>\n",
       "      <th>0</th>\n",
       "      <td>42</td>\n",
       "      <td>0.000</td>\n",
       "      <td>1</td>\n",
       "      <td>1</td>\n",
       "      <td>1</td>\n",
       "      <td>1</td>\n",
       "      <td>0</td>\n",
       "      <td>0</td>\n",
       "      <td>1</td>\n",
       "      <td>0</td>\n",
       "    </tr>\n",
       "    <tr>\n",
       "      <th>1</th>\n",
       "      <td>41</td>\n",
       "      <td>83807.860</td>\n",
       "      <td>1</td>\n",
       "      <td>0</td>\n",
       "      <td>1</td>\n",
       "      <td>0</td>\n",
       "      <td>0</td>\n",
       "      <td>1</td>\n",
       "      <td>1</td>\n",
       "      <td>0</td>\n",
       "    </tr>\n",
       "    <tr>\n",
       "      <th>2</th>\n",
       "      <td>42</td>\n",
       "      <td>159660.800</td>\n",
       "      <td>3</td>\n",
       "      <td>1</td>\n",
       "      <td>0</td>\n",
       "      <td>1</td>\n",
       "      <td>0</td>\n",
       "      <td>0</td>\n",
       "      <td>1</td>\n",
       "      <td>0</td>\n",
       "    </tr>\n",
       "    <tr>\n",
       "      <th>3</th>\n",
       "      <td>39</td>\n",
       "      <td>0.000</td>\n",
       "      <td>2</td>\n",
       "      <td>0</td>\n",
       "      <td>0</td>\n",
       "      <td>1</td>\n",
       "      <td>0</td>\n",
       "      <td>0</td>\n",
       "      <td>1</td>\n",
       "      <td>0</td>\n",
       "    </tr>\n",
       "    <tr>\n",
       "      <th>4</th>\n",
       "      <td>43</td>\n",
       "      <td>125510.820</td>\n",
       "      <td>1</td>\n",
       "      <td>1</td>\n",
       "      <td>1</td>\n",
       "      <td>0</td>\n",
       "      <td>0</td>\n",
       "      <td>1</td>\n",
       "      <td>1</td>\n",
       "      <td>0</td>\n",
       "    </tr>\n",
       "  </tbody>\n",
       "</table>\n",
       "</div>\n",
       "      <button class=\"colab-df-convert\" onclick=\"convertToInteractive('df-4883ac1c-1fde-4c53-9a7a-801ad4f6fc90')\"\n",
       "              title=\"Convert this dataframe to an interactive table.\"\n",
       "              style=\"display:none;\">\n",
       "        \n",
       "  <svg xmlns=\"http://www.w3.org/2000/svg\" height=\"24px\"viewBox=\"0 0 24 24\"\n",
       "       width=\"24px\">\n",
       "    <path d=\"M0 0h24v24H0V0z\" fill=\"none\"/>\n",
       "    <path d=\"M18.56 5.44l.94 2.06.94-2.06 2.06-.94-2.06-.94-.94-2.06-.94 2.06-2.06.94zm-11 1L8.5 8.5l.94-2.06 2.06-.94-2.06-.94L8.5 2.5l-.94 2.06-2.06.94zm10 10l.94 2.06.94-2.06 2.06-.94-2.06-.94-.94-2.06-.94 2.06-2.06.94z\"/><path d=\"M17.41 7.96l-1.37-1.37c-.4-.4-.92-.59-1.43-.59-.52 0-1.04.2-1.43.59L10.3 9.45l-7.72 7.72c-.78.78-.78 2.05 0 2.83L4 21.41c.39.39.9.59 1.41.59.51 0 1.02-.2 1.41-.59l7.78-7.78 2.81-2.81c.8-.78.8-2.07 0-2.86zM5.41 20L4 18.59l7.72-7.72 1.47 1.35L5.41 20z\"/>\n",
       "  </svg>\n",
       "      </button>\n",
       "      \n",
       "  <style>\n",
       "    .colab-df-container {\n",
       "      display:flex;\n",
       "      flex-wrap:wrap;\n",
       "      gap: 12px;\n",
       "    }\n",
       "\n",
       "    .colab-df-convert {\n",
       "      background-color: #E8F0FE;\n",
       "      border: none;\n",
       "      border-radius: 50%;\n",
       "      cursor: pointer;\n",
       "      display: none;\n",
       "      fill: #1967D2;\n",
       "      height: 32px;\n",
       "      padding: 0 0 0 0;\n",
       "      width: 32px;\n",
       "    }\n",
       "\n",
       "    .colab-df-convert:hover {\n",
       "      background-color: #E2EBFA;\n",
       "      box-shadow: 0px 1px 2px rgba(60, 64, 67, 0.3), 0px 1px 3px 1px rgba(60, 64, 67, 0.15);\n",
       "      fill: #174EA6;\n",
       "    }\n",
       "\n",
       "    [theme=dark] .colab-df-convert {\n",
       "      background-color: #3B4455;\n",
       "      fill: #D2E3FC;\n",
       "    }\n",
       "\n",
       "    [theme=dark] .colab-df-convert:hover {\n",
       "      background-color: #434B5C;\n",
       "      box-shadow: 0px 1px 3px 1px rgba(0, 0, 0, 0.15);\n",
       "      filter: drop-shadow(0px 1px 2px rgba(0, 0, 0, 0.3));\n",
       "      fill: #FFFFFF;\n",
       "    }\n",
       "  </style>\n",
       "\n",
       "      <script>\n",
       "        const buttonEl =\n",
       "          document.querySelector('#df-4883ac1c-1fde-4c53-9a7a-801ad4f6fc90 button.colab-df-convert');\n",
       "        buttonEl.style.display =\n",
       "          google.colab.kernel.accessAllowed ? 'block' : 'none';\n",
       "\n",
       "        async function convertToInteractive(key) {\n",
       "          const element = document.querySelector('#df-4883ac1c-1fde-4c53-9a7a-801ad4f6fc90');\n",
       "          const dataTable =\n",
       "            await google.colab.kernel.invokeFunction('convertToInteractive',\n",
       "                                                     [key], {});\n",
       "          if (!dataTable) return;\n",
       "\n",
       "          const docLinkHtml = 'Like what you see? Visit the ' +\n",
       "            '<a target=\"_blank\" href=https://colab.research.google.com/notebooks/data_table.ipynb>data table notebook</a>'\n",
       "            + ' to learn more about interactive tables.';\n",
       "          element.innerHTML = '';\n",
       "          dataTable['output_type'] = 'display_data';\n",
       "          await google.colab.output.renderOutput(dataTable, element);\n",
       "          const docLink = document.createElement('div');\n",
       "          docLink.innerHTML = docLinkHtml;\n",
       "          element.appendChild(docLink);\n",
       "        }\n",
       "      </script>\n",
       "    </div>\n",
       "  </div>\n",
       "  "
      ],
      "text/plain": [
       "   Age    Balance  NumOfProducts  HasCrCard  IsActiveMember  Geography_France  \\\n",
       "0   42      0.000              1          1               1                 1   \n",
       "1   41  83807.860              1          0               1                 0   \n",
       "2   42 159660.800              3          1               0                 1   \n",
       "3   39      0.000              2          0               0                 1   \n",
       "4   43 125510.820              1          1               1                 0   \n",
       "\n",
       "   Geography_Germany  Geography_Spain  Gender_Female  Gender_Male  \n",
       "0                  0                0              1            0  \n",
       "1                  0                1              1            0  \n",
       "2                  0                0              1            0  \n",
       "3                  0                0              1            0  \n",
       "4                  0                1              1            0  "
      ]
     },
     "execution_count": 864,
     "metadata": {},
     "output_type": "execute_result"
    }
   ],
   "source": [
    "##Splitting Independent and dependent variable in X and Y respectively\n",
    "data_1=data.copy()\n",
    "data_1=data_1.drop(['Tenure','CreditScore','EstimatedSalary'],axis=1)\n",
    "data_1=pd.get_dummies(data_mod)\n",
    "\n",
    "X=data_1.drop('Exited',axis=1)\n",
    "y=data_1['Exited']\n",
    "\n",
    "X.head(5)"
   ]
  },
  {
   "cell_type": "code",
   "execution_count": 865,
   "metadata": {
    "id": "PQcoC4J9r738"
   },
   "outputs": [],
   "source": [
    "X_train,X_test,y_train,y_test=train_test_split(X,y,test_size=0.3,random_state=1)"
   ]
  },
  {
   "cell_type": "code",
   "execution_count": 866,
   "metadata": {
    "id": "4iDaIDaSri1s"
   },
   "outputs": [],
   "source": [
    "def get_model_predictions(model,X):\n",
    "  return tf.round((model.predict(X_test)))"
   ]
  },
  {
   "cell_type": "markdown",
   "metadata": {
    "id": "05mUTY3OVz_b"
   },
   "source": [
    "# Scaled Data"
   ]
  },
  {
   "cell_type": "code",
   "execution_count": 867,
   "metadata": {
    "id": "IuDMw87PTwdk"
   },
   "outputs": [],
   "source": [
    "scaler=StandardScaler().fit(X_train)"
   ]
  },
  {
   "cell_type": "code",
   "execution_count": 868,
   "metadata": {
    "id": "hIWubJvPT0kO"
   },
   "outputs": [],
   "source": [
    "X_train=scaler.transform(X_train)"
   ]
  },
  {
   "cell_type": "code",
   "execution_count": 869,
   "metadata": {
    "id": "0M0qgLJrT4mZ"
   },
   "outputs": [],
   "source": [
    "X_test=scaler.transform(X_test)"
   ]
  },
  {
   "cell_type": "markdown",
   "metadata": {
    "id": "t7UVc-QathtR"
   },
   "source": [
    "# For a start, I will be using the bagging classify model"
   ]
  },
  {
   "cell_type": "code",
   "execution_count": 870,
   "metadata": {
    "id": "quHm1wwuuY-2"
   },
   "outputs": [],
   "source": [
    "## Function to create confusion matrix\n",
    "def make_confusion_matrix(model, y_actual, labels=[1, 0]):\n",
    "    \"\"\"\n",
    "    model : classifier to predict values of X\n",
    "    y_actual : ground truth\n",
    "\n",
    "    \"\"\"\n",
    "    y_predict = model.predict(X_test)\n",
    "    cm = metrics.confusion_matrix(y_actual, y_predict, labels=[0, 1])\n",
    "    df_cm = pd.DataFrame(\n",
    "        cm,\n",
    "        index=[i for i in [\"Actual - No\", \"Actual - Yes\"]],\n",
    "        columns=[i for i in [\"Predicted - No\", \"Predicted - Yes\"]],\n",
    "    )\n",
    "    group_counts = [\"{0:0.0f}\".format(value) for value in cm.flatten()]\n",
    "    group_percentages = [\"{0:.2%}\".format(value) for value in cm.flatten() / np.sum(cm)]\n",
    "    labels = [f\"{v1}\\n{v2}\" for v1, v2 in zip(group_counts, group_percentages)]\n",
    "    labels = np.asarray(labels).reshape(2, 2)\n",
    "    plt.figure(figsize=(10, 7))\n",
    "    sns.heatmap(df_cm, annot=labels, fmt=\"\")\n",
    "    plt.ylabel(\"True label\")\n",
    "    plt.xlabel(\"Predicted label\")"
   ]
  },
  {
   "cell_type": "code",
   "execution_count": 871,
   "metadata": {
    "colab": {
     "base_uri": "https://localhost:8080/"
    },
    "id": "Qlck20wdsCch",
    "outputId": "4448987d-0d72-4370-f19d-7472916a4ee3"
   },
   "outputs": [
    {
     "data": {
      "text/plain": [
       "BaggingClassifier(random_state=1)"
      ]
     },
     "execution_count": 871,
     "metadata": {},
     "output_type": "execute_result"
    }
   ],
   "source": [
    "from sklearn.ensemble import BaggingClassifier, RandomForestClassifier\n",
    "from sklearn.linear_model import LogisticRegression\n",
    "\n",
    "# base_estimator for bagging classifier is a decision tree by default\n",
    "bagging_estimator_model = BaggingClassifier(random_state=1)\n",
    "bagging_estimator_model.fit(X_train, y_train)"
   ]
  },
  {
   "cell_type": "code",
   "execution_count": 872,
   "metadata": {
    "colab": {
     "base_uri": "https://localhost:8080/"
    },
    "id": "Sh5mrt-ttqWE",
    "outputId": "f4cf8605-6256-4680-fea3-6a3250417710"
   },
   "outputs": [
    {
     "name": "stdout",
     "output_type": "stream",
     "text": [
      "Accuracy on test set :  0.84\n",
      "Recall on test set :  0.48165869218500795\n",
      "Precision on test set :  0.6608315098468271\n"
     ]
    }
   ],
   "source": [
    "# Using above defined function to get accuracy, recall and precision on train and test set\n",
    "bagging_estimator_score = get_metrics_score(bagging_estimator_model, y_test)"
   ]
  },
  {
   "cell_type": "markdown",
   "metadata": {
    "id": "38ls_gAiuOTO"
   },
   "source": [
    "1. This model has high accuracy. The recall score for test is very low.\n",
    "\n",
    "2. Company would want Recall to be maximized, greater the Recall higher the chances of minimizing false Negative. Hence, the focus should be on increasing Recall or minimizing the false Negative."
   ]
  },
  {
   "cell_type": "code",
   "execution_count": 873,
   "metadata": {
    "colab": {
     "base_uri": "https://localhost:8080/",
     "height": 448
    },
    "id": "YShuKcWmtafo",
    "outputId": "517f52b1-655a-4490-9592-7465c976a909"
   },
   "outputs": [
    {
     "data": {
      "image/png": "[encoded data removed]",
      "text/plain": [
       "<Figure size 720x504 with 2 Axes>"
      ]
     },
     "metadata": {},
     "output_type": "display_data"
    }
   ],
   "source": [
    "make_confusion_matrix(bagging_estimator_model, y_test)"
   ]
  },
  {
   "cell_type": "markdown",
   "metadata": {
    "id": "s5GlzkosyXZK"
   },
   "source": [
    "# Model building for Neural networks\n"
   ]
  },
  {
   "cell_type": "markdown",
   "metadata": {
    "id": "2d5xdKNLykfU"
   },
   "source": [
    "\n",
    "Three hidden layer with ReLU as activation function.\n",
    "Output layer with 2 nodes (For Classification problem )"
   ]
  },
  {
   "cell_type": "code",
   "execution_count": 875,
   "metadata": {
    "id": "dHXfM3QcGT1W"
   },
   "outputs": [],
   "source": [
    "# This adds the input layer (by specifying input dimension) AND the first hidden layer (units)\n",
    "model1.add(Dense(units=16, input_dim = 10,activation='relu'))   # input of 29 columns as shown above\n",
    "# hidden layer\n",
    "model1.add(Dense(units=64,activation='relu'))\n",
    "\n",
    "model1.add(Dense(32,activation='relu'))\n",
    "model1.add(Dense(32,activation='relu'))\n",
    "# Adding the output layer\n",
    "# Notice that we do not need to specify input dim. \n",
    "# we have an output of 1 node, which is the the desired dimensions of our output (fraud or not)\n",
    "# We use the sigmoid because we want probability outcomes\n",
    "model1.add(Dense(1,activation='sigmoid'))   "
   ]
  },
  {
   "cell_type": "code",
   "execution_count": 876,
   "metadata": {
    "id": "ogFfiMT16JEm"
   },
   "outputs": [],
   "source": [
    "# Create optimizer with default learning rate\n",
    "# Compile the model\n",
    "model1.compile(optimizer='adam',loss='binary_crossentropy',metrics=['accuracy'])"
   ]
  },
  {
   "cell_type": "code",
   "execution_count": 877,
   "metadata": {
    "colab": {
     "base_uri": "https://localhost:8080/"
    },
    "id": "z8JFVjoc6QGn",
    "outputId": "872d9904-e10c-4eb4-9815-e345d37f91f6"
   },
   "outputs": [
    {
     "name": "stdout",
     "output_type": "stream",
     "text": [
      "Model: \"sequential_4\"\n",
      "_________________________________________________________________\n",
      " Layer (type)                Output Shape              Param #   \n",
      "=================================================================\n",
      " dense_9 (Dense)             (None, 100)               1100      \n",
      "                                                                 \n",
      " dense_10 (Dense)            (None, 50)                5050      \n",
      "                                                                 \n",
      " dense_11 (Dense)            (None, 25)                1275      \n",
      "                                                                 \n",
      " dense_12 (Dense)            (None, 1)                 26        \n",
      "                                                                 \n",
      " dense_19 (Dense)            (None, 16)                32        \n",
      "                                                                 \n",
      " dense_20 (Dense)            (None, 24)                408       \n",
      "                                                                 \n",
      " dense_21 (Dense)            (None, 24)                600       \n",
      "                                                                 \n",
      " dense_22 (Dense)            (None, 24)                600       \n",
      "                                                                 \n",
      " dense_23 (Dense)            (None, 1)                 25        \n",
      "                                                                 \n",
      " dense_24 (Dense)            (None, 16)                32        \n",
      "                                                                 \n",
      " dense_25 (Dense)            (None, 64)                1088      \n",
      "                                                                 \n",
      " dense_26 (Dense)            (None, 32)                2080      \n",
      "                                                                 \n",
      " dense_27 (Dense)            (None, 32)                1056      \n",
      "                                                                 \n",
      " dense_28 (Dense)            (None, 1)                 33        \n",
      "                                                                 \n",
      " dense_30 (Dense)            (None, 16)                32        \n",
      "                                                                 \n",
      " dense_33 (Dense)            (None, 16)                272       \n",
      "                                                                 \n",
      " dense_80 (Dense)            (None, 16)                272       \n",
      "                                                                 \n",
      " dense_81 (Dense)            (None, 64)                1088      \n",
      "                                                                 \n",
      " dense_82 (Dense)            (None, 32)                2080      \n",
      "                                                                 \n",
      " dense_83 (Dense)            (None, 32)                1056      \n",
      "                                                                 \n",
      " dense_84 (Dense)            (None, 1)                 33        \n",
      "                                                                 \n",
      " dense_103 (Dense)           (None, 16)                32        \n",
      "                                                                 \n",
      " dense_104 (Dense)           (None, 64)                1088      \n",
      "                                                                 \n",
      " dense_105 (Dense)           (None, 32)                2080      \n",
      "                                                                 \n",
      " dense_106 (Dense)           (None, 32)                1056      \n",
      "                                                                 \n",
      " dense_107 (Dense)           (None, 1)                 33        \n",
      "                                                                 \n",
      " dense_126 (Dense)           (None, 16)                32        \n",
      "                                                                 \n",
      " dense_127 (Dense)           (None, 64)                1088      \n",
      "                                                                 \n",
      " dense_128 (Dense)           (None, 32)                2080      \n",
      "                                                                 \n",
      " dense_129 (Dense)           (None, 32)                1056      \n",
      "                                                                 \n",
      " dense_130 (Dense)           (None, 1)                 33        \n",
      "                                                                 \n",
      " dense_149 (Dense)           (None, 16)                32        \n",
      "                                                                 \n",
      " dense_150 (Dense)           (None, 64)                1088      \n",
      "                                                                 \n",
      " dense_151 (Dense)           (None, 32)                2080      \n",
      "                                                                 \n",
      " dense_152 (Dense)           (None, 32)                1056      \n",
      "                                                                 \n",
      " dense_153 (Dense)           (None, 1)                 33        \n",
      "                                                                 \n",
      "=================================================================\n",
      "Total params: 31,105\n",
      "Trainable params: 31,105\n",
      "Non-trainable params: 0\n",
      "_________________________________________________________________\n"
     ]
    }
   ],
   "source": [
    "model1.summary()"
   ]
  },
  {
   "cell_type": "code",
   "execution_count": 878,
   "metadata": {
    "colab": {
     "base_uri": "https://localhost:8080/"
    },
    "id": "7RUwlsK16ReU",
    "outputId": "187af873-2b10-4b91-f886-5c9e35974873"
   },
   "outputs": [
    {
     "name": "stdout",
     "output_type": "stream",
     "text": [
      "Epoch 1/50\n",
      "374/374 [==============================] - 4s 6ms/step - loss: 0.5185 - accuracy: 0.7961 - val_loss: 0.5016 - val_accuracy: 0.7993\n",
      "Epoch 2/50\n",
      "374/374 [==============================] - 2s 5ms/step - loss: 0.5043 - accuracy: 0.7984 - val_loss: 0.5031 - val_accuracy: 0.7993\n",
      "Epoch 3/50\n",
      "374/374 [==============================] - 2s 5ms/step - loss: 0.5042 - accuracy: 0.7984 - val_loss: 0.5022 - val_accuracy: 0.7993\n",
      "Epoch 4/50\n",
      "374/374 [==============================] - 2s 5ms/step - loss: 0.5037 - accuracy: 0.7984 - val_loss: 0.5028 - val_accuracy: 0.7993\n",
      "Epoch 5/50\n",
      "374/374 [==============================] - 2s 5ms/step - loss: 0.5041 - accuracy: 0.7984 - val_loss: 0.5021 - val_accuracy: 0.7993\n",
      "Epoch 6/50\n",
      "374/374 [==============================] - 2s 5ms/step - loss: 0.5038 - accuracy: 0.7984 - val_loss: 0.5014 - val_accuracy: 0.7993\n",
      "Epoch 7/50\n",
      "374/374 [==============================] - 2s 6ms/step - loss: 0.5037 - accuracy: 0.7984 - val_loss: 0.5066 - val_accuracy: 0.7993\n",
      "Epoch 8/50\n",
      "374/374 [==============================] - 2s 5ms/step - loss: 0.5035 - accuracy: 0.7984 - val_loss: 0.5068 - val_accuracy: 0.7993\n",
      "Epoch 9/50\n",
      "374/374 [==============================] - 2s 5ms/step - loss: 0.5040 - accuracy: 0.7984 - val_loss: 0.5027 - val_accuracy: 0.7993\n",
      "Epoch 10/50\n",
      "374/374 [==============================] - 2s 5ms/step - loss: 0.5036 - accuracy: 0.7984 - val_loss: 0.5021 - val_accuracy: 0.7993\n",
      "Epoch 11/50\n",
      "374/374 [==============================] - 2s 5ms/step - loss: 0.5039 - accuracy: 0.7984 - val_loss: 0.5014 - val_accuracy: 0.7993\n",
      "Epoch 12/50\n",
      "374/374 [==============================] - 2s 6ms/step - loss: 0.5039 - accuracy: 0.7984 - val_loss: 0.5023 - val_accuracy: 0.7993\n",
      "Epoch 13/50\n",
      "374/374 [==============================] - 2s 5ms/step - loss: 0.5039 - accuracy: 0.7984 - val_loss: 0.5014 - val_accuracy: 0.7993\n",
      "Epoch 14/50\n",
      "374/374 [==============================] - 2s 5ms/step - loss: 0.5041 - accuracy: 0.7984 - val_loss: 0.5050 - val_accuracy: 0.7993\n",
      "Epoch 15/50\n",
      "374/374 [==============================] - 2s 5ms/step - loss: 0.5042 - accuracy: 0.7984 - val_loss: 0.5018 - val_accuracy: 0.7993\n",
      "Epoch 16/50\n",
      "374/374 [==============================] - 2s 5ms/step - loss: 0.5038 - accuracy: 0.7984 - val_loss: 0.5016 - val_accuracy: 0.7993\n",
      "Epoch 17/50\n",
      "374/374 [==============================] - 2s 5ms/step - loss: 0.5038 - accuracy: 0.7984 - val_loss: 0.5015 - val_accuracy: 0.7993\n",
      "Epoch 18/50\n",
      "374/374 [==============================] - 2s 5ms/step - loss: 0.5033 - accuracy: 0.7984 - val_loss: 0.5015 - val_accuracy: 0.7993\n",
      "Epoch 19/50\n",
      "374/374 [==============================] - 2s 5ms/step - loss: 0.5037 - accuracy: 0.7984 - val_loss: 0.5033 - val_accuracy: 0.7993\n",
      "Epoch 20/50\n",
      "374/374 [==============================] - 2s 5ms/step - loss: 0.5036 - accuracy: 0.7984 - val_loss: 0.5017 - val_accuracy: 0.7993\n",
      "Epoch 21/50\n",
      "374/374 [==============================] - 2s 6ms/step - loss: 0.5041 - accuracy: 0.7984 - val_loss: 0.5015 - val_accuracy: 0.7993\n",
      "Epoch 22/50\n",
      "374/374 [==============================] - 2s 5ms/step - loss: 0.5036 - accuracy: 0.7984 - val_loss: 0.5026 - val_accuracy: 0.7993\n",
      "Epoch 23/50\n",
      "374/374 [==============================] - 2s 5ms/step - loss: 0.5041 - accuracy: 0.7984 - val_loss: 0.5020 - val_accuracy: 0.7993\n",
      "Epoch 24/50\n",
      "374/374 [==============================] - 2s 5ms/step - loss: 0.5041 - accuracy: 0.7984 - val_loss: 0.5024 - val_accuracy: 0.7993\n",
      "Epoch 25/50\n",
      "374/374 [==============================] - 2s 5ms/step - loss: 0.5035 - accuracy: 0.7984 - val_loss: 0.5014 - val_accuracy: 0.7993\n",
      "Epoch 26/50\n",
      "374/374 [==============================] - 2s 5ms/step - loss: 0.5034 - accuracy: 0.7984 - val_loss: 0.5019 - val_accuracy: 0.7993\n",
      "Epoch 27/50\n",
      "374/374 [==============================] - 2s 5ms/step - loss: 0.5031 - accuracy: 0.7984 - val_loss: 0.5014 - val_accuracy: 0.7993\n",
      "Epoch 28/50\n",
      "374/374 [==============================] - 2s 5ms/step - loss: 0.5035 - accuracy: 0.7984 - val_loss: 0.5025 - val_accuracy: 0.7993\n",
      "Epoch 29/50\n",
      "374/374 [==============================] - 2s 5ms/step - loss: 0.5035 - accuracy: 0.7984 - val_loss: 0.5029 - val_accuracy: 0.7993\n",
      "Epoch 30/50\n",
      "374/374 [==============================] - 2s 5ms/step - loss: 0.5037 - accuracy: 0.7984 - val_loss: 0.5017 - val_accuracy: 0.7993\n",
      "Epoch 31/50\n",
      "374/374 [==============================] - 2s 5ms/step - loss: 0.5038 - accuracy: 0.7984 - val_loss: 0.5015 - val_accuracy: 0.7993\n",
      "Epoch 32/50\n",
      "374/374 [==============================] - 2s 5ms/step - loss: 0.5032 - accuracy: 0.7984 - val_loss: 0.5022 - val_accuracy: 0.7993\n",
      "Epoch 33/50\n",
      "374/374 [==============================] - 2s 5ms/step - loss: 0.5033 - accuracy: 0.7984 - val_loss: 0.5016 - val_accuracy: 0.7993\n",
      "Epoch 34/50\n",
      "374/374 [==============================] - 2s 5ms/step - loss: 0.5034 - accuracy: 0.7984 - val_loss: 0.5020 - val_accuracy: 0.7993\n",
      "Epoch 35/50\n",
      "374/374 [==============================] - 2s 5ms/step - loss: 0.5034 - accuracy: 0.7984 - val_loss: 0.5014 - val_accuracy: 0.7993\n",
      "Epoch 36/50\n",
      "374/374 [==============================] - 2s 5ms/step - loss: 0.5036 - accuracy: 0.7984 - val_loss: 0.5017 - val_accuracy: 0.7993\n",
      "Epoch 37/50\n",
      "374/374 [==============================] - 2s 5ms/step - loss: 0.5031 - accuracy: 0.7984 - val_loss: 0.5027 - val_accuracy: 0.7993\n",
      "Epoch 38/50\n",
      "374/374 [==============================] - 2s 5ms/step - loss: 0.5032 - accuracy: 0.7984 - val_loss: 0.5021 - val_accuracy: 0.7993\n",
      "Epoch 39/50\n",
      "374/374 [==============================] - 2s 5ms/step - loss: 0.5035 - accuracy: 0.7984 - val_loss: 0.5014 - val_accuracy: 0.7993\n",
      "Epoch 40/50\n",
      "374/374 [==============================] - 2s 5ms/step - loss: 0.5034 - accuracy: 0.7984 - val_loss: 0.5014 - val_accuracy: 0.7993\n",
      "Epoch 41/50\n",
      "374/374 [==============================] - 2s 5ms/step - loss: 0.5031 - accuracy: 0.7984 - val_loss: 0.5016 - val_accuracy: 0.7993\n",
      "Epoch 42/50\n",
      "374/374 [==============================] - 2s 5ms/step - loss: 0.5031 - accuracy: 0.7984 - val_loss: 0.5015 - val_accuracy: 0.7993\n",
      "Epoch 43/50\n",
      "374/374 [==============================] - 2s 5ms/step - loss: 0.5033 - accuracy: 0.7984 - val_loss: 0.5016 - val_accuracy: 0.7993\n",
      "Epoch 44/50\n",
      "374/374 [==============================] - 2s 5ms/step - loss: 0.5031 - accuracy: 0.7984 - val_loss: 0.5022 - val_accuracy: 0.7993\n",
      "Epoch 45/50\n",
      "374/374 [==============================] - 2s 5ms/step - loss: 0.5037 - accuracy: 0.7984 - val_loss: 0.5018 - val_accuracy: 0.7993\n",
      "Epoch 46/50\n",
      "374/374 [==============================] - 2s 5ms/step - loss: 0.5034 - accuracy: 0.7984 - val_loss: 0.5014 - val_accuracy: 0.7993\n",
      "Epoch 47/50\n",
      "374/374 [==============================] - 2s 5ms/step - loss: 0.5034 - accuracy: 0.7984 - val_loss: 0.5022 - val_accuracy: 0.7993\n",
      "Epoch 48/50\n",
      "374/374 [==============================] - 2s 5ms/step - loss: 0.5034 - accuracy: 0.7984 - val_loss: 0.5017 - val_accuracy: 0.7993\n",
      "Epoch 49/50\n",
      "374/374 [==============================] - 2s 5ms/step - loss: 0.5030 - accuracy: 0.7984 - val_loss: 0.5016 - val_accuracy: 0.7993\n",
      "Epoch 50/50\n",
      "374/374 [==============================] - 2s 5ms/step - loss: 0.5032 - accuracy: 0.7984 - val_loss: 0.5014 - val_accuracy: 0.7993\n"
     ]
    }
   ],
   "source": [
    "#fitting the model\n",
    "history=model1.fit(X_train,y_train,batch_size=15,epochs=50,validation_split=0.2)"
   ]
  },
  {
   "cell_type": "code",
   "execution_count": 879,
   "metadata": {
    "colab": {
     "base_uri": "https://localhost:8080/",
     "height": 284
    },
    "id": "9snnDhYbIC3M",
    "outputId": "9529f2e0-a1cb-41d8-a13b-b99c7eb0bfae"
   },
   "outputs": [
    {
     "data": {
      "image/png": "[encoded data removed]",
      "text/plain": [
       "<Figure size 432x288 with 1 Axes>"
      ]
     },
     "metadata": {},
     "output_type": "display_data"
    }
   ],
   "source": [
    "pyplot.title('Loss / Mean Squared Error')\n",
    "pyplot.plot(history.history['loss'], label='train')\n",
    "pyplot.plot(history.history['val_loss'], label='validate')\n",
    "pyplot.legend()\n",
    "pyplot.show()"
   ]
  },
  {
   "cell_type": "markdown",
   "metadata": {
    "id": "2XsyHyA781ET"
   },
   "source": [
    "Here the model seems to be overfitted, as the distance between the train curve and validation curve is significant."
   ]
  },
  {
   "cell_type": "code",
   "execution_count": 880,
   "metadata": {
    "colab": {
     "base_uri": "https://localhost:8080/"
    },
    "id": "zFZfohGpIdkh",
    "outputId": "59fe04f0-b1c7-4b5c-8781-e5c779fe45c6"
   },
   "outputs": [
    {
     "name": "stdout",
     "output_type": "stream",
     "text": [
      "94/94 [==============================] - 0s 2ms/step - loss: 0.5130 - accuracy: 0.7910\n"
     ]
    },
    {
     "data": {
      "text/plain": [
       "[0.5129885077476501, 0.7910000085830688]"
      ]
     },
     "execution_count": 880,
     "metadata": {},
     "output_type": "execute_result"
    }
   ],
   "source": [
    "model1.evaluate(X_test,y_test)"
   ]
  },
  {
   "cell_type": "markdown",
   "metadata": {
    "id": "Vphm5b3CIxEA"
   },
   "source": [
    "Now, let's try changing the optimizer to Adam and see if we can overcome the overfitting problem."
   ]
  },
  {
   "cell_type": "code",
   "execution_count": 881,
   "metadata": {
    "colab": {
     "base_uri": "https://localhost:8080/"
    },
    "id": "nly3LBUFIwXk",
    "outputId": "ce46f9d4-e5a5-4171-acbc-456f766d9f2f"
   },
   "outputs": [
    {
     "name": "stdout",
     "output_type": "stream",
     "text": [
      "Epoch 1/50\n",
      "8/8 [==============================] - 2s 48ms/step - loss: 0.7299 - accuracy: 0.3411 - val_loss: 0.7009 - val_accuracy: 0.2007\n",
      "Epoch 2/50\n",
      "8/8 [==============================] - 0s 17ms/step - loss: 0.6906 - accuracy: 0.5986 - val_loss: 0.6711 - val_accuracy: 0.7993\n",
      "Epoch 3/50\n",
      "8/8 [==============================] - 0s 17ms/step - loss: 0.6654 - accuracy: 0.7546 - val_loss: 0.6520 - val_accuracy: 0.7993\n",
      "Epoch 4/50\n",
      "8/8 [==============================] - 0s 15ms/step - loss: 0.6477 - accuracy: 0.7855 - val_loss: 0.6365 - val_accuracy: 0.7993\n",
      "Epoch 5/50\n",
      "8/8 [==============================] - 0s 15ms/step - loss: 0.6290 - accuracy: 0.7964 - val_loss: 0.6207 - val_accuracy: 0.7993\n",
      "Epoch 6/50\n",
      "8/8 [==============================] - 0s 15ms/step - loss: 0.6120 - accuracy: 0.7980 - val_loss: 0.6036 - val_accuracy: 0.7993\n",
      "Epoch 7/50\n",
      "8/8 [==============================] - 0s 16ms/step - loss: 0.5970 - accuracy: 0.7987 - val_loss: 0.5864 - val_accuracy: 0.7993\n",
      "Epoch 8/50\n",
      "8/8 [==============================] - 0s 16ms/step - loss: 0.5792 - accuracy: 0.7980 - val_loss: 0.5690 - val_accuracy: 0.7993\n",
      "Epoch 9/50\n",
      "8/8 [==============================] - 0s 15ms/step - loss: 0.5628 - accuracy: 0.7984 - val_loss: 0.5521 - val_accuracy: 0.7993\n",
      "Epoch 10/50\n",
      "8/8 [==============================] - 0s 15ms/step - loss: 0.5472 - accuracy: 0.7984 - val_loss: 0.5368 - val_accuracy: 0.7993\n",
      "Epoch 11/50\n",
      "8/8 [==============================] - 0s 18ms/step - loss: 0.5361 - accuracy: 0.7980 - val_loss: 0.5239 - val_accuracy: 0.7993\n",
      "Epoch 12/50\n",
      "8/8 [==============================] - 0s 15ms/step - loss: 0.5260 - accuracy: 0.7984 - val_loss: 0.5140 - val_accuracy: 0.7993\n",
      "Epoch 13/50\n",
      "8/8 [==============================] - 0s 15ms/step - loss: 0.5225 - accuracy: 0.7984 - val_loss: 0.5075 - val_accuracy: 0.7993\n",
      "Epoch 14/50\n",
      "8/8 [==============================] - 0s 16ms/step - loss: 0.5167 - accuracy: 0.7984 - val_loss: 0.5041 - val_accuracy: 0.7993\n",
      "Epoch 15/50\n",
      "8/8 [==============================] - 0s 15ms/step - loss: 0.5191 - accuracy: 0.7984 - val_loss: 0.5027 - val_accuracy: 0.7993\n",
      "Epoch 16/50\n",
      "8/8 [==============================] - 0s 15ms/step - loss: 0.5110 - accuracy: 0.7984 - val_loss: 0.5021 - val_accuracy: 0.7993\n",
      "Epoch 17/50\n",
      "8/8 [==============================] - 0s 16ms/step - loss: 0.5134 - accuracy: 0.7984 - val_loss: 0.5020 - val_accuracy: 0.7993\n",
      "Epoch 18/50\n",
      "8/8 [==============================] - 0s 14ms/step - loss: 0.5124 - accuracy: 0.7984 - val_loss: 0.5020 - val_accuracy: 0.7993\n",
      "Epoch 19/50\n",
      "8/8 [==============================] - 0s 16ms/step - loss: 0.5136 - accuracy: 0.7984 - val_loss: 0.5020 - val_accuracy: 0.7993\n",
      "Epoch 20/50\n",
      "8/8 [==============================] - 0s 14ms/step - loss: 0.5127 - accuracy: 0.7984 - val_loss: 0.5021 - val_accuracy: 0.7993\n",
      "Epoch 21/50\n",
      "8/8 [==============================] - 0s 15ms/step - loss: 0.5138 - accuracy: 0.7984 - val_loss: 0.5023 - val_accuracy: 0.7993\n",
      "Epoch 22/50\n",
      "8/8 [==============================] - 0s 15ms/step - loss: 0.5162 - accuracy: 0.7984 - val_loss: 0.5024 - val_accuracy: 0.7993\n",
      "Epoch 23/50\n",
      "8/8 [==============================] - 0s 15ms/step - loss: 0.5127 - accuracy: 0.7984 - val_loss: 0.5023 - val_accuracy: 0.7993\n",
      "Epoch 24/50\n",
      "8/8 [==============================] - 0s 16ms/step - loss: 0.5098 - accuracy: 0.7984 - val_loss: 0.5021 - val_accuracy: 0.7993\n",
      "Epoch 25/50\n",
      "8/8 [==============================] - 0s 15ms/step - loss: 0.5126 - accuracy: 0.7984 - val_loss: 0.5021 - val_accuracy: 0.7993\n",
      "Epoch 26/50\n",
      "8/8 [==============================] - 0s 15ms/step - loss: 0.5090 - accuracy: 0.7984 - val_loss: 0.5020 - val_accuracy: 0.7993\n",
      "Epoch 27/50\n",
      "8/8 [==============================] - 0s 19ms/step - loss: 0.5119 - accuracy: 0.7984 - val_loss: 0.5018 - val_accuracy: 0.7993\n",
      "Epoch 28/50\n",
      "8/8 [==============================] - 0s 15ms/step - loss: 0.5114 - accuracy: 0.7984 - val_loss: 0.5018 - val_accuracy: 0.7993\n",
      "Epoch 29/50\n",
      "8/8 [==============================] - 0s 15ms/step - loss: 0.5091 - accuracy: 0.7984 - val_loss: 0.5017 - val_accuracy: 0.7993\n",
      "Epoch 30/50\n",
      "8/8 [==============================] - 0s 15ms/step - loss: 0.5110 - accuracy: 0.7984 - val_loss: 0.5017 - val_accuracy: 0.7993\n",
      "Epoch 31/50\n",
      "8/8 [==============================] - 0s 15ms/step - loss: 0.5114 - accuracy: 0.7984 - val_loss: 0.5018 - val_accuracy: 0.7993\n",
      "Epoch 32/50\n",
      "8/8 [==============================] - 0s 15ms/step - loss: 0.5109 - accuracy: 0.7984 - val_loss: 0.5019 - val_accuracy: 0.7993\n",
      "Epoch 33/50\n",
      "8/8 [==============================] - 0s 15ms/step - loss: 0.5089 - accuracy: 0.7984 - val_loss: 0.5019 - val_accuracy: 0.7993\n",
      "Epoch 34/50\n",
      "8/8 [==============================] - 0s 15ms/step - loss: 0.5091 - accuracy: 0.7984 - val_loss: 0.5017 - val_accuracy: 0.7993\n",
      "Epoch 35/50\n",
      "8/8 [==============================] - 0s 16ms/step - loss: 0.5086 - accuracy: 0.7984 - val_loss: 0.5017 - val_accuracy: 0.7993\n",
      "Epoch 36/50\n",
      "8/8 [==============================] - 0s 16ms/step - loss: 0.5063 - accuracy: 0.7984 - val_loss: 0.5015 - val_accuracy: 0.7993\n",
      "Epoch 37/50\n",
      "8/8 [==============================] - 0s 16ms/step - loss: 0.5066 - accuracy: 0.7984 - val_loss: 0.5015 - val_accuracy: 0.7993\n",
      "Epoch 38/50\n",
      "8/8 [==============================] - 0s 15ms/step - loss: 0.5080 - accuracy: 0.7984 - val_loss: 0.5015 - val_accuracy: 0.7993\n",
      "Epoch 39/50\n",
      "8/8 [==============================] - 0s 15ms/step - loss: 0.5059 - accuracy: 0.7984 - val_loss: 0.5015 - val_accuracy: 0.7993\n",
      "Epoch 40/50\n",
      "8/8 [==============================] - 0s 15ms/step - loss: 0.5095 - accuracy: 0.7984 - val_loss: 0.5015 - val_accuracy: 0.7993\n",
      "Epoch 41/50\n",
      "8/8 [==============================] - 0s 15ms/step - loss: 0.5083 - accuracy: 0.7984 - val_loss: 0.5015 - val_accuracy: 0.7993\n",
      "Epoch 42/50\n",
      "8/8 [==============================] - 0s 15ms/step - loss: 0.5073 - accuracy: 0.7984 - val_loss: 0.5016 - val_accuracy: 0.7993\n",
      "Epoch 43/50\n",
      "8/8 [==============================] - 0s 14ms/step - loss: 0.5052 - accuracy: 0.7984 - val_loss: 0.5016 - val_accuracy: 0.7993\n",
      "Epoch 44/50\n",
      "8/8 [==============================] - 0s 15ms/step - loss: 0.5070 - accuracy: 0.7984 - val_loss: 0.5015 - val_accuracy: 0.7993\n",
      "Epoch 45/50\n",
      "8/8 [==============================] - 0s 14ms/step - loss: 0.5090 - accuracy: 0.7984 - val_loss: 0.5015 - val_accuracy: 0.7993\n",
      "Epoch 46/50\n",
      "8/8 [==============================] - 0s 16ms/step - loss: 0.5081 - accuracy: 0.7984 - val_loss: 0.5016 - val_accuracy: 0.7993\n",
      "Epoch 47/50\n",
      "8/8 [==============================] - 0s 14ms/step - loss: 0.5061 - accuracy: 0.7984 - val_loss: 0.5015 - val_accuracy: 0.7993\n",
      "Epoch 48/50\n",
      "8/8 [==============================] - 0s 14ms/step - loss: 0.5080 - accuracy: 0.7984 - val_loss: 0.5016 - val_accuracy: 0.7993\n",
      "Epoch 49/50\n",
      "8/8 [==============================] - 0s 15ms/step - loss: 0.5088 - accuracy: 0.7984 - val_loss: 0.5016 - val_accuracy: 0.7993\n",
      "Epoch 50/50\n",
      "8/8 [==============================] - 0s 14ms/step - loss: 0.5063 - accuracy: 0.7984 - val_loss: 0.5016 - val_accuracy: 0.7993\n"
     ]
    }
   ],
   "source": [
    "   # This adds the input layer (by specifying input dimension) AND the first hidden layer (units)\n",
    "Model2.add(Dense(units=16, input_dim = 10,activation='relu'))   # input of 29 columns as shown above\n",
    "\n",
    "Model2.add(Dropout(0.5))\n",
    "Model2.add(Dense(65, kernel_initializer='he_normal', activation='relu'))\n",
    "Model2.add(Dropout(0.5))\n",
    "Model2.add(Dense(1, kernel_initializer='he_normal', activation='sigmoid'))\n",
    "\n",
    "Model2.compile(Adam(lr=0.001), loss='binary_crossentropy', metrics=['accuracy'])\n",
    "    \n",
    "his_mod2= Model2.fit(X_train, y_train, validation_split=0.2, batch_size=700, epochs=50, callbacks=[es], shuffle=True, verbose=1)"
   ]
  },
  {
   "cell_type": "code",
   "execution_count": 882,
   "metadata": {
    "colab": {
     "base_uri": "https://localhost:8080/"
    },
    "id": "1ooFNDOKJLdc",
    "outputId": "1ecc831e-439f-43e6-96ff-15b4a7ff6c99"
   },
   "outputs": [
    {
     "name": "stdout",
     "output_type": "stream",
     "text": [
      "Model: \"sequential_6\"\n",
      "_________________________________________________________________\n",
      " Layer (type)                Output Shape              Param #   \n",
      "=================================================================\n",
      " dropout (Dropout)           (None, 10)                0         \n",
      "                                                                 \n",
      " dense_31 (Dense)            (None, 65)                715       \n",
      "                                                                 \n",
      " dropout_1 (Dropout)         (None, 65)                0         \n",
      "                                                                 \n",
      " dense_32 (Dense)            (None, 1)                 66        \n",
      "                                                                 \n",
      " dropout_2 (Dropout)         multiple                  0         \n",
      "                                                                 \n",
      " dense_34 (Dense)            multiple                  130       \n",
      "                                                                 \n",
      " dropout_3 (Dropout)         multiple                  0         \n",
      "                                                                 \n",
      " dense_35 (Dense)            multiple                  66        \n",
      "                                                                 \n",
      " dense_36 (Dense)            multiple                  32        \n",
      "                                                                 \n",
      " dropout_4 (Dropout)         multiple                  0         \n",
      "                                                                 \n",
      " dense_37 (Dense)            multiple                  1105      \n",
      "                                                                 \n",
      " dropout_5 (Dropout)         multiple                  0         \n",
      "                                                                 \n",
      " dense_38 (Dense)            multiple                  66        \n",
      "                                                                 \n",
      " dense_85 (Dense)            (None, 16)                32        \n",
      "                                                                 \n",
      " dropout_6 (Dropout)         (None, 16)                0         \n",
      "                                                                 \n",
      " dense_86 (Dense)            (None, 65)                1105      \n",
      "                                                                 \n",
      " dropout_7 (Dropout)         (None, 65)                0         \n",
      "                                                                 \n",
      " dense_87 (Dense)            (None, 1)                 66        \n",
      "                                                                 \n",
      " dense_108 (Dense)           (None, 16)                32        \n",
      "                                                                 \n",
      " dropout_8 (Dropout)         (None, 16)                0         \n",
      "                                                                 \n",
      " dense_109 (Dense)           (None, 65)                1105      \n",
      "                                                                 \n",
      " dropout_9 (Dropout)         (None, 65)                0         \n",
      "                                                                 \n",
      " dense_110 (Dense)           (None, 1)                 66        \n",
      "                                                                 \n",
      " dense_131 (Dense)           (None, 16)                32        \n",
      "                                                                 \n",
      " dropout_10 (Dropout)        (None, 16)                0         \n",
      "                                                                 \n",
      " dense_132 (Dense)           (None, 65)                1105      \n",
      "                                                                 \n",
      " dropout_11 (Dropout)        (None, 65)                0         \n",
      "                                                                 \n",
      " dense_133 (Dense)           (None, 1)                 66        \n",
      "                                                                 \n",
      " dense_154 (Dense)           (None, 16)                32        \n",
      "                                                                 \n",
      " dropout_12 (Dropout)        (None, 16)                0         \n",
      "                                                                 \n",
      " dense_155 (Dense)           (None, 65)                1105      \n",
      "                                                                 \n",
      " dropout_13 (Dropout)        (None, 65)                0         \n",
      "                                                                 \n",
      " dense_156 (Dense)           (None, 1)                 66        \n",
      "                                                                 \n",
      "=================================================================\n",
      "Total params: 6,992\n",
      "Trainable params: 6,992\n",
      "Non-trainable params: 0\n",
      "_________________________________________________________________\n"
     ]
    }
   ],
   "source": [
    "Model2.summary()"
   ]
  },
  {
   "cell_type": "code",
   "execution_count": 883,
   "metadata": {
    "colab": {
     "base_uri": "https://localhost:8080/",
     "height": 285
    },
    "id": "pRk71JOg_iQX",
    "outputId": "6e0d5df9-1a28-465f-98d9-2d1f7d1dcd9e"
   },
   "outputs": [
    {
     "data": {
      "text/plain": [
       "<matplotlib.legend.Legend at 0x7f7d38c9bf10>"
      ]
     },
     "execution_count": 883,
     "metadata": {},
     "output_type": "execute_result"
    },
    {
     "data": {
      "image/png": "[encoded data removed]",
      "text/plain": [
       "<Figure size 432x288 with 1 Axes>"
      ]
     },
     "metadata": {},
     "output_type": "display_data"
    }
   ],
   "source": [
    "# Capturing learning history per epoch\n",
    "hist  = pd.DataFrame(his_mod2.history)\n",
    "hist['epoch'] = his_mod2.epoch\n",
    "\n",
    "# Plotting accuracy at different epochs\n",
    "plt.plot(hist['loss'])\n",
    "plt.plot(hist['val_loss'])\n",
    "plt.legend((\"train\" , \"valid\") , loc =0)"
   ]
  },
  {
   "cell_type": "markdown",
   "metadata": {
    "id": "v15RzUzaJnbH"
   },
   "source": [
    "After Building the model with Adam Optimizer (Model-2) Early stopping, the overfitting was reduced to an extent.\n",
    "\n",
    "\n"
   ]
  },
  {
   "cell_type": "code",
   "execution_count": 884,
   "metadata": {
    "colab": {
     "base_uri": "https://localhost:8080/"
    },
    "id": "5t8OovnIAicQ",
    "outputId": "677c2b5c-8d12-4852-ae00-5ba1d1baf732"
   },
   "outputs": [
    {
     "name": "stdout",
     "output_type": "stream",
     "text": [
      "94/94 [==============================] - 0s 2ms/step - loss: 0.5126 - accuracy: 0.7910\n"
     ]
    },
    {
     "data": {
      "text/plain": [
       "[0.5126290917396545, 0.7910000085830688]"
      ]
     },
     "execution_count": 884,
     "metadata": {},
     "output_type": "execute_result"
    }
   ],
   "source": [
    "# Using above defined function to get accuracy, recall and precision on train and test set\n",
    "Model2.evaluate(X_test,y_test)"
   ]
  },
  {
   "cell_type": "markdown",
   "metadata": {
    "id": "lYeZd65zBT0P"
   },
   "source": [
    "# Observation\n",
    "\n",
    "1. As you can see here the accuracy of the model increased. But we are also interested on the improvement on recall. So, let us try another Neural network"
   ]
  },
  {
   "cell_type": "markdown",
   "metadata": {
    "id": "ZoLMKvDxNSjn"
   },
   "source": [
    "# Model-3\n",
    "# BatchNormalization"
   ]
  },
  {
   "cell_type": "code",
   "execution_count": 885,
   "metadata": {
    "colab": {
     "base_uri": "https://localhost:8080/"
    },
    "id": "xAQ5LICgQRq3",
    "outputId": "b49bb575-bee3-4b86-88fe-6c4b7bc8e43b"
   },
   "outputs": [
    {
     "name": "stdout",
     "output_type": "stream",
     "text": [
      "Epoch 1/50\n",
      "8/8 [==============================] - 1s 30ms/step - loss: 0.5929 - accuracy: 0.7464 - val_loss: 0.6476 - val_accuracy: 0.7093\n",
      "Epoch 2/50\n",
      "8/8 [==============================] - 0s 7ms/step - loss: 0.4903 - accuracy: 0.7986 - val_loss: 0.6140 - val_accuracy: 0.7471\n",
      "Epoch 3/50\n",
      "8/8 [==============================] - 0s 7ms/step - loss: 0.4325 - accuracy: 0.8259 - val_loss: 0.5876 - val_accuracy: 0.7850\n",
      "Epoch 4/50\n",
      "8/8 [==============================] - 0s 8ms/step - loss: 0.4011 - accuracy: 0.8407 - val_loss: 0.5668 - val_accuracy: 0.8071\n",
      "Epoch 5/50\n",
      "8/8 [==============================] - 0s 7ms/step - loss: 0.3809 - accuracy: 0.8471 - val_loss: 0.5469 - val_accuracy: 0.8114\n",
      "Epoch 6/50\n",
      "8/8 [==============================] - 0s 7ms/step - loss: 0.3672 - accuracy: 0.8537 - val_loss: 0.5291 - val_accuracy: 0.8129\n",
      "Epoch 7/50\n",
      "8/8 [==============================] - 0s 8ms/step - loss: 0.3568 - accuracy: 0.8545 - val_loss: 0.5162 - val_accuracy: 0.8221\n",
      "Epoch 8/50\n",
      "8/8 [==============================] - 0s 7ms/step - loss: 0.3493 - accuracy: 0.8584 - val_loss: 0.4990 - val_accuracy: 0.8300\n",
      "Epoch 9/50\n",
      "8/8 [==============================] - 0s 8ms/step - loss: 0.3428 - accuracy: 0.8605 - val_loss: 0.4827 - val_accuracy: 0.8357\n",
      "Epoch 10/50\n",
      "8/8 [==============================] - 0s 13ms/step - loss: 0.3382 - accuracy: 0.8598 - val_loss: 0.4692 - val_accuracy: 0.8350\n",
      "Epoch 11/50\n",
      "8/8 [==============================] - 0s 8ms/step - loss: 0.3337 - accuracy: 0.8618 - val_loss: 0.4536 - val_accuracy: 0.8371\n",
      "Epoch 12/50\n",
      "8/8 [==============================] - 0s 8ms/step - loss: 0.3308 - accuracy: 0.8636 - val_loss: 0.4403 - val_accuracy: 0.8421\n",
      "Epoch 13/50\n",
      "8/8 [==============================] - 0s 8ms/step - loss: 0.3286 - accuracy: 0.8634 - val_loss: 0.4284 - val_accuracy: 0.8436\n",
      "Epoch 14/50\n",
      "8/8 [==============================] - 0s 8ms/step - loss: 0.3258 - accuracy: 0.8646 - val_loss: 0.4209 - val_accuracy: 0.8436\n",
      "Epoch 15/50\n",
      "8/8 [==============================] - 0s 7ms/step - loss: 0.3251 - accuracy: 0.8643 - val_loss: 0.4131 - val_accuracy: 0.8493\n",
      "Epoch 16/50\n",
      "8/8 [==============================] - 0s 7ms/step - loss: 0.3213 - accuracy: 0.8680 - val_loss: 0.4062 - val_accuracy: 0.8486\n",
      "Epoch 17/50\n",
      "8/8 [==============================] - 0s 9ms/step - loss: 0.3194 - accuracy: 0.8661 - val_loss: 0.3994 - val_accuracy: 0.8486\n",
      "Epoch 18/50\n",
      "8/8 [==============================] - 0s 7ms/step - loss: 0.3178 - accuracy: 0.8664 - val_loss: 0.3931 - val_accuracy: 0.8479\n",
      "Epoch 19/50\n",
      "8/8 [==============================] - 0s 8ms/step - loss: 0.3173 - accuracy: 0.8661 - val_loss: 0.3881 - val_accuracy: 0.8450\n",
      "Epoch 20/50\n",
      "8/8 [==============================] - 0s 7ms/step - loss: 0.3159 - accuracy: 0.8648 - val_loss: 0.3839 - val_accuracy: 0.8457\n",
      "Epoch 21/50\n",
      "8/8 [==============================] - 0s 7ms/step - loss: 0.3137 - accuracy: 0.8680 - val_loss: 0.3784 - val_accuracy: 0.8486\n",
      "Epoch 22/50\n",
      "8/8 [==============================] - 0s 8ms/step - loss: 0.3131 - accuracy: 0.8664 - val_loss: 0.3768 - val_accuracy: 0.8457\n",
      "Epoch 23/50\n",
      "8/8 [==============================] - 0s 7ms/step - loss: 0.3116 - accuracy: 0.8680 - val_loss: 0.3733 - val_accuracy: 0.8436\n",
      "Epoch 24/50\n",
      "8/8 [==============================] - 0s 7ms/step - loss: 0.3096 - accuracy: 0.8686 - val_loss: 0.3684 - val_accuracy: 0.8457\n",
      "Epoch 25/50\n",
      "8/8 [==============================] - 0s 8ms/step - loss: 0.3083 - accuracy: 0.8705 - val_loss: 0.3679 - val_accuracy: 0.8486\n",
      "Epoch 26/50\n",
      "8/8 [==============================] - 0s 9ms/step - loss: 0.3075 - accuracy: 0.8677 - val_loss: 0.3655 - val_accuracy: 0.8443\n",
      "Epoch 27/50\n",
      "8/8 [==============================] - 0s 7ms/step - loss: 0.3076 - accuracy: 0.8680 - val_loss: 0.3598 - val_accuracy: 0.8493\n",
      "Epoch 28/50\n",
      "8/8 [==============================] - 0s 7ms/step - loss: 0.3051 - accuracy: 0.8695 - val_loss: 0.3612 - val_accuracy: 0.8479\n",
      "Epoch 29/50\n",
      "8/8 [==============================] - 0s 8ms/step - loss: 0.3044 - accuracy: 0.8687 - val_loss: 0.3592 - val_accuracy: 0.8457\n",
      "Epoch 30/50\n",
      "8/8 [==============================] - 0s 8ms/step - loss: 0.3015 - accuracy: 0.8730 - val_loss: 0.3556 - val_accuracy: 0.8479\n",
      "Epoch 31/50\n",
      "8/8 [==============================] - 0s 7ms/step - loss: 0.3011 - accuracy: 0.8709 - val_loss: 0.3562 - val_accuracy: 0.8471\n",
      "Epoch 32/50\n",
      "8/8 [==============================] - 0s 8ms/step - loss: 0.3008 - accuracy: 0.8707 - val_loss: 0.3531 - val_accuracy: 0.8457\n",
      "Epoch 33/50\n",
      "8/8 [==============================] - 0s 8ms/step - loss: 0.3005 - accuracy: 0.8716 - val_loss: 0.3533 - val_accuracy: 0.8471\n",
      "Epoch 34/50\n",
      "8/8 [==============================] - 0s 7ms/step - loss: 0.2988 - accuracy: 0.8729 - val_loss: 0.3510 - val_accuracy: 0.8464\n",
      "Epoch 35/50\n",
      "8/8 [==============================] - 0s 8ms/step - loss: 0.2973 - accuracy: 0.8716 - val_loss: 0.3498 - val_accuracy: 0.8450\n",
      "Epoch 36/50\n",
      "8/8 [==============================] - 0s 7ms/step - loss: 0.2976 - accuracy: 0.8720 - val_loss: 0.3509 - val_accuracy: 0.8450\n",
      "Epoch 37/50\n",
      "8/8 [==============================] - 0s 8ms/step - loss: 0.2975 - accuracy: 0.8730 - val_loss: 0.3452 - val_accuracy: 0.8507\n",
      "Epoch 38/50\n",
      "8/8 [==============================] - 0s 7ms/step - loss: 0.2955 - accuracy: 0.8709 - val_loss: 0.3471 - val_accuracy: 0.8436\n",
      "Epoch 39/50\n",
      "8/8 [==============================] - 0s 8ms/step - loss: 0.2936 - accuracy: 0.8734 - val_loss: 0.3448 - val_accuracy: 0.8471\n",
      "Epoch 40/50\n",
      "8/8 [==============================] - 0s 10ms/step - loss: 0.2941 - accuracy: 0.8721 - val_loss: 0.3452 - val_accuracy: 0.8507\n",
      "Epoch 41/50\n",
      "8/8 [==============================] - 0s 8ms/step - loss: 0.2933 - accuracy: 0.8714 - val_loss: 0.3464 - val_accuracy: 0.8471\n",
      "Epoch 42/50\n",
      "8/8 [==============================] - 0s 8ms/step - loss: 0.2916 - accuracy: 0.8727 - val_loss: 0.3436 - val_accuracy: 0.8471\n",
      "Epoch 43/50\n",
      "8/8 [==============================] - 0s 7ms/step - loss: 0.2898 - accuracy: 0.8729 - val_loss: 0.3442 - val_accuracy: 0.8457\n",
      "Epoch 44/50\n",
      "8/8 [==============================] - 0s 8ms/step - loss: 0.2896 - accuracy: 0.8732 - val_loss: 0.3434 - val_accuracy: 0.8457\n",
      "Epoch 45/50\n",
      "8/8 [==============================] - 0s 8ms/step - loss: 0.2878 - accuracy: 0.8743 - val_loss: 0.3420 - val_accuracy: 0.8471\n",
      "Epoch 46/50\n",
      "8/8 [==============================] - 0s 7ms/step - loss: 0.2872 - accuracy: 0.8773 - val_loss: 0.3424 - val_accuracy: 0.8536\n",
      "Epoch 47/50\n",
      "8/8 [==============================] - 0s 7ms/step - loss: 0.2856 - accuracy: 0.8764 - val_loss: 0.3433 - val_accuracy: 0.8471\n",
      "Epoch 48/50\n",
      "8/8 [==============================] - 0s 8ms/step - loss: 0.2858 - accuracy: 0.8750 - val_loss: 0.3414 - val_accuracy: 0.8500\n",
      "Epoch 49/50\n",
      "8/8 [==============================] - 0s 7ms/step - loss: 0.2842 - accuracy: 0.8754 - val_loss: 0.3427 - val_accuracy: 0.8493\n",
      "Epoch 50/50\n",
      "8/8 [==============================] - 0s 9ms/step - loss: 0.2863 - accuracy: 0.8752 - val_loss: 0.3443 - val_accuracy: 0.8507\n"
     ]
    }
   ],
   "source": [
    "Model4 = Sequential()\n",
    "\n",
    "\n",
    "\n",
    "\n",
    "# This adds the input layer (by specifying input dimension) AND the first hidden layer (units)\n",
    "Model4.add(Dense(units=16, input_dim = 10,activation='relu'))   # input of 29 columns as shown above\n",
    "\n",
    "Model4.add(Dense(64, kernel_initializer='he_normal', activation='relu'))\n",
    "Model4.add(Dense(64, kernel_initializer='he_normal', activation='relu'))\n",
    "Model4.add(BatchNormalization())\n",
    "Model4.add(Dense(32, activation='relu',kernel_initializer='uniform'))\n",
    "Model4.add(Dense(1, activation='sigmoid'))\n",
    "\n",
    "\n",
    "\n",
    "\n",
    "\n",
    "Model4.compile(Adam(lr=0.001), loss='binary_crossentropy', metrics=['accuracy'])\n",
    "    \n",
    "his_mod3= Model4.fit(X_train, y_train, validation_split=0.2, batch_size=700, epochs=50, callbacks=[es], shuffle=True, verbose=1)"
   ]
  },
  {
   "cell_type": "code",
   "execution_count": 886,
   "metadata": {
    "colab": {
     "base_uri": "https://localhost:8080/"
    },
    "id": "zlqygg0FQWK-",
    "outputId": "c4678a85-dbc0-4293-f68b-da097e180b51"
   },
   "outputs": [
    {
     "name": "stdout",
     "output_type": "stream",
     "text": [
      "Model: \"sequential_25\"\n",
      "_________________________________________________________________\n",
      " Layer (type)                Output Shape              Param #   \n",
      "=================================================================\n",
      " dense_157 (Dense)           (None, 16)                176       \n",
      "                                                                 \n",
      " dense_158 (Dense)           (None, 64)                1088      \n",
      "                                                                 \n",
      " dense_159 (Dense)           (None, 64)                4160      \n",
      "                                                                 \n",
      " batch_normalization_17 (Bat  (None, 64)               256       \n",
      " chNormalization)                                                \n",
      "                                                                 \n",
      " dense_160 (Dense)           (None, 32)                2080      \n",
      "                                                                 \n",
      " dense_161 (Dense)           (None, 1)                 33        \n",
      "                                                                 \n",
      "=================================================================\n",
      "Total params: 7,793\n",
      "Trainable params: 7,665\n",
      "Non-trainable params: 128\n",
      "_________________________________________________________________\n"
     ]
    }
   ],
   "source": [
    "Model4.summary()"
   ]
  },
  {
   "cell_type": "code",
   "execution_count": 887,
   "metadata": {
    "colab": {
     "base_uri": "https://localhost:8080/",
     "height": 285
    },
    "id": "97G-EI-_ROuN",
    "outputId": "00bbd787-a759-4cb7-c409-b964e88212cf"
   },
   "outputs": [
    {
     "data": {
      "text/plain": [
       "<matplotlib.legend.Legend at 0x7f7d34ed0750>"
      ]
     },
     "execution_count": 887,
     "metadata": {},
     "output_type": "execute_result"
    },
    {
     "data": {
      "image/png": "[encoded data removed]",
      "text/plain": [
       "<Figure size 432x288 with 1 Axes>"
      ]
     },
     "metadata": {},
     "output_type": "display_data"
    }
   ],
   "source": [
    "# Capturing learning history per epoch\n",
    "hist  = pd.DataFrame(his_mod3.history)\n",
    "hist['epoch'] = his_mod3.epoch\n",
    "\n",
    "# Plotting accuracy at different epochs\n",
    "plt.plot(hist['loss'])\n",
    "plt.plot(hist['val_loss'])\n",
    "plt.legend((\"train\" , \"valid\") , loc =0)"
   ]
  },
  {
   "cell_type": "code",
   "execution_count": 888,
   "metadata": {
    "colab": {
     "base_uri": "https://localhost:8080/"
    },
    "id": "1YnOIx7rEdjL",
    "outputId": "1449587e-a602-4064-b3b5-68843e7db56e"
   },
   "outputs": [
    {
     "name": "stdout",
     "output_type": "stream",
     "text": [
      "94/94 [==============================] - 0s 2ms/step - loss: 0.3532 - accuracy: 0.8597\n"
     ]
    },
    {
     "data": {
      "text/plain": [
       "[0.3532194495201111, 0.859666645526886]"
      ]
     },
     "execution_count": 888,
     "metadata": {},
     "output_type": "execute_result"
    }
   ],
   "source": [
    "# Using above defined function to get accuracy, recall and precision on train and test set\n",
    "Model4.evaluate(X_test,y_test)"
   ]
  },
  {
   "cell_type": "markdown",
   "metadata": {
    "id": "dnScgS6uES2m"
   },
   "source": [
    "# Model5: \n",
    "Now, I am going to use Acitvations(tanh) on all hidden layers"
   ]
  },
  {
   "cell_type": "code",
   "execution_count": 889,
   "metadata": {
    "colab": {
     "base_uri": "https://localhost:8080/"
    },
    "id": "Caq50BfiGF3v",
    "outputId": "69d0bcbf-1cc7-425a-8eac-02cbb154d532"
   },
   "outputs": [
    {
     "name": "stdout",
     "output_type": "stream",
     "text": [
      "Epoch 1/50\n",
      "8/8 [==============================] - 0s 12ms/step - loss: 0.2831 - accuracy: 0.8779 - val_loss: 0.3441 - val_accuracy: 0.8514\n",
      "Epoch 2/50\n",
      "8/8 [==============================] - 0s 7ms/step - loss: 0.2836 - accuracy: 0.8775 - val_loss: 0.3430 - val_accuracy: 0.8529\n",
      "Epoch 3/50\n",
      "8/8 [==============================] - 0s 8ms/step - loss: 0.2821 - accuracy: 0.8773 - val_loss: 0.3417 - val_accuracy: 0.8493\n",
      "Epoch 4/50\n",
      "8/8 [==============================] - 0s 11ms/step - loss: 0.2794 - accuracy: 0.8791 - val_loss: 0.3415 - val_accuracy: 0.8550\n",
      "Epoch 5/50\n",
      "8/8 [==============================] - 0s 8ms/step - loss: 0.2802 - accuracy: 0.8793 - val_loss: 0.3434 - val_accuracy: 0.8536\n",
      "Epoch 6/50\n",
      "8/8 [==============================] - 0s 10ms/step - loss: 0.2801 - accuracy: 0.8789 - val_loss: 0.3420 - val_accuracy: 0.8500\n",
      "Epoch 7/50\n",
      "8/8 [==============================] - 0s 8ms/step - loss: 0.2784 - accuracy: 0.8805 - val_loss: 0.3474 - val_accuracy: 0.8529\n",
      "Epoch 8/50\n",
      "8/8 [==============================] - 0s 8ms/step - loss: 0.2772 - accuracy: 0.8811 - val_loss: 0.3420 - val_accuracy: 0.8536\n",
      "Epoch 9/50\n",
      "8/8 [==============================] - 0s 8ms/step - loss: 0.2772 - accuracy: 0.8786 - val_loss: 0.3464 - val_accuracy: 0.8543\n",
      "Epoch 10/50\n",
      "8/8 [==============================] - 0s 8ms/step - loss: 0.2768 - accuracy: 0.8825 - val_loss: 0.3445 - val_accuracy: 0.8514\n",
      "Epoch 11/50\n",
      "8/8 [==============================] - 0s 7ms/step - loss: 0.2749 - accuracy: 0.8814 - val_loss: 0.3456 - val_accuracy: 0.8529\n",
      "Epoch 12/50\n",
      "8/8 [==============================] - 0s 8ms/step - loss: 0.2745 - accuracy: 0.8827 - val_loss: 0.3492 - val_accuracy: 0.8514\n",
      "Epoch 13/50\n",
      "8/8 [==============================] - 0s 7ms/step - loss: 0.2734 - accuracy: 0.8832 - val_loss: 0.3491 - val_accuracy: 0.8536\n",
      "Epoch 14/50\n",
      "8/8 [==============================] - 0s 7ms/step - loss: 0.2722 - accuracy: 0.8839 - val_loss: 0.3509 - val_accuracy: 0.8521\n",
      "Epoch 15/50\n",
      "8/8 [==============================] - 0s 8ms/step - loss: 0.2733 - accuracy: 0.8820 - val_loss: 0.3470 - val_accuracy: 0.8579\n",
      "Epoch 16/50\n",
      "8/8 [==============================] - 0s 8ms/step - loss: 0.2719 - accuracy: 0.8814 - val_loss: 0.3523 - val_accuracy: 0.8536\n",
      "Epoch 17/50\n",
      "8/8 [==============================] - 0s 7ms/step - loss: 0.2697 - accuracy: 0.8850 - val_loss: 0.3521 - val_accuracy: 0.8543\n",
      "Epoch 18/50\n",
      "8/8 [==============================] - 0s 9ms/step - loss: 0.2698 - accuracy: 0.8839 - val_loss: 0.3517 - val_accuracy: 0.8550\n",
      "Epoch 19/50\n",
      "8/8 [==============================] - 0s 10ms/step - loss: 0.2694 - accuracy: 0.8848 - val_loss: 0.3554 - val_accuracy: 0.8507\n"
     ]
    }
   ],
   "source": [
    "Model5 = Sequential()\n",
    "\n",
    "\n",
    "\n",
    "# This adds the input layer (by specifying input dimension) AND the first hidden layer (units)\n",
    "Model5.add(Dense(units=16, input_dim = 10,activation='relu'))   # input of 29 columns as shown above\n",
    "\n",
    "Model5.add(Dense(64, kernel_initializer='he_normal', activation='tanh'))\n",
    "Model5.add(Dense(64, kernel_initializer='he_normal', activation='tanh'))\n",
    "Model5.add(BatchNormalization())\n",
    "Model5.add(Dense(32, activation='relu',kernel_initializer='uniform'), )\n",
    "Model5.add(Dense(1, activation='sigmoid'))\n",
    "\n",
    "\n",
    "\n",
    "\n",
    "\n",
    "Model5.compile(Adam(lr=0.001), loss='binary_crossentropy', metrics=['accuracy'])\n",
    "    \n",
    "his_mod4= Model4.fit(X_train, y_train, validation_split=0.2, batch_size=700, epochs=50, callbacks=[es], shuffle=True, verbose=1)"
   ]
  },
  {
   "cell_type": "code",
   "execution_count": 890,
   "metadata": {
    "colab": {
     "base_uri": "https://localhost:8080/"
    },
    "id": "FCMPl36GGrbS",
    "outputId": "1121c0d2-df64-4a69-900d-9a25ed470d1a"
   },
   "outputs": [
    {
     "name": "stdout",
     "output_type": "stream",
     "text": [
      "Model: \"sequential_26\"\n",
      "_________________________________________________________________\n",
      " Layer (type)                Output Shape              Param #   \n",
      "=================================================================\n",
      " dense_162 (Dense)           (None, 16)                176       \n",
      "                                                                 \n",
      " dense_163 (Dense)           (None, 64)                1088      \n",
      "                                                                 \n",
      " dense_164 (Dense)           (None, 64)                4160      \n",
      "                                                                 \n",
      " batch_normalization_18 (Bat  (None, 64)               256       \n",
      " chNormalization)                                                \n",
      "                                                                 \n",
      " dense_165 (Dense)           (None, 32)                2080      \n",
      "                                                                 \n",
      " dense_166 (Dense)           (None, 1)                 33        \n",
      "                                                                 \n",
      "=================================================================\n",
      "Total params: 7,793\n",
      "Trainable params: 7,665\n",
      "Non-trainable params: 128\n",
      "_________________________________________________________________\n"
     ]
    }
   ],
   "source": [
    "Model5.summary()"
   ]
  },
  {
   "cell_type": "code",
   "execution_count": 891,
   "metadata": {
    "colab": {
     "base_uri": "https://localhost:8080/",
     "height": 285
    },
    "id": "eo7-0OgkG5Ul",
    "outputId": "3b961fda-a4f9-4f1d-8bc4-03b0afaf7202"
   },
   "outputs": [
    {
     "data": {
      "text/plain": [
       "<matplotlib.legend.Legend at 0x7f7d47ff9b10>"
      ]
     },
     "execution_count": 891,
     "metadata": {},
     "output_type": "execute_result"
    },
    {
     "data": {
      "image/png": "[encoded data removed]",
      "text/plain": [
       "<Figure size 432x288 with 1 Axes>"
      ]
     },
     "metadata": {},
     "output_type": "display_data"
    }
   ],
   "source": [
    "# Capturing learning history per epoch\n",
    "hist  = pd.DataFrame(his_mod4.history)\n",
    "hist['epoch'] = his_mod4.epoch\n",
    "\n",
    "# Plotting accuracy at different epochs\n",
    "plt.plot(hist['loss'])\n",
    "plt.plot(hist['val_loss'])\n",
    "plt.legend((\"train\" , \"valid\") , loc =0)"
   ]
  },
  {
   "cell_type": "code",
   "execution_count": 892,
   "metadata": {
    "colab": {
     "base_uri": "https://localhost:8080/"
    },
    "id": "Sn3eeMmFIqYZ",
    "outputId": "5db07244-fa1d-4b08-ee51-21a30e69c7f6"
   },
   "outputs": [
    {
     "name": "stdout",
     "output_type": "stream",
     "text": [
      "94/94 [==============================] - 0s 2ms/step - loss: 0.6026 - accuracy: 0.7910\n"
     ]
    },
    {
     "data": {
      "text/plain": [
       "[0.6026077270507812, 0.7910000085830688]"
      ]
     },
     "execution_count": 892,
     "metadata": {},
     "output_type": "execute_result"
    }
   ],
   "source": [
    "# Using above defined function to get accuracy, recall and precision on train and test set\n",
    "Model5.evaluate(X_test,y_test)"
   ]
  },
  {
   "cell_type": "markdown",
   "metadata": {
    "id": "AxPN_y__WjPF"
   },
   "source": [
    "The gap between both the loss curves is very high when compared to the previous model. This is an overfitted model.\n",
    "\n"
   ]
  },
  {
   "cell_type": "markdown",
   "metadata": {
    "id": "2Dx2Y2E_HzQ-"
   },
   "source": [
    "# Model6\n",
    "### Let us build one more model with relu and tanh interchangeably."
   ]
  },
  {
   "cell_type": "code",
   "execution_count": 893,
   "metadata": {
    "colab": {
     "base_uri": "https://localhost:8080/"
    },
    "id": "Y1xyo9NZHjmh",
    "outputId": "850d3aeb-ac39-44b7-bb03-5432714b868a"
   },
   "outputs": [
    {
     "name": "stdout",
     "output_type": "stream",
     "text": [
      "Epoch 1/50\n",
      "8/8 [==============================] - 1s 31ms/step - loss: 0.6598 - accuracy: 0.6123 - val_loss: 0.6730 - val_accuracy: 0.6071\n",
      "Epoch 2/50\n",
      "8/8 [==============================] - 0s 9ms/step - loss: 0.5993 - accuracy: 0.7043 - val_loss: 0.7089 - val_accuracy: 0.5236\n",
      "Epoch 3/50\n",
      "8/8 [==============================] - 0s 8ms/step - loss: 0.5508 - accuracy: 0.7527 - val_loss: 0.6893 - val_accuracy: 0.5843\n",
      "Epoch 4/50\n",
      "8/8 [==============================] - 0s 7ms/step - loss: 0.5080 - accuracy: 0.7879 - val_loss: 0.6457 - val_accuracy: 0.6836\n",
      "Epoch 5/50\n",
      "8/8 [==============================] - 0s 8ms/step - loss: 0.4679 - accuracy: 0.8164 - val_loss: 0.5816 - val_accuracy: 0.7964\n",
      "Epoch 6/50\n",
      "8/8 [==============================] - 0s 7ms/step - loss: 0.4327 - accuracy: 0.8321 - val_loss: 0.5290 - val_accuracy: 0.8250\n",
      "Epoch 7/50\n",
      "8/8 [==============================] - 0s 8ms/step - loss: 0.4029 - accuracy: 0.8423 - val_loss: 0.4888 - val_accuracy: 0.8450\n",
      "Epoch 8/50\n",
      "8/8 [==============================] - 0s 7ms/step - loss: 0.3784 - accuracy: 0.8525 - val_loss: 0.4462 - val_accuracy: 0.8457\n",
      "Epoch 9/50\n",
      "8/8 [==============================] - 0s 7ms/step - loss: 0.3615 - accuracy: 0.8579 - val_loss: 0.4194 - val_accuracy: 0.8457\n",
      "Epoch 10/50\n",
      "8/8 [==============================] - 0s 8ms/step - loss: 0.3487 - accuracy: 0.8612 - val_loss: 0.4005 - val_accuracy: 0.8457\n",
      "Epoch 11/50\n",
      "8/8 [==============================] - 0s 7ms/step - loss: 0.3423 - accuracy: 0.8625 - val_loss: 0.3878 - val_accuracy: 0.8414\n",
      "Epoch 12/50\n",
      "8/8 [==============================] - 0s 8ms/step - loss: 0.3359 - accuracy: 0.8630 - val_loss: 0.3832 - val_accuracy: 0.8436\n",
      "Epoch 13/50\n",
      "8/8 [==============================] - 0s 7ms/step - loss: 0.3331 - accuracy: 0.8636 - val_loss: 0.3764 - val_accuracy: 0.8393\n",
      "Epoch 14/50\n",
      "8/8 [==============================] - 0s 8ms/step - loss: 0.3301 - accuracy: 0.8650 - val_loss: 0.3763 - val_accuracy: 0.8414\n",
      "Epoch 15/50\n",
      "8/8 [==============================] - 0s 7ms/step - loss: 0.3296 - accuracy: 0.8662 - val_loss: 0.3696 - val_accuracy: 0.8407\n",
      "Epoch 16/50\n",
      "8/8 [==============================] - 0s 10ms/step - loss: 0.3289 - accuracy: 0.8637 - val_loss: 0.3715 - val_accuracy: 0.8421\n",
      "Epoch 17/50\n",
      "8/8 [==============================] - 0s 8ms/step - loss: 0.3239 - accuracy: 0.8684 - val_loss: 0.3680 - val_accuracy: 0.8421\n",
      "Epoch 18/50\n",
      "8/8 [==============================] - 0s 7ms/step - loss: 0.3231 - accuracy: 0.8661 - val_loss: 0.3670 - val_accuracy: 0.8421\n",
      "Epoch 19/50\n",
      "8/8 [==============================] - 0s 8ms/step - loss: 0.3232 - accuracy: 0.8670 - val_loss: 0.3688 - val_accuracy: 0.8479\n",
      "Epoch 20/50\n",
      "8/8 [==============================] - 0s 8ms/step - loss: 0.3216 - accuracy: 0.8675 - val_loss: 0.3606 - val_accuracy: 0.8436\n",
      "Epoch 21/50\n",
      "8/8 [==============================] - 0s 8ms/step - loss: 0.3204 - accuracy: 0.8677 - val_loss: 0.3633 - val_accuracy: 0.8443\n",
      "Epoch 22/50\n",
      "8/8 [==============================] - 0s 7ms/step - loss: 0.3197 - accuracy: 0.8693 - val_loss: 0.3610 - val_accuracy: 0.8436\n",
      "Epoch 23/50\n",
      "8/8 [==============================] - 0s 7ms/step - loss: 0.3199 - accuracy: 0.8700 - val_loss: 0.3621 - val_accuracy: 0.8471\n",
      "Epoch 24/50\n",
      "8/8 [==============================] - 0s 8ms/step - loss: 0.3167 - accuracy: 0.8695 - val_loss: 0.3575 - val_accuracy: 0.8471\n",
      "Epoch 25/50\n",
      "8/8 [==============================] - 0s 8ms/step - loss: 0.3173 - accuracy: 0.8687 - val_loss: 0.3631 - val_accuracy: 0.8429\n",
      "Epoch 26/50\n",
      "8/8 [==============================] - 0s 7ms/step - loss: 0.3191 - accuracy: 0.8668 - val_loss: 0.3553 - val_accuracy: 0.8464\n",
      "Epoch 27/50\n",
      "8/8 [==============================] - 0s 8ms/step - loss: 0.3174 - accuracy: 0.8680 - val_loss: 0.3585 - val_accuracy: 0.8471\n",
      "Epoch 28/50\n",
      "8/8 [==============================] - 0s 8ms/step - loss: 0.3139 - accuracy: 0.8712 - val_loss: 0.3546 - val_accuracy: 0.8443\n",
      "Epoch 29/50\n",
      "8/8 [==============================] - 0s 8ms/step - loss: 0.3139 - accuracy: 0.8702 - val_loss: 0.3600 - val_accuracy: 0.8457\n",
      "Epoch 30/50\n",
      "8/8 [==============================] - 0s 7ms/step - loss: 0.3122 - accuracy: 0.8716 - val_loss: 0.3522 - val_accuracy: 0.8464\n",
      "Epoch 31/50\n",
      "8/8 [==============================] - 0s 8ms/step - loss: 0.3115 - accuracy: 0.8723 - val_loss: 0.3561 - val_accuracy: 0.8500\n",
      "Epoch 32/50\n",
      "8/8 [==============================] - 0s 8ms/step - loss: 0.3116 - accuracy: 0.8711 - val_loss: 0.3521 - val_accuracy: 0.8493\n",
      "Epoch 33/50\n",
      "8/8 [==============================] - 0s 7ms/step - loss: 0.3133 - accuracy: 0.8709 - val_loss: 0.3574 - val_accuracy: 0.8457\n",
      "Epoch 34/50\n",
      "8/8 [==============================] - 0s 8ms/step - loss: 0.3101 - accuracy: 0.8745 - val_loss: 0.3506 - val_accuracy: 0.8529\n",
      "Epoch 35/50\n",
      "8/8 [==============================] - 0s 7ms/step - loss: 0.3110 - accuracy: 0.8709 - val_loss: 0.3523 - val_accuracy: 0.8507\n",
      "Epoch 36/50\n",
      "8/8 [==============================] - 0s 7ms/step - loss: 0.3125 - accuracy: 0.8723 - val_loss: 0.3564 - val_accuracy: 0.8464\n",
      "Epoch 37/50\n",
      "8/8 [==============================] - 0s 10ms/step - loss: 0.3125 - accuracy: 0.8711 - val_loss: 0.3498 - val_accuracy: 0.8493\n",
      "Epoch 38/50\n",
      "8/8 [==============================] - 0s 7ms/step - loss: 0.3110 - accuracy: 0.8714 - val_loss: 0.3511 - val_accuracy: 0.8486\n",
      "Epoch 39/50\n",
      "8/8 [==============================] - 0s 7ms/step - loss: 0.3063 - accuracy: 0.8736 - val_loss: 0.3528 - val_accuracy: 0.8507\n",
      "Epoch 40/50\n",
      "8/8 [==============================] - 0s 7ms/step - loss: 0.3072 - accuracy: 0.8739 - val_loss: 0.3474 - val_accuracy: 0.8543\n",
      "Epoch 41/50\n",
      "8/8 [==============================] - 0s 8ms/step - loss: 0.3068 - accuracy: 0.8745 - val_loss: 0.3509 - val_accuracy: 0.8479\n",
      "Epoch 42/50\n",
      "8/8 [==============================] - 0s 7ms/step - loss: 0.3069 - accuracy: 0.8721 - val_loss: 0.3518 - val_accuracy: 0.8507\n",
      "Epoch 43/50\n",
      "8/8 [==============================] - 0s 7ms/step - loss: 0.3056 - accuracy: 0.8730 - val_loss: 0.3452 - val_accuracy: 0.8557\n",
      "Epoch 44/50\n",
      "8/8 [==============================] - 0s 7ms/step - loss: 0.3055 - accuracy: 0.8720 - val_loss: 0.3515 - val_accuracy: 0.8479\n",
      "Epoch 45/50\n",
      "8/8 [==============================] - 0s 8ms/step - loss: 0.3049 - accuracy: 0.8737 - val_loss: 0.3465 - val_accuracy: 0.8493\n",
      "Epoch 46/50\n",
      "8/8 [==============================] - 0s 8ms/step - loss: 0.3071 - accuracy: 0.8736 - val_loss: 0.3530 - val_accuracy: 0.8521\n",
      "Epoch 47/50\n",
      "8/8 [==============================] - 0s 8ms/step - loss: 0.3066 - accuracy: 0.8746 - val_loss: 0.3477 - val_accuracy: 0.8471\n",
      "Epoch 48/50\n",
      "8/8 [==============================] - 0s 7ms/step - loss: 0.3058 - accuracy: 0.8743 - val_loss: 0.3487 - val_accuracy: 0.8571\n",
      "Epoch 49/50\n",
      "8/8 [==============================] - 0s 7ms/step - loss: 0.3053 - accuracy: 0.8723 - val_loss: 0.3466 - val_accuracy: 0.8500\n",
      "Epoch 50/50\n",
      "8/8 [==============================] - 0s 7ms/step - loss: 0.3047 - accuracy: 0.8764 - val_loss: 0.3482 - val_accuracy: 0.8464\n"
     ]
    }
   ],
   "source": [
    "Model6 = Sequential()\n",
    "\n",
    "\n",
    "\n",
    "# This adds the input layer (by specifying input dimension) AND the first hidden layer (units)\n",
    "Model6.add(Dense(units=16, input_dim = 10,activation='relu'))   # input of 29 columns as shown above\n",
    "\n",
    "Model6.add(Dense(64, kernel_initializer='he_normal', activation='tanh'))\n",
    "Model6.add(Dense(64, kernel_initializer='he_normal', activation='relu'))\n",
    "Model6.add(BatchNormalization())\n",
    "Model6.add(Dense(32, activation='tanh',kernel_initializer='uniform'), )\n",
    "Model6.add(Dense(1, activation='sigmoid'))\n",
    "\n",
    "\n",
    "\n",
    "Model6.compile(Adam(lr=0.001), loss='binary_crossentropy', metrics=['accuracy'])\n",
    "    \n",
    "his_mod5= Model6.fit(X_train, y_train, validation_split=0.2, batch_size=700, epochs=50, callbacks=[es], shuffle=True, verbose=1)"
   ]
  },
  {
   "cell_type": "code",
   "execution_count": 894,
   "metadata": {
    "colab": {
     "base_uri": "https://localhost:8080/",
     "height": 285
    },
    "id": "PJMHNxnwIcd3",
    "outputId": "ed0cafb6-ca21-4d90-eb52-3aaaf9bc4691"
   },
   "outputs": [
    {
     "data": {
      "text/plain": [
       "<matplotlib.legend.Legend at 0x7f7d34ebbe10>"
      ]
     },
     "execution_count": 894,
     "metadata": {},
     "output_type": "execute_result"
    },
    {
     "data": {
      "image/png": "[encoded data removed]",
      "text/plain": [
       "<Figure size 432x288 with 1 Axes>"
      ]
     },
     "metadata": {},
     "output_type": "display_data"
    }
   ],
   "source": [
    "# Capturing learning history per epoch\n",
    "hist  = pd.DataFrame(his_mod5.history)\n",
    "hist['epoch'] = his_mod5.epoch\n",
    "\n",
    "# Plotting accuracy at different epochs\n",
    "plt.plot(hist['loss'])\n",
    "plt.plot(hist['val_loss'])\n",
    "plt.legend((\"train\" , \"valid\") , loc =0)"
   ]
  },
  {
   "cell_type": "code",
   "execution_count": 895,
   "metadata": {
    "colab": {
     "base_uri": "https://localhost:8080/"
    },
    "id": "p7P6F5MVSiIs",
    "outputId": "abaa42d4-014f-4283-f15a-dcd212cd7f43"
   },
   "outputs": [
    {
     "name": "stdout",
     "output_type": "stream",
     "text": [
      "94/94 [==============================] - 0s 2ms/step - loss: 0.3574 - accuracy: 0.8530\n"
     ]
    },
    {
     "data": {
      "text/plain": [
       "[0.3573685586452484, 0.8529999852180481]"
      ]
     },
     "execution_count": 895,
     "metadata": {},
     "output_type": "execute_result"
    }
   ],
   "source": [
    "# Using above defined function to get accuracy, recall and precision on train and test set\n",
    "Model6.evaluate(X_test,y_test)"
   ]
  },
  {
   "cell_type": "markdown",
   "metadata": {
    "id": "rbozE6oVJYzb"
   },
   "source": [
    "Model Comparison"
   ]
  },
  {
   "cell_type": "code",
   "execution_count": 896,
   "metadata": {
    "colab": {
     "base_uri": "https://localhost:8080/"
    },
    "id": "tTjuNQt0JhQq",
    "outputId": "6d1accdd-aed9-4026-c9b0-56cc200287dc"
   },
   "outputs": [
    {
     "data": {
      "text/plain": [
       "[0.853, 0.4800637958532695, 0.7235576923076923, 0.5771812080536912]"
      ]
     },
     "execution_count": 896,
     "metadata": {},
     "output_type": "execute_result"
    }
   ],
   "source": [
    "get_metrics_score(Model6,y_test,flag=False)"
   ]
  },
  {
   "cell_type": "markdown",
   "metadata": {
    "id": "qXbvODDQYDj_"
   },
   "source": [
    "Comments\n",
    "1. 5 different models with some changes in architecture and Optimizer.\n",
    "2. Model 1 and 2 produced the best recalls. Hence, i choose my model 2 as the best neural network. It has the best recall and accuracy value."
   ]
  },
  {
   "cell_type": "markdown",
   "metadata": {
    "id": "l6Tj1LUnnfk3"
   },
   "source": [
    "# Final conclusion about the analysis\n",
    "\n",
    "1. More than 20% of the active customers left the bank.\n",
    "2. More than 25% of the inactive customers left the bank.\n",
    "3. About 50% of the customers  purchased product 4 through the bank.\n",
    "4. About 44% of the customers  purchased product 2 through the bank.\n",
    "\n"
   ]
  }
 ],
 "metadata": {
  "colab": {
   "collapsed_sections": [],
   "name": "Project 7.ipynb",
   "provenance": []
  },
  "kernelspec": {
   "display_name": "Python 3 (ipykernel)",
   "language": "python",
   "name": "python3"
  },
  "language_info": {
   "codemirror_mode": {
    "name": "ipython",
    "version": 3
   },
   "file_extension": ".py",
   "mimetype": "text/x-python",
   "name": "python",
   "nbconvert_exporter": "python",
   "pygments_lexer": "ipython3",
   "version": "3.8.11"
  }
 },
 "nbformat": 4,
 "nbformat_minor": 1
}
